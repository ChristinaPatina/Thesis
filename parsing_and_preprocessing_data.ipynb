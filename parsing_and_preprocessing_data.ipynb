{
  "nbformat": 4,
  "nbformat_minor": 0,
  "metadata": {
    "colab": {
      "name": "parsing_and_preprocessing_data.ipynb",
      "provenance": [],
      "collapsed_sections": []
    },
    "kernelspec": {
      "name": "python3",
      "display_name": "Python 3"
    },
    "language_info": {
      "codemirror_mode": {
        "name": "ipython",
        "version": 3
      },
      "file_extension": ".py",
      "mimetype": "text/x-python",
      "name": "python",
      "nbconvert_exporter": "python",
      "pygments_lexer": "ipython3",
      "version": "3.7.4"
    },
    "accelerator": "GPU"
  },
  "cells": [
    {
      "cell_type": "code",
      "metadata": {
        "id": "OArVywb16rw7",
        "colab_type": "code",
        "colab": {}
      },
      "source": [
        "#!pip install python-docx \n",
        "#!pip install deeppavlov"
      ],
      "execution_count": 0,
      "outputs": []
    },
    {
      "cell_type": "code",
      "metadata": {
        "colab_type": "code",
        "id": "I4Sg07Wwh7I8",
        "outputId": "d1e90845-c688-4752-b168-f9bae01e7ad1",
        "colab": {
          "base_uri": "https://localhost:8080/",
          "height": 247
        }
      },
      "source": [
        "import deeppavlov\n",
        "from deeppavlov.models.embedders.elmo_embedder import ELMoEmbedder\n",
        "from nltk.tokenize import sent_tokenize, word_tokenize \n",
        "import warnings \n",
        "warnings.filterwarnings(action = 'ignore') \n",
        "import gensim \n",
        "from gensim.models import Word2Vec\n",
        "import codecs\n",
        "import numpy as np\n",
        "import pandas as pd\n",
        "import docx\n",
        "import re\n",
        "import string\n",
        "import nltk\n",
        "nltk.download(\"stopwords\")\n",
        "from nltk.corpus import stopwords\n",
        "from pymystem3 import Mystem"
      ],
      "execution_count": 1,
      "outputs": [
        {
          "output_type": "stream",
          "text": [
            "[nltk_data] Downloading package punkt to /root/nltk_data...\n",
            "[nltk_data]   Package punkt is already up-to-date!\n",
            "[nltk_data] Downloading package stopwords to /root/nltk_data...\n",
            "[nltk_data]   Package stopwords is already up-to-date!\n",
            "[nltk_data] Downloading package perluniprops to /root/nltk_data...\n",
            "[nltk_data]   Package perluniprops is already up-to-date!\n",
            "[nltk_data] Downloading package nonbreaking_prefixes to\n",
            "[nltk_data]     /root/nltk_data...\n",
            "[nltk_data]   Package nonbreaking_prefixes is already up-to-date!\n"
          ],
          "name": "stderr"
        },
        {
          "output_type": "display_data",
          "data": {
            "text/html": [
              "<p style=\"color: red;\">\n",
              "The default version of TensorFlow in Colab will soon switch to TensorFlow 2.x.<br>\n",
              "We recommend you <a href=\"https://www.tensorflow.org/guide/migrate\" target=\"_blank\">upgrade</a> now \n",
              "or ensure your notebook will continue to use TensorFlow 1.x via the <code>%tensorflow_version 1.x</code> magic:\n",
              "<a href=\"https://colab.research.google.com/notebooks/tensorflow_version.ipynb\" target=\"_blank\">more info</a>.</p>\n"
            ],
            "text/plain": [
              "<IPython.core.display.HTML object>"
            ]
          },
          "metadata": {
            "tags": []
          }
        },
        {
          "output_type": "stream",
          "text": [
            "[nltk_data] Downloading package stopwords to /root/nltk_data...\n",
            "[nltk_data]   Package stopwords is already up-to-date!\n"
          ],
          "name": "stdout"
        }
      ]
    },
    {
      "cell_type": "code",
      "metadata": {
        "id": "EsYfHnR96_wv",
        "colab_type": "code",
        "colab": {
          "base_uri": "https://localhost:8080/",
          "height": 121
        },
        "outputId": "767d318a-c580-44ca-cafa-2bcaaefccdcb"
      },
      "source": [
        "from google.colab import drive\n",
        "drive.mount('/content/drive/')"
      ],
      "execution_count": 6,
      "outputs": [
        {
          "output_type": "stream",
          "text": [
            "Go to this URL in a browser: https://accounts.google.com/o/oauth2/auth?client_id=947318989803-6bn6qk8qdgf4n4g3pfee6491hc0brc4i.apps.googleusercontent.com&redirect_uri=urn%3aietf%3awg%3aoauth%3a2.0%3aoob&response_type=code&scope=email%20https%3a%2f%2fwww.googleapis.com%2fauth%2fdocs.test%20https%3a%2f%2fwww.googleapis.com%2fauth%2fdrive%20https%3a%2f%2fwww.googleapis.com%2fauth%2fdrive.photos.readonly%20https%3a%2f%2fwww.googleapis.com%2fauth%2fpeopleapi.readonly\n",
            "\n",
            "Enter your authorization code:\n",
            "··········\n",
            "Mounted at /content/drive/\n"
          ],
          "name": "stdout"
        }
      ]
    },
    {
      "cell_type": "markdown",
      "metadata": {
        "id": "D9rnFclr6rxL",
        "colab_type": "text"
      },
      "source": [
        "## Содержание.\n",
        "\n",
        "**ТК состоит из 6 частей, 12 разделов, 62 глав и 424 статей(не считая подпункты, например Статья 330.3).** \n",
        "\n",
        "ЧАСТЬ 1.\n",
        "\n",
        "* Раздел I.\n",
        "\n",
        "Глава 1.(ст.1-14) Глава 2.(ст.15-22)\n",
        "\n",
        "ЧАСТЬ 2.\n",
        "\n",
        "* Раздел II.\n",
        "\n",
        "Глава 3.(ст.23-28) Глава 4.(ст.29-34) Глава 5.(ст.35) \n",
        "Глава 6.(ст.36-39)Глава 7.(ст.40-51) Глава 8.(ст.52-53)\n",
        "Глава 9.(ст.54-55)\n",
        "\n",
        "ЧАСТЬ 3.\n",
        "\n",
        "* Раздел III.\n",
        "\n",
        "Глава 10.(ст.56-62) Глава 11.(ст.63-71) Глава 12.(ст.72-76)\n",
        "Глава 13.(ст.77-84) Глава 14.(ст.85-90)\n",
        "\n",
        "* Раздел IV. \n",
        "\n",
        "Глава 15.(ст.91-99) Глава 16.(ст.100-105)\n",
        "\n",
        "* Раздел V. \n",
        "\n",
        "Глава 17.(ст.106-107) Глава 18.(ст.108-113) Глава 19.(ст.114-128)\n",
        "\n",
        "* Раздел VI.\n",
        "\n",
        "Глава 20.(ст.129-132) Глава 21.(ст.133-158) Глава 22.(ст.159-163)\n",
        "\n",
        "* Раздел VII.\n",
        "\n",
        "Глава 23.(ст.164-166) Глава 24.(ст.167-169) Глава 25.(ст.170-172) \n",
        "Глава 26.(ст.173-177) Глава 27.(ст.178-181) Глава 28.(ст.182-188)\n",
        "\n",
        "* Раздел VIII.\n",
        "\n",
        "Глава 29.(ст.189-190) Глава 30.(ст.191-195)\n",
        "\n",
        "* Раздел VIX.\n",
        "\n",
        "Глава 31.(ст.195.1-197) Глава 32.(ст.198-208)\n",
        "\n",
        "* Раздел X.\n",
        "\n",
        "Глава 33.(ст.209-210) Глава 34.(ст.211-215)\n",
        "Глава 35.(ст.216-218) Глава 36.(ст.219-231)\n",
        "\n",
        "* Раздел XI.\n",
        "\n",
        "Глава 37.(ст.232-233) Глава 38.(ст.234-237)\n",
        "Глава 39.(ст.238-250)\n",
        "\n",
        "ЧАСТЬ 4.\n",
        "\n",
        "* Раздел XII.\n",
        "\n",
        "Глава 40.(ст.251-252) Глава 41.(ст.253-264) Глава 42.(ст.265-272)\n",
        "Глава 43.(ст.273-281) Глава 44.(ст.282-288) Глава 45.(ст.289-292)\n",
        "Глава 46.(ст.293-296) Глава 47.(ст.297-302) Глава 48.(ст.303-309) \n",
        "Глава 49.(ст.310-312) Глава 49.1.(ст.312.1-312.5) \n",
        "Глава 50.(ст.313-327) Глава 51.(ст.328-330) \n",
        "Глава 51.1.(ст.330.1-330.5) Глава 52.(ст.331-336) \n",
        "Глава 53.(ст.337-341) Глава 54.(ст.342-348) \n",
        "Глава 54-1.(ст.348.1-348.12) Глава 55.(ст.349-351.2)\n",
        "\n",
        "ЧАСТЬ 5.\n",
        "\n",
        "* Раздел XIII.\n",
        "\n",
        "Глава 56.(ст.352) Глава 57.(ст.353-369) Глава 58.(ст.370-378)\n",
        "Глава 59.(ст.379-380) Глава 60.(ст.381-398) Глава 61.(ст.399-418) \n",
        "Глава 62.(ст.419)\n",
        "\n",
        "ЧАСТЬ 6.\n",
        "\n",
        "* Раздел XIV.\n",
        "(ст.420-424)"
      ]
    },
    {
      "cell_type": "markdown",
      "metadata": {
        "id": "VH8mSGrC6rxN",
        "colab_type": "text"
      },
      "source": [
        "## Чтение ТК"
      ]
    },
    {
      "cell_type": "code",
      "metadata": {
        "colab_type": "code",
        "id": "zwunIvF_p2Uu",
        "colab": {}
      },
      "source": [
        "document = docx.Document(\"drive/My Drive/LabourCode.docx\")\n",
        "text = []\n",
        "chapter = ''\n",
        "for paragraph in document.paragraphs:\n",
        "    if paragraph.text!='':\n",
        "        if paragraph.text.startswith('Статья') and chapter!='':\n",
        "            text.append(chapter)\n",
        "            chapter = ''\n",
        "        if paragraph.text.endswith(('.',';',':')):\n",
        "            chapter = chapter + paragraph.text\n",
        "        else:\n",
        "            chapter = chapter + paragraph.text + '. '"
      ],
      "execution_count": 0,
      "outputs": []
    },
    {
      "cell_type": "code",
      "metadata": {
        "colab_type": "code",
        "collapsed": true,
        "id": "qpndJrxhsUQp",
        "jupyter": {
          "outputs_hidden": true
        },
        "colab": {}
      },
      "source": [
        "labourcode = text[1:]"
      ],
      "execution_count": 0,
      "outputs": []
    },
    {
      "cell_type": "code",
      "metadata": {
        "colab_type": "code",
        "id": "pFQwJw4PwFx0",
        "colab": {}
      },
      "source": [
        "pattern = re.compile(r\"^Статья ([\\d|\\.]+)\\. (.*)$\")\n",
        "data = {}\n",
        "for article in labourcode:\n",
        "    d = re.findall(pattern, article)\n",
        "    if len(d)!=0:\n",
        "        data[d[0][0]] = d[0][1]"
      ],
      "execution_count": 0,
      "outputs": []
    },
    {
      "cell_type": "code",
      "metadata": {
        "colab_type": "code",
        "id": "d0qCo70O1rXO",
        "colab": {}
      },
      "source": [
        "lc = {'article №': list(data.keys()), 'text': list(data.values()), 'clean text': list(data.values())}"
      ],
      "execution_count": 0,
      "outputs": []
    },
    {
      "cell_type": "code",
      "metadata": {
        "id": "GedNSyg99qUX",
        "colab_type": "code",
        "colab": {}
      },
      "source": [
        "import collections"
      ],
      "execution_count": 0,
      "outputs": []
    },
    {
      "cell_type": "code",
      "metadata": {
        "colab_type": "code",
        "id": "DxWZhlobv34L",
        "colab": {}
      },
      "source": [
        "df = pd.DataFrame(lc)"
      ],
      "execution_count": 0,
      "outputs": []
    },
    {
      "cell_type": "markdown",
      "metadata": {
        "id": "uwwUt_WX6ryD",
        "colab_type": "text"
      },
      "source": [
        "## Preprocessing"
      ]
    },
    {
      "cell_type": "code",
      "metadata": {
        "id": "G1hukn_f7kJR",
        "colab_type": "code",
        "colab": {
          "base_uri": "https://localhost:8080/",
          "height": 67
        },
        "outputId": "2d5f027d-bea0-4556-cc5b-bb5721a3b056"
      },
      "source": [
        "#nltk.download('punkt')"
      ],
      "execution_count": 12,
      "outputs": [
        {
          "output_type": "stream",
          "text": [
            "[nltk_data] Downloading package punkt to /root/nltk_data...\n",
            "[nltk_data]   Unzipping tokenizers/punkt.zip.\n"
          ],
          "name": "stdout"
        },
        {
          "output_type": "execute_result",
          "data": {
            "text/plain": [
              "True"
            ]
          },
          "metadata": {
            "tags": []
          },
          "execution_count": 12
        }
      ]
    },
    {
      "cell_type": "code",
      "metadata": {
        "colab_type": "code",
        "id": "RDMcAlUE7i9h",
        "colab": {}
      },
      "source": [
        "def preprocess_text(text, mystem=Mystem(entire_input=False)):\n",
        "    #russian_stopwords = stopwords.words(\"russian\")\n",
        "    punctuation = '!\"#$%&()*+-/<=>?@[\\]^_`{|}~'\n",
        "    text = text.lower()\n",
        "    for s in punctuation:\n",
        "        text = text.replace(s, '')\n",
        "    text = text.replace('[:;]', '.')\n",
        "    tokens = nltk.word_tokenize(text)\n",
        "    #tokens = [token for token in tokens if token not in russian_stopwords\\\n",
        "    #          and token != \" \"]\n",
        "    #text = \" \".join(tokens)\n",
        "    return text"
      ],
      "execution_count": 0,
      "outputs": []
    },
    {
      "cell_type": "code",
      "metadata": {
        "id": "OzOc7A0Z6ryJ",
        "colab_type": "code",
        "colab": {}
      },
      "source": [
        "for i in range(len(df['clean text'])):\n",
        "    df['clean text'][i] = preprocess_text(df['clean text'][i])"
      ],
      "execution_count": 0,
      "outputs": []
    },
    {
      "cell_type": "code",
      "metadata": {
        "id": "Wxk2I1Kf6ryT",
        "colab_type": "code",
        "colab": {
          "base_uri": "https://localhost:8080/",
          "height": 343
        },
        "outputId": "60cd11c1-64ef-45be-ee31-845d75a28397"
      },
      "source": [
        "df.sample(10)"
      ],
      "execution_count": 10,
      "outputs": [
        {
          "output_type": "execute_result",
          "data": {
            "text/html": [
              "<div>\n",
              "<style scoped>\n",
              "    .dataframe tbody tr th:only-of-type {\n",
              "        vertical-align: middle;\n",
              "    }\n",
              "\n",
              "    .dataframe tbody tr th {\n",
              "        vertical-align: top;\n",
              "    }\n",
              "\n",
              "    .dataframe thead th {\n",
              "        text-align: right;\n",
              "    }\n",
              "</style>\n",
              "<table border=\"1\" class=\"dataframe\">\n",
              "  <thead>\n",
              "    <tr style=\"text-align: right;\">\n",
              "      <th></th>\n",
              "      <th>article №</th>\n",
              "      <th>text</th>\n",
              "      <th>clean text</th>\n",
              "    </tr>\n",
              "  </thead>\n",
              "  <tbody>\n",
              "    <tr>\n",
              "      <th>267</th>\n",
              "      <td>242</td>\n",
              "      <td>Полная материальная ответственность работника....</td>\n",
              "      <td>полная материальная ответственность работника....</td>\n",
              "    </tr>\n",
              "    <tr>\n",
              "      <th>269</th>\n",
              "      <td>244</td>\n",
              "      <td>Письменные договоры о полной материальной отве...</td>\n",
              "      <td>письменные договоры о полной материальной отве...</td>\n",
              "    </tr>\n",
              "    <tr>\n",
              "      <th>128</th>\n",
              "      <td>117</td>\n",
              "      <td>Ежегодный дополнительный оплачиваемый отпуск р...</td>\n",
              "      <td>ежегодный дополнительный оплачиваемый отпуск р...</td>\n",
              "    </tr>\n",
              "    <tr>\n",
              "      <th>362</th>\n",
              "      <td>327</td>\n",
              "      <td>Другие гарантии и компенсации. Гарантии и комп...</td>\n",
              "      <td>другие гарантии и компенсации. гарантии и комп...</td>\n",
              "    </tr>\n",
              "    <tr>\n",
              "      <th>302</th>\n",
              "      <td>274</td>\n",
              "      <td>Правовые основы регулирования труда руководите...</td>\n",
              "      <td>правовые основы регулирования труда руководите...</td>\n",
              "    </tr>\n",
              "    <tr>\n",
              "      <th>92</th>\n",
              "      <td>82</td>\n",
              "      <td>Обязательное участие выборного органа первично...</td>\n",
              "      <td>обязательное участие выборного органа первично...</td>\n",
              "    </tr>\n",
              "    <tr>\n",
              "      <th>258</th>\n",
              "      <td>233</td>\n",
              "      <td>Условия наступления материальной ответственнос...</td>\n",
              "      <td>условия наступления материальной ответственнос...</td>\n",
              "    </tr>\n",
              "    <tr>\n",
              "      <th>388</th>\n",
              "      <td>337</td>\n",
              "      <td>Органы, направляющие работников в дипломатичес...</td>\n",
              "      <td>органы, направляющие работников в дипломатичес...</td>\n",
              "    </tr>\n",
              "    <tr>\n",
              "      <th>27</th>\n",
              "      <td>27</td>\n",
              "      <td>Формы социального партнерства. Социальное парт...</td>\n",
              "      <td>формы социального партнерства. социальное парт...</td>\n",
              "    </tr>\n",
              "    <tr>\n",
              "      <th>439</th>\n",
              "      <td>359</td>\n",
              "      <td>Независимость государственных инспекторов труд...</td>\n",
              "      <td>независимость государственных инспекторов труд...</td>\n",
              "    </tr>\n",
              "  </tbody>\n",
              "</table>\n",
              "</div>"
            ],
            "text/plain": [
              "    article №  ...                                         clean text\n",
              "267       242  ...  полная материальная ответственность работника....\n",
              "269       244  ...  письменные договоры о полной материальной отве...\n",
              "128       117  ...  ежегодный дополнительный оплачиваемый отпуск р...\n",
              "362       327  ...  другие гарантии и компенсации. гарантии и комп...\n",
              "302       274  ...  правовые основы регулирования труда руководите...\n",
              "92         82  ...  обязательное участие выборного органа первично...\n",
              "258       233  ...  условия наступления материальной ответственнос...\n",
              "388       337  ...  органы, направляющие работников в дипломатичес...\n",
              "27         27  ...  формы социального партнерства. социальное парт...\n",
              "439       359  ...  независимость государственных инспекторов труд...\n",
              "\n",
              "[10 rows x 3 columns]"
            ]
          },
          "metadata": {
            "tags": []
          },
          "execution_count": 10
        }
      ]
    },
    {
      "cell_type": "code",
      "metadata": {
        "id": "QUsZ8NQI6ryc",
        "colab_type": "code",
        "colab": {}
      },
      "source": [
        "#import tensorflow.compat.v1 as tf\n",
        "#tf.disable_v2_behavior()"
      ],
      "execution_count": 0,
      "outputs": []
    },
    {
      "cell_type": "code",
      "metadata": {
        "id": "I2LXc-zO6ryg",
        "colab_type": "code",
        "colab": {
          "base_uri": "https://localhost:8080/",
          "height": 356
        },
        "outputId": "fcd2ddf3-57c5-4d0f-c6c0-a3150014dfb3"
      },
      "source": [
        "elmo1 = ELMoEmbedder(\"http://files.deeppavlov.ai/deeppavlov_data/elmo_ru-wiki_600k_steps.tar.gz\")"
      ],
      "execution_count": 11,
      "outputs": [
        {
          "output_type": "stream",
          "text": [
            "Using TensorFlow backend.\n"
          ],
          "name": "stderr"
        },
        {
          "output_type": "stream",
          "text": [
            "WARNING:tensorflow:From /usr/local/lib/python3.6/dist-packages/deeppavlov/models/embedders/elmo_embedder.py:186: The name tf.ConfigProto is deprecated. Please use tf.compat.v1.ConfigProto instead.\n",
            "\n"
          ],
          "name": "stdout"
        },
        {
          "output_type": "stream",
          "text": [
            "WARNING:tensorflow:From /usr/local/lib/python3.6/dist-packages/deeppavlov/models/embedders/elmo_embedder.py:186: The name tf.ConfigProto is deprecated. Please use tf.compat.v1.ConfigProto instead.\n",
            "\n"
          ],
          "name": "stderr"
        },
        {
          "output_type": "stream",
          "text": [
            "WARNING:tensorflow:From /usr/local/lib/python3.6/dist-packages/deeppavlov/models/embedders/elmo_embedder.py:188: The name tf.Session is deprecated. Please use tf.compat.v1.Session instead.\n",
            "\n"
          ],
          "name": "stdout"
        },
        {
          "output_type": "stream",
          "text": [
            "WARNING:tensorflow:From /usr/local/lib/python3.6/dist-packages/deeppavlov/models/embedders/elmo_embedder.py:188: The name tf.Session is deprecated. Please use tf.compat.v1.Session instead.\n",
            "\n"
          ],
          "name": "stderr"
        },
        {
          "output_type": "stream",
          "text": [
            "WARNING:tensorflow:From /usr/local/lib/python3.6/dist-packages/deeppavlov/models/embedders/elmo_embedder.py:190: The name tf.placeholder is deprecated. Please use tf.compat.v1.placeholder instead.\n",
            "\n"
          ],
          "name": "stdout"
        },
        {
          "output_type": "stream",
          "text": [
            "WARNING:tensorflow:From /usr/local/lib/python3.6/dist-packages/deeppavlov/models/embedders/elmo_embedder.py:190: The name tf.placeholder is deprecated. Please use tf.compat.v1.placeholder instead.\n",
            "\n"
          ],
          "name": "stderr"
        },
        {
          "output_type": "stream",
          "text": [
            "INFO:tensorflow:Saver not created because there are no variables in the graph to restore\n"
          ],
          "name": "stdout"
        },
        {
          "output_type": "stream",
          "text": [
            "INFO:tensorflow:Saver not created because there are no variables in the graph to restore\n"
          ],
          "name": "stderr"
        },
        {
          "output_type": "stream",
          "text": [
            "WARNING:tensorflow:From /usr/local/lib/python3.6/dist-packages/deeppavlov/models/embedders/elmo_embedder.py:198: The name tf.global_variables_initializer is deprecated. Please use tf.compat.v1.global_variables_initializer instead.\n",
            "\n"
          ],
          "name": "stdout"
        },
        {
          "output_type": "stream",
          "text": [
            "WARNING:tensorflow:From /usr/local/lib/python3.6/dist-packages/deeppavlov/models/embedders/elmo_embedder.py:198: The name tf.global_variables_initializer is deprecated. Please use tf.compat.v1.global_variables_initializer instead.\n",
            "\n"
          ],
          "name": "stderr"
        }
      ]
    },
    {
      "cell_type": "code",
      "metadata": {
        "id": "5RjUwMce6ryq",
        "colab_type": "code",
        "colab": {
          "base_uri": "https://localhost:8080/",
          "height": 50
        },
        "outputId": "742f09be-4756-4d4d-dead-2bbec1947721"
      },
      "source": [
        "sent1 = elmo1([['вопрос', 'жизни', 'Вселенной', 'и', 'вообще', 'всего']])\n",
        "sent1"
      ],
      "execution_count": 32,
      "outputs": [
        {
          "output_type": "execute_result",
          "data": {
            "text/plain": [
              "array([[-0.22791581,  0.07285882, -0.4693267 , ...,  0.32489085,\n",
              "         0.16321455, -0.15760408]], dtype=float32)"
            ]
          },
          "metadata": {
            "tags": []
          },
          "execution_count": 32
        }
      ]
    },
    {
      "cell_type": "code",
      "metadata": {
        "id": "YuueBIuq6ry5",
        "colab_type": "code",
        "colab": {
          "base_uri": "https://localhost:8080/",
          "height": 34
        },
        "outputId": "d4059681-7ad9-4b10-ec12-3681df98527a"
      },
      "source": [
        "sent1.shape"
      ],
      "execution_count": 33,
      "outputs": [
        {
          "output_type": "execute_result",
          "data": {
            "text/plain": [
              "(1, 1024)"
            ]
          },
          "metadata": {
            "tags": []
          },
          "execution_count": 33
        }
      ]
    },
    {
      "cell_type": "code",
      "metadata": {
        "id": "9EEsv1-lIKQa",
        "colab_type": "code",
        "colab": {
          "base_uri": "https://localhost:8080/",
          "height": 50
        },
        "outputId": "2af6b479-2f1c-4628-87a0-e7c75b7d6ffa"
      },
      "source": [
        "sent2 = elmo1([['вопрос', 'жизни', ',', 'Вселенной', 'и', 'вообще', 'всего', '.']])\n",
        "sent2"
      ],
      "execution_count": 34,
      "outputs": [
        {
          "output_type": "execute_result",
          "data": {
            "text/plain": [
              "array([[-0.3336712 ,  0.13309552, -0.5554824 , ...,  0.29246017,\n",
              "         0.12042639, -0.05358402]], dtype=float32)"
            ]
          },
          "metadata": {
            "tags": []
          },
          "execution_count": 34
        }
      ]
    },
    {
      "cell_type": "code",
      "metadata": {
        "id": "7AYS1nve6ry-",
        "colab_type": "code",
        "colab": {}
      },
      "source": [
        "import tensorflow as tf\n",
        "import tensorflow_hub as hub\n",
        "elmo = hub.Module(\"http://files.deeppavlov.ai/deeppavlov_data/elmo_ru-wiki_600k_steps.tar.gz\", trainable=True)"
      ],
      "execution_count": 0,
      "outputs": []
    },
    {
      "cell_type": "code",
      "metadata": {
        "id": "V3czQQgX6rzM",
        "colab_type": "code",
        "colab": {}
      },
      "source": [
        "def elmo_vector(x):\n",
        "    embeddings = elmo([x], signature=\"default\", as_dict=True)[\"elmo\"]\n",
        "    #x.tolist()\n",
        "    with tf.Session() as sess:\n",
        "        sess.run(tf.global_variables_initializer())\n",
        "        sess.run(tf.tables_initializer())\n",
        "        # return average of ELMo features\n",
        "        # 1 means: compute mean for 1 tensor(sentence)\n",
        "        return sess.run(tf.reduce_mean(embeddings,1))"
      ],
      "execution_count": 0,
      "outputs": []
    },
    {
      "cell_type": "code",
      "metadata": {
        "id": "Ujb95fEi6rzQ",
        "colab_type": "code",
        "colab": {
          "base_uri": "https://localhost:8080/",
          "height": 84
        },
        "outputId": "87419c02-3cb9-46e3-da3f-8fc37c78e6af"
      },
      "source": [
        "elmo_vector('вопрос жизни вселенной и вообще всего')"
      ],
      "execution_count": 26,
      "outputs": [
        {
          "output_type": "stream",
          "text": [
            "INFO:tensorflow:Saver not created because there are no variables in the graph to restore\n"
          ],
          "name": "stdout"
        },
        {
          "output_type": "stream",
          "text": [
            "INFO:tensorflow:Saver not created because there are no variables in the graph to restore\n"
          ],
          "name": "stderr"
        },
        {
          "output_type": "execute_result",
          "data": {
            "text/plain": [
              "array([[-0.2599415 ,  0.08881932, -0.38537216, ...,  0.2884396 ,\n",
              "         0.07476638, -0.21447879]], dtype=float32)"
            ]
          },
          "metadata": {
            "tags": []
          },
          "execution_count": 26
        }
      ]
    },
    {
      "cell_type": "code",
      "metadata": {
        "id": "t1YXtO1yHLZ0",
        "colab_type": "code",
        "colab": {
          "base_uri": "https://localhost:8080/",
          "height": 84
        },
        "outputId": "41191f20-7136-4b1f-9251-49433ae0b01d"
      },
      "source": [
        "elmo_vector('вопрос жизни, вселенной и вообще всего')"
      ],
      "execution_count": 30,
      "outputs": [
        {
          "output_type": "stream",
          "text": [
            "INFO:tensorflow:Saver not created because there are no variables in the graph to restore\n"
          ],
          "name": "stdout"
        },
        {
          "output_type": "stream",
          "text": [
            "INFO:tensorflow:Saver not created because there are no variables in the graph to restore\n"
          ],
          "name": "stderr"
        },
        {
          "output_type": "execute_result",
          "data": {
            "text/plain": [
              "array([[-0.21550333,  0.09075397, -0.3813815 , ...,  0.26505098,\n",
              "         0.0987668 , -0.24937247]], dtype=float32)"
            ]
          },
          "metadata": {
            "tags": []
          },
          "execution_count": 30
        }
      ]
    },
    {
      "cell_type": "code",
      "metadata": {
        "id": "0aQW99Vz6rzV",
        "colab_type": "code",
        "colab": {
          "base_uri": "https://localhost:8080/",
          "height": 84
        },
        "outputId": "c1ccfbc2-31de-47a0-c7a8-793584e94dfa"
      },
      "source": [
        "elmo_vector('Вопрос жизни Вселенной и вообще всего')"
      ],
      "execution_count": 27,
      "outputs": [
        {
          "output_type": "stream",
          "text": [
            "INFO:tensorflow:Saver not created because there are no variables in the graph to restore\n"
          ],
          "name": "stdout"
        },
        {
          "output_type": "stream",
          "text": [
            "INFO:tensorflow:Saver not created because there are no variables in the graph to restore\n"
          ],
          "name": "stderr"
        },
        {
          "output_type": "execute_result",
          "data": {
            "text/plain": [
              "array([[-0.3138059 ,  0.13712965, -0.40971747, ...,  0.3414384 ,\n",
              "         0.3544406 , -0.0948571 ]], dtype=float32)"
            ]
          },
          "metadata": {
            "tags": []
          },
          "execution_count": 27
        }
      ]
    },
    {
      "cell_type": "code",
      "metadata": {
        "id": "RppBM-67BOEK",
        "colab_type": "code",
        "colab": {
          "base_uri": "https://localhost:8080/",
          "height": 84
        },
        "outputId": "a1ae1721-a8a0-4d86-e7b4-f36e1ca924f2"
      },
      "source": [
        "elmo_vector('Вопрос жизни, Вселенной и вообще всего!')"
      ],
      "execution_count": 28,
      "outputs": [
        {
          "output_type": "stream",
          "text": [
            "INFO:tensorflow:Saver not created because there are no variables in the graph to restore\n"
          ],
          "name": "stdout"
        },
        {
          "output_type": "stream",
          "text": [
            "INFO:tensorflow:Saver not created because there are no variables in the graph to restore\n"
          ],
          "name": "stderr"
        },
        {
          "output_type": "execute_result",
          "data": {
            "text/plain": [
              "array([[-0.29900718,  0.10649759, -0.52120763, ...,  0.6242679 ,\n",
              "         0.4439025 , -0.09051215]], dtype=float32)"
            ]
          },
          "metadata": {
            "tags": []
          },
          "execution_count": 28
        }
      ]
    }
  ]
}