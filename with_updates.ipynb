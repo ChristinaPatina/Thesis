{
  "nbformat": 4,
  "nbformat_minor": 0,
  "metadata": {
    "colab": {
      "name": "with_updates.ipynb",
      "provenance": [],
      "collapsed_sections": []
    },
    "kernelspec": {
      "name": "python3",
      "display_name": "Python 3"
    },
    "language_info": {
      "codemirror_mode": {
        "name": "ipython",
        "version": 3
      },
      "file_extension": ".py",
      "mimetype": "text/x-python",
      "name": "python",
      "nbconvert_exporter": "python",
      "pygments_lexer": "ipython3",
      "version": "3.7.4"
    },
    "accelerator": "GPU"
  },
  "cells": [
    {
      "cell_type": "code",
      "metadata": {
        "id": "OArVywb16rw7",
        "colab_type": "code",
        "outputId": "0d78d89a-8c18-4847-dda5-16b78c39f8a9",
        "colab": {
          "base_uri": "https://localhost:8080/",
          "height": 1000
        }
      },
      "source": [
        "!pip install python-docx \n",
        "!pip install deeppavlov\n",
        "!pip install kmapper\n",
        "!pip install chart-studio\n",
        "!pip install persim\n",
        "!pip install cython\n",
        "!pip install ripser"
      ],
      "execution_count": 2,
      "outputs": [
        {
          "output_type": "stream",
          "text": [
            "Collecting python-docx\n",
            "\u001b[?25l  Downloading https://files.pythonhosted.org/packages/e4/83/c66a1934ed5ed8ab1dbb9931f1779079f8bca0f6bbc5793c06c4b5e7d671/python-docx-0.8.10.tar.gz (5.5MB)\n",
            "\u001b[K     |████████████████████████████████| 5.5MB 16.2MB/s \n",
            "\u001b[?25hRequirement already satisfied: lxml>=2.3.2 in /usr/local/lib/python3.6/dist-packages (from python-docx) (4.2.6)\n",
            "Building wheels for collected packages: python-docx\n",
            "  Building wheel for python-docx (setup.py) ... \u001b[?25l\u001b[?25hdone\n",
            "  Created wheel for python-docx: filename=python_docx-0.8.10-cp36-none-any.whl size=184491 sha256=fe68664f5088da7b4f8342fd4be2e2d4385e56f8ddd3fdce677791b122300eef\n",
            "  Stored in directory: /root/.cache/pip/wheels/18/0b/a0/1dd62ff812c857c9e487f27d80d53d2b40531bec1acecfa47b\n",
            "Successfully built python-docx\n",
            "Installing collected packages: python-docx\n",
            "Successfully installed python-docx-0.8.10\n",
            "Collecting deeppavlov\n",
            "\u001b[?25l  Downloading https://files.pythonhosted.org/packages/49/ff/8e6ad196e1bc732f6967452b2a245345aa72c1b8007d6ddf95c7f60a04e4/deeppavlov-0.8.0-py3-none-any.whl (750kB)\n",
            "\u001b[K     |████████████████████████████████| 757kB 11.3MB/s \n",
            "\u001b[?25hCollecting pymorphy2==0.8\n",
            "\u001b[?25l  Downloading https://files.pythonhosted.org/packages/a3/33/fff9675c68b5f6c63ec8c6e6ff57827dda28a1fa5b2c2d727dffff92dd47/pymorphy2-0.8-py2.py3-none-any.whl (46kB)\n",
            "\u001b[K     |████████████████████████████████| 51kB 8.7MB/s \n",
            "\u001b[?25hCollecting pymorphy2-dicts-ru\n",
            "\u001b[?25l  Downloading https://files.pythonhosted.org/packages/7c/9b/358faaff410f65a4ad159275e897b5956dcb20576c5b8e764b971c1634d7/pymorphy2_dicts_ru-2.4.404381.4453942-py2.py3-none-any.whl (8.0MB)\n",
            "\u001b[K     |████████████████████████████████| 8.0MB 18.9MB/s \n",
            "\u001b[?25hCollecting scikit-learn==0.21.2\n",
            "\u001b[?25l  Downloading https://files.pythonhosted.org/packages/85/04/49633f490f726da6e454fddc8e938bbb5bfed2001681118d3814c219b723/scikit_learn-0.21.2-cp36-cp36m-manylinux1_x86_64.whl (6.7MB)\n",
            "\u001b[K     |████████████████████████████████| 6.7MB 52.3MB/s \n",
            "\u001b[?25hCollecting pytelegrambotapi==3.6.7\n",
            "\u001b[?25l  Downloading https://files.pythonhosted.org/packages/62/ab/99c606f69fcda57e35788b913dd34c9d9acb48dd26349141b3855dcf6351/pyTelegramBotAPI-3.6.7.tar.gz (65kB)\n",
            "\u001b[K     |████████████████████████████████| 71kB 12.1MB/s \n",
            "\u001b[?25hCollecting fastapi==0.47.1\n",
            "\u001b[?25l  Downloading https://files.pythonhosted.org/packages/a3/a7/4804d7abf8a1544d079d50650af872387154ebdac5bd07d54b2e60e2b334/fastapi-0.47.1-py3-none-any.whl (43kB)\n",
            "\u001b[K     |████████████████████████████████| 51kB 8.6MB/s \n",
            "\u001b[?25hCollecting numpy==1.18.0\n",
            "\u001b[?25l  Downloading https://files.pythonhosted.org/packages/92/e6/45f71bd24f4e37629e9db5fb75caab919507deae6a5a257f9e4685a5f931/numpy-1.18.0-cp36-cp36m-manylinux1_x86_64.whl (20.1MB)\n",
            "\u001b[K     |████████████████████████████████| 20.1MB 159kB/s \n",
            "\u001b[?25hRequirement already satisfied: scipy==1.4.1 in /usr/local/lib/python3.6/dist-packages (from deeppavlov) (1.4.1)\n",
            "Collecting nltk==3.4.5\n",
            "\u001b[?25l  Downloading https://files.pythonhosted.org/packages/f6/1d/d925cfb4f324ede997f6d47bea4d9babba51b49e87a767c170b77005889d/nltk-3.4.5.zip (1.5MB)\n",
            "\u001b[K     |████████████████████████████████| 1.5MB 48.5MB/s \n",
            "\u001b[?25hCollecting uvicorn==0.11.1\n",
            "\u001b[?25l  Downloading https://files.pythonhosted.org/packages/8e/24/11f4b4bf3963ead6de570feeae49eeced02f6768cf1f68e16f4b16d3b0aa/uvicorn-0.11.1-py3-none-any.whl (42kB)\n",
            "\u001b[K     |████████████████████████████████| 51kB 8.1MB/s \n",
            "\u001b[?25hCollecting pyopenssl==19.1.0\n",
            "\u001b[?25l  Downloading https://files.pythonhosted.org/packages/9e/de/f8342b68fa9e981d348039954657bdf681b2ab93de27443be51865ffa310/pyOpenSSL-19.1.0-py2.py3-none-any.whl (53kB)\n",
            "\u001b[K     |████████████████████████████████| 61kB 10.5MB/s \n",
            "\u001b[?25hCollecting pydantic==1.3\n",
            "\u001b[?25l  Downloading https://files.pythonhosted.org/packages/99/24/e78cf017628e7eaed20cb040999b1ecc69f872da53dfd0d9aed40c0fa5f1/pydantic-1.3-cp36-cp36m-manylinux2010_x86_64.whl (7.3MB)\n",
            "\u001b[K     |████████████████████████████████| 7.3MB 44.7MB/s \n",
            "\u001b[?25hCollecting Cython==0.29.14\n",
            "\u001b[?25l  Downloading https://files.pythonhosted.org/packages/df/d1/4d3f8a7a920e805488a966cc6ab55c978a712240f584445d703c08b9f405/Cython-0.29.14-cp36-cp36m-manylinux1_x86_64.whl (2.1MB)\n",
            "\u001b[K     |████████████████████████████████| 2.1MB 45.8MB/s \n",
            "\u001b[?25hCollecting rusenttokenize==0.0.5\n",
            "  Downloading https://files.pythonhosted.org/packages/25/4c/a2f00be5def774a3df2e5387145f1cb54e324607ec4a7e23f573645946e7/rusenttokenize-0.0.5-py3-none-any.whl\n",
            "Collecting aio-pika==6.4.1\n",
            "\u001b[?25l  Downloading https://files.pythonhosted.org/packages/c8/07/196a4115cbef31fa0c3dabdea146f02dffe5e49998341d20dbe2278953bc/aio_pika-6.4.1-py3-none-any.whl (40kB)\n",
            "\u001b[K     |████████████████████████████████| 51kB 8.7MB/s \n",
            "\u001b[?25hCollecting fuzzywuzzy==0.17.0\n",
            "  Downloading https://files.pythonhosted.org/packages/d8/f1/5a267addb30ab7eaa1beab2b9323073815da4551076554ecc890a3595ec9/fuzzywuzzy-0.17.0-py2.py3-none-any.whl\n",
            "Collecting overrides==2.7.0\n",
            "  Downloading https://files.pythonhosted.org/packages/ac/98/2430afd204c48ac0a529d439d7e22df8fa603c668d03456b5947cb59ec36/overrides-2.7.0.tar.gz\n",
            "Collecting requests==2.22.0\n",
            "\u001b[?25l  Downloading https://files.pythonhosted.org/packages/51/bd/23c926cd341ea6b7dd0b2a00aba99ae0f828be89d72b2190f27c11d4b7fb/requests-2.22.0-py2.py3-none-any.whl (57kB)\n",
            "\u001b[K     |████████████████████████████████| 61kB 9.7MB/s \n",
            "\u001b[?25hCollecting tqdm==4.41.1\n",
            "\u001b[?25l  Downloading https://files.pythonhosted.org/packages/72/c9/7fc20feac72e79032a7c8138fd0d395dc6d8812b5b9edf53c3afd0b31017/tqdm-4.41.1-py2.py3-none-any.whl (56kB)\n",
            "\u001b[K     |████████████████████████████████| 61kB 10.6MB/s \n",
            "\u001b[?25hRequirement already satisfied: pandas==0.25.3 in /usr/local/lib/python3.6/dist-packages (from deeppavlov) (0.25.3)\n",
            "Collecting h5py==2.10.0\n",
            "\u001b[?25l  Downloading https://files.pythonhosted.org/packages/60/06/cafdd44889200e5438b897388f3075b52a8ef01f28a17366d91de0fa2d05/h5py-2.10.0-cp36-cp36m-manylinux1_x86_64.whl (2.9MB)\n",
            "\u001b[K     |████████████████████████████████| 2.9MB 53.2MB/s \n",
            "\u001b[?25hCollecting dawg-python>=0.7\n",
            "  Downloading https://files.pythonhosted.org/packages/6a/84/ff1ce2071d4c650ec85745766c0047ccc3b5036f1d03559fd46bb38b5eeb/DAWG_Python-0.7.2-py2.py3-none-any.whl\n",
            "Requirement already satisfied: docopt>=0.6 in /usr/local/lib/python3.6/dist-packages (from pymorphy2==0.8->deeppavlov) (0.6.2)\n",
            "Collecting pymorphy2-dicts<3.0,>=2.4\n",
            "\u001b[?25l  Downloading https://files.pythonhosted.org/packages/02/51/2465fd4f72328ab50877b54777764d928da8cb15b74e2680fc1bd8cb3173/pymorphy2_dicts-2.4.393442.3710985-py2.py3-none-any.whl (7.1MB)\n",
            "\u001b[K     |████████████████████████████████| 7.1MB 34.3MB/s \n",
            "\u001b[?25hRequirement already satisfied: joblib>=0.11 in /usr/local/lib/python3.6/dist-packages (from scikit-learn==0.21.2->deeppavlov) (0.14.1)\n",
            "Requirement already satisfied: six in /usr/local/lib/python3.6/dist-packages (from pytelegrambotapi==3.6.7->deeppavlov) (1.12.0)\n",
            "Collecting starlette<=0.12.9,>=0.12.9\n",
            "\u001b[?25l  Downloading https://files.pythonhosted.org/packages/67/95/2220fe5bf287e693a6430d8ee36c681b0157035b7249ec08f8fb36319d16/starlette-0.12.9.tar.gz (46kB)\n",
            "\u001b[K     |████████████████████████████████| 51kB 9.5MB/s \n",
            "\u001b[?25hCollecting h11<0.10,>=0.8\n",
            "\u001b[?25l  Downloading https://files.pythonhosted.org/packages/5a/fd/3dad730b0f95e78aeeb742f96fa7bbecbdd56a58e405d3da440d5bfb90c6/h11-0.9.0-py2.py3-none-any.whl (53kB)\n",
            "\u001b[K     |████████████████████████████████| 61kB 10.7MB/s \n",
            "\u001b[?25hRequirement already satisfied: click==7.* in /usr/local/lib/python3.6/dist-packages (from uvicorn==0.11.1->deeppavlov) (7.0)\n",
            "Collecting uvloop>=0.14.0; sys_platform != \"win32\" and sys_platform != \"cygwin\" and platform_python_implementation != \"pypy\"\n",
            "\u001b[?25l  Downloading https://files.pythonhosted.org/packages/41/48/586225bbb02d3bdca475b17e4be5ce5b3f09da2d6979f359916c1592a687/uvloop-0.14.0-cp36-cp36m-manylinux2010_x86_64.whl (3.9MB)\n",
            "\u001b[K     |████████████████████████████████| 3.9MB 66.5MB/s \n",
            "\u001b[?25hCollecting websockets==8.*\n",
            "\u001b[?25l  Downloading https://files.pythonhosted.org/packages/bb/d9/856af84843912e2853b1b6e898ac8b802989fcf9ecf8e8445a1da263bf3b/websockets-8.1-cp36-cp36m-manylinux2010_x86_64.whl (78kB)\n",
            "\u001b[K     |████████████████████████████████| 81kB 12.0MB/s \n",
            "\u001b[?25hCollecting httptools==0.0.13; sys_platform != \"win32\" and sys_platform != \"cygwin\" and platform_python_implementation != \"pypy\"\n",
            "\u001b[?25l  Downloading https://files.pythonhosted.org/packages/1b/03/215969db11abe8741e9c266a4cbe803a372bd86dd35fa0084c4df6d4bd00/httptools-0.0.13.tar.gz (104kB)\n",
            "\u001b[K     |████████████████████████████████| 112kB 79.6MB/s \n",
            "\u001b[?25hCollecting cryptography>=2.8\n",
            "\u001b[?25l  Downloading https://files.pythonhosted.org/packages/ca/9a/7cece52c46546e214e10811b36b2da52ce1ea7fa203203a629b8dfadad53/cryptography-2.8-cp34-abi3-manylinux2010_x86_64.whl (2.3MB)\n",
            "\u001b[K     |████████████████████████████████| 2.3MB 51.2MB/s \n",
            "\u001b[?25hRequirement already satisfied: dataclasses>=0.6; python_version < \"3.7\" in /usr/local/lib/python3.6/dist-packages (from pydantic==1.3->deeppavlov) (0.7)\n",
            "Collecting yarl\n",
            "\u001b[?25l  Downloading https://files.pythonhosted.org/packages/95/8f/0209fc5d975f839344c33c822ff2f7ef80f6b1e984673a5a68f960bfa583/yarl-1.4.2-cp36-cp36m-manylinux1_x86_64.whl (252kB)\n",
            "\u001b[K     |████████████████████████████████| 256kB 48.2MB/s \n",
            "\u001b[?25hCollecting aiormq<4,>=3.2.0\n",
            "  Downloading https://files.pythonhosted.org/packages/bc/f8/77a1694064c677afaaae111e28e2b32dd70c5f9dce3836bad0df20f27201/aiormq-3.2.1-py3-none-any.whl\n",
            "Requirement already satisfied: urllib3!=1.25.0,!=1.25.1,<1.26,>=1.21.1 in /usr/local/lib/python3.6/dist-packages (from requests==2.22.0->deeppavlov) (1.24.3)\n",
            "Requirement already satisfied: certifi>=2017.4.17 in /usr/local/lib/python3.6/dist-packages (from requests==2.22.0->deeppavlov) (2019.11.28)\n",
            "Requirement already satisfied: idna<2.9,>=2.5 in /usr/local/lib/python3.6/dist-packages (from requests==2.22.0->deeppavlov) (2.8)\n",
            "Requirement already satisfied: chardet<3.1.0,>=3.0.2 in /usr/local/lib/python3.6/dist-packages (from requests==2.22.0->deeppavlov) (3.0.4)\n",
            "Requirement already satisfied: pytz>=2017.2 in /usr/local/lib/python3.6/dist-packages (from pandas==0.25.3->deeppavlov) (2018.9)\n",
            "Requirement already satisfied: python-dateutil>=2.6.1 in /usr/local/lib/python3.6/dist-packages (from pandas==0.25.3->deeppavlov) (2.6.1)\n",
            "Requirement already satisfied: cffi!=1.11.3,>=1.8 in /usr/local/lib/python3.6/dist-packages (from cryptography>=2.8->pyopenssl==19.1.0->deeppavlov) (1.14.0)\n",
            "Collecting multidict>=4.0\n",
            "\u001b[?25l  Downloading https://files.pythonhosted.org/packages/30/2e/3ab2f1fb72571f75013db323a3799d505d99f3bc203513604f1ffb9b7858/multidict-4.7.5-cp36-cp36m-manylinux1_x86_64.whl (148kB)\n",
            "\u001b[K     |████████████████████████████████| 153kB 43.4MB/s \n",
            "\u001b[?25hCollecting pamqp==2.3.0\n",
            "  Downloading https://files.pythonhosted.org/packages/eb/56/afa06143361e640c9159d828dadc95fc9195c52c95b4a97d136617b0166d/pamqp-2.3.0-py2.py3-none-any.whl\n",
            "Requirement already satisfied: pycparser in /usr/local/lib/python3.6/dist-packages (from cffi!=1.11.3,>=1.8->cryptography>=2.8->pyopenssl==19.1.0->deeppavlov) (2.19)\n",
            "Building wheels for collected packages: pytelegrambotapi, nltk, overrides, starlette, httptools\n",
            "  Building wheel for pytelegrambotapi (setup.py) ... \u001b[?25l\u001b[?25hdone\n",
            "  Created wheel for pytelegrambotapi: filename=pyTelegramBotAPI-3.6.7-cp36-none-any.whl size=47178 sha256=f6e29223d314f662419626c78c550e796181100a6275f08d70b2b8f982d30a97\n",
            "  Stored in directory: /root/.cache/pip/wheels/23/40/18/8a34153f95ef0dc19e3954898e5a5079244b76a8afdd7d0ec5\n",
            "  Building wheel for nltk (setup.py) ... \u001b[?25l\u001b[?25hdone\n",
            "  Created wheel for nltk: filename=nltk-3.4.5-cp36-none-any.whl size=1449904 sha256=f6d3a81bee1daf999bf185bf26ff5f60d6c37cfcf02e27a61ee838be1891742a\n",
            "  Stored in directory: /root/.cache/pip/wheels/96/86/f6/68ab24c23f207c0077381a5e3904b2815136b879538a24b483\n",
            "  Building wheel for overrides (setup.py) ... \u001b[?25l\u001b[?25hdone\n",
            "  Created wheel for overrides: filename=overrides-2.7.0-cp36-none-any.whl size=5600 sha256=04b1f71a760e1007b4c855e0ca92f2f1e1ec8755b103313ea51466047e4a0c73\n",
            "  Stored in directory: /root/.cache/pip/wheels/8c/7c/ef/80508418b67d87371c5b3de49e03eb22ee7c1d19affb5099f8\n",
            "  Building wheel for starlette (setup.py) ... \u001b[?25l\u001b[?25hdone\n",
            "  Created wheel for starlette: filename=starlette-0.12.9-cp36-none-any.whl size=57245 sha256=8757e8cfb340832f3803f191412897ad521cbb9693a5ec87eca86c81ead5800b\n",
            "  Stored in directory: /root/.cache/pip/wheels/1c/51/5b/3828d52e185cafad941c4291b6f70894d0794be28c70addae5\n",
            "  Building wheel for httptools (setup.py) ... \u001b[?25l\u001b[?25hdone\n",
            "  Created wheel for httptools: filename=httptools-0.0.13-cp36-cp36m-linux_x86_64.whl size=212557 sha256=dac155e0e1f87536bcaab1ba205a13cdc89c2ac8fdd2ae84bce6c2e69b662e9b\n",
            "  Stored in directory: /root/.cache/pip/wheels/e8/3e/2e/013f99b42efc25cf3589730cf380738e46b1e5edaf2f78d525\n",
            "Successfully built pytelegrambotapi nltk overrides starlette httptools\n",
            "\u001b[31mERROR: google-colab 1.0.0 has requirement requests~=2.21.0, but you'll have requests 2.22.0 which is incompatible.\u001b[0m\n",
            "\u001b[31mERROR: datascience 0.10.6 has requirement folium==0.2.1, but you'll have folium 0.8.3 which is incompatible.\u001b[0m\n",
            "\u001b[31mERROR: albumentations 0.1.12 has requirement imgaug<0.2.7,>=0.2.5, but you'll have imgaug 0.2.9 which is incompatible.\u001b[0m\n",
            "Installing collected packages: dawg-python, pymorphy2-dicts, pymorphy2, pymorphy2-dicts-ru, numpy, scikit-learn, requests, pytelegrambotapi, starlette, pydantic, fastapi, nltk, h11, uvloop, websockets, httptools, uvicorn, cryptography, pyopenssl, Cython, rusenttokenize, multidict, yarl, pamqp, aiormq, aio-pika, fuzzywuzzy, overrides, tqdm, h5py, deeppavlov\n",
            "  Found existing installation: numpy 1.17.5\n",
            "    Uninstalling numpy-1.17.5:\n",
            "      Successfully uninstalled numpy-1.17.5\n",
            "  Found existing installation: scikit-learn 0.22.1\n",
            "    Uninstalling scikit-learn-0.22.1:\n",
            "      Successfully uninstalled scikit-learn-0.22.1\n",
            "  Found existing installation: requests 2.21.0\n",
            "    Uninstalling requests-2.21.0:\n",
            "      Successfully uninstalled requests-2.21.0\n",
            "  Found existing installation: nltk 3.2.5\n",
            "    Uninstalling nltk-3.2.5:\n",
            "      Successfully uninstalled nltk-3.2.5\n",
            "  Found existing installation: Cython 0.29.15\n",
            "    Uninstalling Cython-0.29.15:\n",
            "      Successfully uninstalled Cython-0.29.15\n",
            "  Found existing installation: tqdm 4.28.1\n",
            "    Uninstalling tqdm-4.28.1:\n",
            "      Successfully uninstalled tqdm-4.28.1\n",
            "  Found existing installation: h5py 2.8.0\n",
            "    Uninstalling h5py-2.8.0:\n",
            "      Successfully uninstalled h5py-2.8.0\n",
            "Successfully installed Cython-0.29.14 aio-pika-6.4.1 aiormq-3.2.1 cryptography-2.8 dawg-python-0.7.2 deeppavlov-0.8.0 fastapi-0.47.1 fuzzywuzzy-0.17.0 h11-0.9.0 h5py-2.10.0 httptools-0.0.13 multidict-4.7.5 nltk-3.4.5 numpy-1.18.0 overrides-2.7.0 pamqp-2.3.0 pydantic-1.3 pymorphy2-0.8 pymorphy2-dicts-2.4.393442.3710985 pymorphy2-dicts-ru-2.4.404381.4453942 pyopenssl-19.1.0 pytelegrambotapi-3.6.7 requests-2.22.0 rusenttokenize-0.0.5 scikit-learn-0.21.2 starlette-0.12.9 tqdm-4.41.1 uvicorn-0.11.1 uvloop-0.14.0 websockets-8.1 yarl-1.4.2\n"
          ],
          "name": "stdout"
        },
        {
          "output_type": "display_data",
          "data": {
            "application/vnd.colab-display-data+json": {
              "pip_warning": {
                "packages": [
                  "numpy",
                  "requests",
                  "tqdm"
                ]
              }
            }
          },
          "metadata": {
            "tags": []
          }
        },
        {
          "output_type": "stream",
          "text": [
            "Collecting kmapper\n",
            "\u001b[?25l  Downloading https://files.pythonhosted.org/packages/fb/3f/a1290b9425a7e0ff4ae51a6e6ff68e50ad793b3460f435c2ec81c0383751/kmapper-1.2.0-py3-none-any.whl (93kB)\n",
            "\r\u001b[K     |███▌                            | 10kB 25.1MB/s eta 0:00:01\r\u001b[K     |███████                         | 20kB 30.9MB/s eta 0:00:01\r\u001b[K     |██████████▌                     | 30kB 35.2MB/s eta 0:00:01\r\u001b[K     |██████████████                  | 40kB 39.0MB/s eta 0:00:01\r\u001b[K     |█████████████████▋              | 51kB 40.1MB/s eta 0:00:01\r\u001b[K     |█████████████████████           | 61kB 41.7MB/s eta 0:00:01\r\u001b[K     |████████████████████████▋       | 71kB 33.1MB/s eta 0:00:01\r\u001b[K     |████████████████████████████▏   | 81kB 34.4MB/s eta 0:00:01\r\u001b[K     |███████████████████████████████▋| 92kB 36.0MB/s eta 0:00:01\r\u001b[K     |████████████████████████████████| 102kB 12.9MB/s \n",
            "\u001b[?25hRequirement already satisfied: scikit-learn in /usr/local/lib/python3.6/dist-packages (from kmapper) (0.21.2)\n",
            "Requirement already satisfied: numpy in /usr/local/lib/python3.6/dist-packages (from kmapper) (1.18.0)\n",
            "Requirement already satisfied: scipy in /usr/local/lib/python3.6/dist-packages (from kmapper) (1.4.1)\n",
            "Requirement already satisfied: Jinja2 in /usr/local/lib/python3.6/dist-packages (from kmapper) (2.11.1)\n",
            "Requirement already satisfied: joblib>=0.11 in /usr/local/lib/python3.6/dist-packages (from scikit-learn->kmapper) (0.14.1)\n",
            "Requirement already satisfied: MarkupSafe>=0.23 in /usr/local/lib/python3.6/dist-packages (from Jinja2->kmapper) (1.1.1)\n",
            "Installing collected packages: kmapper\n",
            "Successfully installed kmapper-1.2.0\n",
            "Requirement already satisfied: chart-studio in /usr/local/lib/python3.6/dist-packages (1.0.0)\n",
            "Requirement already satisfied: retrying>=1.3.3 in /usr/local/lib/python3.6/dist-packages (from chart-studio) (1.3.3)\n",
            "Requirement already satisfied: requests in /usr/local/lib/python3.6/dist-packages (from chart-studio) (2.22.0)\n",
            "Requirement already satisfied: six in /usr/local/lib/python3.6/dist-packages (from chart-studio) (1.12.0)\n",
            "Requirement already satisfied: plotly in /usr/local/lib/python3.6/dist-packages (from chart-studio) (4.4.1)\n",
            "Requirement already satisfied: idna<2.9,>=2.5 in /usr/local/lib/python3.6/dist-packages (from requests->chart-studio) (2.8)\n",
            "Requirement already satisfied: urllib3!=1.25.0,!=1.25.1,<1.26,>=1.21.1 in /usr/local/lib/python3.6/dist-packages (from requests->chart-studio) (1.24.3)\n",
            "Requirement already satisfied: chardet<3.1.0,>=3.0.2 in /usr/local/lib/python3.6/dist-packages (from requests->chart-studio) (3.0.4)\n",
            "Requirement already satisfied: certifi>=2017.4.17 in /usr/local/lib/python3.6/dist-packages (from requests->chart-studio) (2019.11.28)\n"
          ],
          "name": "stdout"
        }
      ]
    },
    {
      "cell_type": "code",
      "metadata": {
        "colab_type": "code",
        "id": "I4Sg07Wwh7I8",
        "outputId": "e8958ea0-01a4-4eed-e260-4554cc824028",
        "colab": {
          "base_uri": "https://localhost:8080/",
          "height": 50
        }
      },
      "source": [
        "import deeppavlov\n",
        "from deeppavlov.models.embedders.elmo_embedder import ELMoEmbedder\n",
        "from nltk.tokenize import sent_tokenize, word_tokenize \n",
        "import warnings \n",
        "warnings.filterwarnings(action = 'ignore') \n",
        "import gensim \n",
        "from gensim.models import Word2Vec\n",
        "import codecs\n",
        "import numpy as np\n",
        "import pandas as pd\n",
        "import docx\n",
        "import re\n",
        "import string\n",
        "import nltk\n",
        "nltk.download(\"stopwords\")\n",
        "from nltk.corpus import stopwords\n",
        "from pymystem3 import Mystem\n",
        "from sklearn.manifold import TSNE\n",
        "import kmapper as km\n",
        "from kmapper import jupyter\n",
        "import umap\n",
        "from ripser import ripser\n",
        "from persim import plot_diagrams, bottleneck, bottleneck_matching\n",
        "import sklearn\n",
        "from sklearn import cluster\n",
        "import csv\n",
        "import collections\n",
        "from chart_studio.plotly import plot, iplot\n",
        "import plotly\n",
        "import plotly.graph_objects as go\n",
        "import plotly.io as pio\n",
        "import matplotlib.cm as cm\n",
        "import plotly.offline\n",
        "import matplotlib.pyplot as plt\n",
        "%matplotlib inline"
      ],
      "execution_count": 302,
      "outputs": [
        {
          "output_type": "stream",
          "text": [
            "[nltk_data] Downloading package stopwords to /root/nltk_data...\n",
            "[nltk_data]   Package stopwords is already up-to-date!\n"
          ],
          "name": "stderr"
        }
      ]
    },
    {
      "cell_type": "code",
      "metadata": {
        "id": "EsYfHnR96_wv",
        "colab_type": "code",
        "outputId": "8b1f3516-09c5-4486-8170-df22790bdbe8",
        "colab": {
          "base_uri": "https://localhost:8080/",
          "height": 121
        }
      },
      "source": [
        "from google.colab import drive\n",
        "drive.mount('/content/drive/')"
      ],
      "execution_count": 2,
      "outputs": [
        {
          "output_type": "stream",
          "text": [
            "Go to this URL in a browser: https://accounts.google.com/o/oauth2/auth?client_id=947318989803-6bn6qk8qdgf4n4g3pfee6491hc0brc4i.apps.googleusercontent.com&redirect_uri=urn%3aietf%3awg%3aoauth%3a2.0%3aoob&response_type=code&scope=email%20https%3a%2f%2fwww.googleapis.com%2fauth%2fdocs.test%20https%3a%2f%2fwww.googleapis.com%2fauth%2fdrive%20https%3a%2f%2fwww.googleapis.com%2fauth%2fdrive.photos.readonly%20https%3a%2f%2fwww.googleapis.com%2fauth%2fpeopleapi.readonly\n",
            "\n",
            "Enter your authorization code:\n",
            "··········\n",
            "Mounted at /content/drive/\n"
          ],
          "name": "stdout"
        }
      ]
    },
    {
      "cell_type": "markdown",
      "metadata": {
        "id": "D9rnFclr6rxL",
        "colab_type": "text"
      },
      "source": [
        "## Содержание.\n",
        "\n",
        "**ТК состоит из 6 частей, 14 разделов, 62 глав и 424 статей(не считая подпункты, например Статья 330.3).** \n",
        "\n",
        "ЧАСТЬ 1.\n",
        "\n",
        "* Раздел I.\n",
        "\n",
        "Глава 1.(ст.1-14) Глава 2.(ст.15-22)\n",
        "\n",
        "ЧАСТЬ 2.\n",
        "\n",
        "* Раздел II.\n",
        "\n",
        "Глава 3.(ст.23-28) Глава 4.(ст.29-34) Глава 5.(ст.35) \n",
        "Глава 6.(ст.36-39)Глава 7.(ст.40-51) Глава 8.(ст.52-53)\n",
        "Глава 9.(ст.54-55)\n",
        "\n",
        "ЧАСТЬ 3.\n",
        "\n",
        "* Раздел III.\n",
        "\n",
        "Глава 10.(ст.56-62) Глава 11.(ст.63-71) Глава 12.(ст.72-76)\n",
        "Глава 13.(ст.77-84) Глава 14.(ст.85-90)\n",
        "\n",
        "* Раздел IV. \n",
        "\n",
        "Глава 15.(ст.91-99) Глава 16.(ст.100-105)\n",
        "\n",
        "* Раздел V. \n",
        "\n",
        "Глава 17.(ст.106-107) Глава 18.(ст.108-113) Глава 19.(ст.114-128)\n",
        "\n",
        "* Раздел VI.\n",
        "\n",
        "Глава 20.(ст.129-132) Глава 21.(ст.133-158) Глава 22.(ст.159-163)\n",
        "\n",
        "* Раздел VII.\n",
        "\n",
        "Глава 23.(ст.164-166) Глава 24.(ст.167-169) Глава 25.(ст.170-172) \n",
        "Глава 26.(ст.173-177) Глава 27.(ст.178-181) Глава 28.(ст.182-188)\n",
        "\n",
        "* Раздел VIII.\n",
        "\n",
        "Глава 29.(ст.189-190) Глава 30.(ст.191-195)\n",
        "\n",
        "* Раздел VIX.\n",
        "\n",
        "Глава 31.(ст.195.1-197) Глава 32.(ст.198-208)\n",
        "\n",
        "* Раздел X.\n",
        "\n",
        "Глава 33.(ст.209-210) Глава 34.(ст.211-215)\n",
        "Глава 35.(ст.216-218) Глава 36.(ст.219-231)\n",
        "\n",
        "* Раздел XI.\n",
        "\n",
        "Глава 37.(ст.232-233) Глава 38.(ст.234-237)\n",
        "Глава 39.(ст.238-250)\n",
        "\n",
        "ЧАСТЬ 4.\n",
        "\n",
        "* Раздел XII.\n",
        "\n",
        "Глава 40.(ст.251-252) Глава 41.(ст.253-264) Глава 42.(ст.265-272)\n",
        "Глава 43.(ст.273-281) Глава 44.(ст.282-288) Глава 45.(ст.289-292)\n",
        "Глава 46.(ст.293-296) Глава 47.(ст.297-302) Глава 48.(ст.303-309) \n",
        "Глава 49.(ст.310-312) Глава 49.1.(ст.312.1-312.5) \n",
        "Глава 50.(ст.313-327) Глава 51.(ст.328-330) \n",
        "Глава 51.1.(ст.330.1-330.5) Глава 52.(ст.331-336) \n",
        "Глава 53.(ст.337-341) Глава 54.(ст.342-348) \n",
        "Глава 54-1.(ст.348.1-348.12) Глава 55.(ст.349-351.2)\n",
        "\n",
        "ЧАСТЬ 5.\n",
        "\n",
        "* Раздел XIII.\n",
        "\n",
        "Глава 56.(ст.352) Глава 57.(ст.353-369) Глава 58.(ст.370-378)\n",
        "Глава 59.(ст.379-380) Глава 60.(ст.381-398) Глава 61.(ст.399-418) \n",
        "Глава 62.(ст.419)\n",
        "\n",
        "ЧАСТЬ 6.\n",
        "\n",
        "* Раздел XIV.\n",
        "(ст.420-424)"
      ]
    },
    {
      "cell_type": "markdown",
      "metadata": {
        "id": "VH8mSGrC6rxN",
        "colab_type": "text"
      },
      "source": [
        "## Чтение ТК"
      ]
    },
    {
      "cell_type": "code",
      "metadata": {
        "colab_type": "code",
        "id": "zwunIvF_p2Uu",
        "colab": {}
      },
      "source": [
        "document = docx.Document(\"drive/My Drive/Thesis/data/LabourCode.docx\")\n",
        "text_, text = list(),list()\n",
        "chapter_, chapter = '', ''\n",
        "for paragraph in document.paragraphs:\n",
        "    if paragraph.text!='':\n",
        "        if paragraph.text.startswith('Статья') and chapter!='' and chapter_!='':\n",
        "            text.append(chapter)\n",
        "            text_.append(chapter_)\n",
        "            chapter = ''\n",
        "            chapter_ = ''\n",
        "        if paragraph.text.endswith(('.',';',':')):\n",
        "            chapter = chapter + paragraph.text\n",
        "            chapter_ = chapter_ + paragraph.text\n",
        "            if paragraph.text.endswith(('.',';')): #??????\n",
        "                chapter = chapter[:-1] + '</s>'\n",
        "        else:\n",
        "            chapter = chapter + paragraph.text + '</s>'\n",
        "            chapter_ = chapter_ + paragraph.text + '.'"
      ],
      "execution_count": 0,
      "outputs": []
    },
    {
      "cell_type": "code",
      "metadata": {
        "colab_type": "code",
        "id": "qpndJrxhsUQp",
        "jupyter": {
          "outputs_hidden": true
        },
        "outputId": "5a1ae8b1-00f3-43a6-bd7e-b07560c4a022",
        "colab": {
          "base_uri": "https://localhost:8080/",
          "height": 121
        }
      },
      "source": [
        "labourcode_ = text_[1:] # original text\n",
        "labourcode = text[1:] # text with separator </s>\n",
        "labourcode_[0:5]"
      ],
      "execution_count": 277,
      "outputs": [
        {
          "output_type": "execute_result",
          "data": {
            "text/plain": [
              "['Статья 1. Цели и задачи трудового законодательства.Целями трудового законодательства являются установление государственных гарантий трудовых прав и свобод граждан, создание благоприятных условий труда, защита прав и интересов работников и работодателей.Основными задачами трудового законодательства являются создание необходимых правовых условий для достижения оптимального согласования интересов сторон трудовых отношений, интересов государства, а также правовое регулирование трудовых отношений и иных непосредственно связанных с ними отношений по:организации труда и управлению трудом;трудоустройству у данного работодателя;подготовке и дополнительному профессиональному образованию работников непосредственно у данного работодателя;(в ред. Федерального закона от 02.07.2013 N 185-ФЗ).социальному партнерству, ведению коллективных переговоров, заключению коллективных договоров и соглашений;участию работников и профессиональных союзов в установлении условий труда и применении трудового законодательства в предусмотренных законом случаях;материальной ответственности работодателей и работников в сфере труда;государственному контролю (надзору), профсоюзному контролю за соблюдением трудового законодательства (включая законодательство об охране труда) и иных нормативных правовых актов, содержащих нормы трудового права;(в ред. Федеральных законов от 30.06.2006 N 90-ФЗ, от 18.07.2011 N 242-ФЗ).разрешению трудовых споров;обязательному социальному страхованию в случаях, предусмотренных федеральными законами.(абзац введен Федеральным законом от 30.06.2006 N 90-ФЗ).',\n",
              " 'Статья 2. Основные принципы правового регулирования трудовых отношений и иных непосредственно связанных с ними отношений.Исходя из общепризнанных принципов и норм международного права и в соответствии с Конституцией Российской Федерации основными принципами правового регулирования трудовых отношений и иных непосредственно связанных с ними отношений признаются:свобода труда, включая право на труд, который каждый свободно выбирает или на который свободно соглашается, право распоряжаться своими способностями к труду, выбирать профессию и род деятельности;запрещение принудительного труда и дискриминации в сфере труда;защита от безработицы и содействие в трудоустройстве;обеспечение права каждого работника на справедливые условия труда, в том числе на условия труда, отвечающие требованиям безопасности и гигиены, права на отдых, включая ограничение рабочего времени, предоставление ежедневного отдыха, выходных и нерабочих праздничных дней, оплачиваемого ежегодного отпуска;равенство прав и возможностей работников;обеспечение права каждого работника на своевременную и в полном размере выплату справедливой заработной платы, обеспечивающей достойное человека существование для него самого и его семьи, и не ниже установленного федеральным законом минимального размера оплаты труда;обеспечение равенства возможностей работников без всякой дискриминации на продвижение по работе с учетом производительности труда, квалификации и стажа работы по специальности, а также на подготовку и дополнительное профессиональное образование;(в ред. Федерального закона от 02.07.2013 N 185-ФЗ).обеспечение права работников и работодателей на объединение для защиты своих прав и интересов, включая право работников создавать профессиональные союзы и вступать в них, право работодателей создавать объединения работодателей и вступать в них;(в ред. Федерального закона от 24.11.2014 N 358-ФЗ).обеспечение права работников на участие в управлении организацией в предусмотренных законом формах;сочетание государственного и договорного регулирования трудовых отношений и иных непосредственно связанных с ними отношений;социальное партнерство, включающее право на участие работников, работодателей, их объединений в договорном регулировании трудовых отношений и иных непосредственно связанных с ними отношений;обязательность возмещения вреда, причиненного работнику в связи с исполнением им трудовых обязанностей;установление государственных гарантий по обеспечению прав работников и работодателей, осуществление государственного контроля (надзора) за их соблюдением;(в ред. Федерального закона от 18.07.2011 N 242-ФЗ).обеспечение права каждого на защиту государством его трудовых прав и свобод, включая судебную защиту;(в ред. Федерального закона от 30.06.2006 N 90-ФЗ).обеспечение права на разрешение индивидуальных и коллективных трудовых споров, а также права на забастовку в порядке, установленном настоящим Кодексом и иными федеральными законами;обязанность сторон трудового договора соблюдать условия заключенного договора, включая право работодателя требовать от работников исполнения ими трудовых обязанностей и бережного отношения к имуществу работодателя и право работников требовать от работодателя соблюдения его обязанностей по отношению к работникам, трудового законодательства и иных актов, содержащих нормы трудового права;обеспечение права представителей профессиональных союзов осуществлять профсоюзный контроль за соблюдением трудового законодательства и иных актов, содержащих нормы трудового права;обеспечение права работников на защиту своего достоинства в период трудовой деятельности;обеспечение права на обязательное социальное страхование работников.',\n",
              " 'Статья 3. Запрещение дискриминации в сфере труда.Каждый имеет равные возможности для реализации своих трудовых прав.Никто не может быть ограничен в трудовых правах и свободах или получать какие-либо преимущества в зависимости от пола, расы, цвета кожи, национальности, языка, происхождения, имущественного, семейного, социального и должностного положения, возраста, места жительства, отношения к религии, убеждений, принадлежности или непринадлежности к общественным объединениям или каким-либо социальным группам, а также от других обстоятельств, не связанных с деловыми качествами работника.(в ред. Федеральных законов от 30.06.2006 N 90-ФЗ, от 02.07.2013 N 162-ФЗ).Не являются дискриминацией установление различий, исключений, предпочтений, а также ограничение прав работников, которые определяются свойственными данному виду труда требованиями, установленными федеральным законом, либо обусловлены особой заботой государства о лицах, нуждающихся в повышенной социальной и правовой защите, либо установлены настоящим Кодексом или в случаях и в порядке, которые им предусмотрены, в целях обеспечения национальной безопасности, поддержания оптимального баланса трудовых ресурсов, содействия в приоритетном порядке трудоустройству граждан Российской Федерации и в целях решения иных задач внутренней и внешней политики государства.(в ред. Федеральных законов от 23.07.2013 N 204-ФЗ, от 01.12.2014 N 409-ФЗ).Лица, считающие, что они подверглись дискриминации в сфере труда, вправе обратиться в суд с заявлением о восстановлении нарушенных прав, возмещении материального вреда и компенсации морального вреда.(в ред. Федерального закона от 30.06.2006 N 90-ФЗ).',\n",
              " 'Статья 4. Запрещение принудительного труда.Принудительный труд запрещен.Принудительный труд - выполнение работы под угрозой применения какого-либо наказания (насильственного воздействия), в том числе:в целях поддержания трудовой дисциплины;в качестве меры ответственности за участие в забастовке;в качестве средства мобилизации и использования рабочей силы для нужд экономического развития;в качестве меры наказания за наличие или выражение политических взглядов или идеологических убеждений, противоположных установленной политической, социальной или экономической системе;в качестве меры дискриминации по признакам расовой, социальной, национальной или религиозной принадлежности.К принудительному труду также относится работа, которую работник вынужден выполнять под угрозой применения какого-либо наказания (насильственного воздействия), в то время как в соответствии с настоящим Кодексом или иными федеральными законами он имеет право отказаться от ее выполнения, в том числе в связи с:нарушением установленных сроков выплаты заработной платы или выплатой ее не в полном размере;возникновением непосредственной угрозы для жизни и здоровья работника вследствие нарушения требований охраны труда, в частности необеспечения его средствами коллективной или индивидуальной защиты в соответствии с установленными нормами.(часть третья в ред. Федерального закона от 30.06.2006 N 90-ФЗ).Для целей настоящего Кодекса принудительный труд не включает в себя:работу, выполнение которой обусловлено законодательством о воинской обязанности и военной службе или заменяющей ее альтернативной гражданской службе;работу, выполнение которой обусловлено введением чрезвычайного или военного положения в порядке, установленном федеральными конституционными законами;работу, выполняемую в условиях чрезвычайных обстоятельств, то есть в случае бедствия или угрозы бедствия (пожары, наводнения, голод, землетрясения, эпидемии или эпизоотии) и в иных случаях, ставящих под угрозу жизнь или нормальные жизненные условия всего населения или его части;работу, выполняемую вследствие вступившего в законную силу приговора суда под надзором государственных органов, ответственных за соблюдение законодательства при исполнении судебных приговоров.(часть четвертая в ред. Федерального закона от 30.06.2006 N 90-ФЗ).',\n",
              " 'Статья 5. Трудовое законодательство и иные акты, содержащие нормы трудового права.(в ред. Федерального закона от 30.06.2006 N 90-ФЗ).Регулирование трудовых отношений и иных непосредственно связанных с ними отношений в соответствии с Конституцией Российской Федерации, федеральными конституционными законами осуществляется:трудовым законодательством (включая законодательство об охране труда), состоящим из настоящего Кодекса, иных федеральных законов и законов субъектов Российской Федерации, содержащих нормы трудового права;иными нормативными правовыми актами, содержащими нормы трудового права:указами Президента Российской Федерации;постановлениями Правительства Российской Федерации и нормативными правовыми актами федеральных органов исполнительной власти;нормативными правовыми актами органов исполнительной власти субъектов Российской Федерации;нормативными правовыми актами органов местного самоуправления.Трудовые отношения и иные непосредственно связанные с ними отношения регулируются также коллективными договорами, соглашениями и локальными нормативными актами, содержащими нормы трудового права.Нормы трудового права, содержащиеся в иных федеральных законах, должны соответствовать настоящему Кодексу.В случае противоречий между настоящим Кодексом и иным федеральным законом, содержащим нормы трудового права, применяется настоящий Кодекс.Если вновь принятый федеральный закон, содержащий нормы трудового права, противоречит настоящему Кодексу, то этот федеральный закон применяется при условии внесения соответствующих изменений в настоящий Кодекс.Внесение изменений в настоящий Кодекс, а также приостановление действия его положений или признание таких положений утратившими силу осуществляется отдельными федеральными законами. Положения, предусматривающие внесение изменений в настоящий Кодекс, приостановление действия его положений или признание таких положений утратившими силу, не могут быть включены в тексты федеральных законов, изменяющих другие законодательные акты Российской Федерации, приостанавливающих их действие или признающих их утратившими силу либо содержащих самостоятельный предмет правового регулирования.(часть шестая введена Федеральным законом от 29.07.2017 N 255-ФЗ).Указы Президента Российской Федерации, содержащие нормы трудового права, не должны противоречить настоящему Кодексу и иным федеральным законам.Постановления Правительства Российской Федерации, содержащие нормы трудового права, не должны противоречить настоящему Кодексу, иным федеральным законам и указам Президента Российской Федерации.Нормативные правовые акты федеральных органов исполнительной власти, содержащие нормы трудового права, не должны противоречить настоящему Кодексу, иным федеральным законам, указам Президента Российской Федерации и постановлениям Правительства Российской Федерации.Законы субъектов Российской Федерации, содержащие нормы трудового права, не должны противоречить настоящему Кодексу и иным федеральным законам. Нормативные правовые акты органов исполнительной власти субъектов Российской Федерации не должны противоречить настоящему Кодексу, иным федеральным законам, указам Президента Российской Федерации, постановлениям Правительства Российской Федерации и нормативным правовым актам федеральных органов исполнительной власти.Органы местного самоуправления имеют право принимать нормативные правовые акты, содержащие нормы трудового права, в пределах своей компетенции в соответствии с настоящим Кодексом, другими федеральными законами и иными нормативными правовыми актами Российской Федерации, законами и иными нормативными правовыми актами субъектов Российской Федерации.']"
            ]
          },
          "metadata": {
            "tags": []
          },
          "execution_count": 277
        }
      ]
    },
    {
      "cell_type": "code",
      "metadata": {
        "id": "aPQgX5Gj95zD",
        "colab_type": "code",
        "outputId": "ea4651b5-8379-4c98-8705-68e07133220b",
        "colab": {
          "base_uri": "https://localhost:8080/",
          "height": 54
        }
      },
      "source": [
        "labourcode[0]"
      ],
      "execution_count": 7,
      "outputs": [
        {
          "output_type": "execute_result",
          "data": {
            "text/plain": [
              "'Статья 1. Цели и задачи трудового законодательства</s>Целями трудового законодательства являются установление государственных гарантий трудовых прав и свобод граждан, создание благоприятных условий труда, защита прав и интересов работников и работодателей</s>Основными задачами трудового законодательства являются создание необходимых правовых условий для достижения оптимального согласования интересов сторон трудовых отношений, интересов государства, а также правовое регулирование трудовых отношений и иных непосредственно связанных с ними отношений по:организации труда и управлению трудом</s>трудоустройству у данного работодателя</s>подготовке и дополнительному профессиональному образованию работников непосредственно у данного работодателя</s>(в ред. Федерального закона от 02.07.2013 N 185-ФЗ)</s>социальному партнерству, ведению коллективных переговоров, заключению коллективных договоров и соглашений</s>участию работников и профессиональных союзов в установлении условий труда и применении трудового законодательства в предусмотренных законом случаях</s>материальной ответственности работодателей и работников в сфере труда</s>государственному контролю (надзору), профсоюзному контролю за соблюдением трудового законодательства (включая законодательство об охране труда) и иных нормативных правовых актов, содержащих нормы трудового права</s>(в ред. Федеральных законов от 30.06.2006 N 90-ФЗ, от 18.07.2011 N 242-ФЗ)</s>разрешению трудовых споров</s>обязательному социальному страхованию в случаях, предусмотренных федеральными законами</s>(абзац введен Федеральным законом от 30.06.2006 N 90-ФЗ)</s>'"
            ]
          },
          "metadata": {
            "tags": []
          },
          "execution_count": 7
        }
      ]
    },
    {
      "cell_type": "code",
      "metadata": {
        "colab_type": "code",
        "id": "pFQwJw4PwFx0",
        "colab": {}
      },
      "source": [
        "pattern = re.compile(r\"^Статья ([\\d|\\.]+)\\. (.*)$\")\n",
        "data_, data = {}, {}\n",
        "for article in labourcode_:\n",
        "    d = re.findall(pattern, article)\n",
        "    if len(d)!=0:\n",
        "        data_[d[0][0]] = d[0][1]\n",
        "for article in labourcode:\n",
        "    d = re.findall(pattern, article)\n",
        "    if len(d)!=0:\n",
        "        data[d[0][0]] = d[0][1]"
      ],
      "execution_count": 0,
      "outputs": []
    },
    {
      "cell_type": "code",
      "metadata": {
        "colab_type": "code",
        "id": "d0qCo70O1rXO",
        "colab": {}
      },
      "source": [
        "lc = {'Article №': list(data_.keys()), 'Text': list(data_.values()), 'CleanText': list(data.values()),'SentenceList': list(data.values()), 'TokensList': list(data.values())}"
      ],
      "execution_count": 0,
      "outputs": []
    },
    {
      "cell_type": "code",
      "metadata": {
        "colab_type": "code",
        "id": "DxWZhlobv34L",
        "colab": {}
      },
      "source": [
        "df = pd.DataFrame(lc)"
      ],
      "execution_count": 0,
      "outputs": []
    },
    {
      "cell_type": "markdown",
      "metadata": {
        "id": "uwwUt_WX6ryD",
        "colab_type": "text"
      },
      "source": [
        "## Preprocessing"
      ]
    },
    {
      "cell_type": "code",
      "metadata": {
        "colab_type": "code",
        "id": "RDMcAlUE7i9h",
        "colab": {}
      },
      "source": [
        "def get_sents(text):\n",
        "  sentences = text.split('</s>')\n",
        "  sentences = [s.strip() for s in sentences if s!='']\n",
        "  return sentences\n",
        "\n",
        "def preprocess_sentence(sentence):\n",
        "    '''Remove dates, digits, punctuation, Russian stop words(extended list)'''\n",
        "    ru_stopwords = stopwords.words('russian')\n",
        "    stop = ['фз', 'n', 'ред', 'ст']\n",
        "    ru_stopwords.extend(stop)\n",
        "    dgts = [str(i) for i in range(10)]\n",
        "    punctuation = '!\"#$%&():*+-/<=>?@[\\]^_`{|}~,.'\n",
        "    sentence = re.sub(r'\\d+', '', sentence)\n",
        "    for s in punctuation:\n",
        "        sentence = sentence.replace(s, ' ')\n",
        "    sentence = re.sub( '\\s+', ' ', sentence).strip()\n",
        "    tokens = nltk.word_tokenize(sentence, language='russian')\n",
        "    tokens = [token for token in tokens if token not in ru_stopwords\\\n",
        "              and token not in dgts\\\n",
        "              and token != \" \"]\n",
        "    sentence = \" \".join(tokens)\n",
        "    return sentence\n",
        "\n",
        "def preprocess_text(text):\n",
        "    text = text.lower()\n",
        "    sentences = get_sents(text)\n",
        "    sentences_, tokens = list(), list()\n",
        "    for sent in sentences:\n",
        "      sent = preprocess_sentence(sent)\n",
        "      sentences_.append(sent + '</s>')\n",
        "    text = \" \".join(sentences_)\n",
        "    return text\n",
        "\n",
        "def get_tokens(text):\n",
        "  tokens= list()\n",
        "  sentences = get_sents(text)\n",
        "  for sent in sentences:\n",
        "    s_tokens = nltk.word_tokenize(sent, language='russian')\n",
        "    s_tokens = [token for token in s_tokens if token != \" \"]\n",
        "    if len(s_tokens)!=0:\n",
        "      tokens.append(s_tokens)\n",
        "  return tokens"
      ],
      "execution_count": 0,
      "outputs": []
    },
    {
      "cell_type": "code",
      "metadata": {
        "id": "OzOc7A0Z6ryJ",
        "colab_type": "code",
        "colab": {}
      },
      "source": [
        "for i in range(len(df['CleanText'])):\n",
        "    df['CleanText'][i] = preprocess_text(df['CleanText'][i])\n",
        "    df['SentenceList'][i] = get_sents(df['CleanText'][i])\n",
        "    df['TokensList'][i] = get_tokens(df['CleanText'][i])"
      ],
      "execution_count": 0,
      "outputs": []
    },
    {
      "cell_type": "code",
      "metadata": {
        "id": "Wxk2I1Kf6ryT",
        "colab_type": "code",
        "outputId": "c32ce64c-6d82-4123-f597-9f767c9e53f9",
        "colab": {
          "base_uri": "https://localhost:8080/",
          "height": 528
        }
      },
      "source": [
        "df.sample(10)"
      ],
      "execution_count": 12,
      "outputs": [
        {
          "output_type": "execute_result",
          "data": {
            "text/html": [
              "<div>\n",
              "<style scoped>\n",
              "    .dataframe tbody tr th:only-of-type {\n",
              "        vertical-align: middle;\n",
              "    }\n",
              "\n",
              "    .dataframe tbody tr th {\n",
              "        vertical-align: top;\n",
              "    }\n",
              "\n",
              "    .dataframe thead th {\n",
              "        text-align: right;\n",
              "    }\n",
              "</style>\n",
              "<table border=\"1\" class=\"dataframe\">\n",
              "  <thead>\n",
              "    <tr style=\"text-align: right;\">\n",
              "      <th></th>\n",
              "      <th>Article №</th>\n",
              "      <th>Text</th>\n",
              "      <th>CleanText</th>\n",
              "      <th>SentenceList</th>\n",
              "      <th>TokensList</th>\n",
              "    </tr>\n",
              "  </thead>\n",
              "  <tbody>\n",
              "    <tr>\n",
              "      <th>247</th>\n",
              "      <td>227</td>\n",
              "      <td>Несчастные случаи, подлежащие расследованию и ...</td>\n",
              "      <td>несчастные случаи подлежащие расследованию уче...</td>\n",
              "      <td>[несчастные случаи подлежащие расследованию уч...</td>\n",
              "      <td>[[несчастные, случаи, подлежащие, расследовани...</td>\n",
              "    </tr>\n",
              "    <tr>\n",
              "      <th>202</th>\n",
              "      <td>186</td>\n",
              "      <td>Гарантии и компенсации работникам в случае сда...</td>\n",
              "      <td>гарантии компенсации работникам случае сдачи и...</td>\n",
              "      <td>[гарантии компенсации работникам случае сдачи ...</td>\n",
              "      <td>[[гарантии, компенсации, работникам, случае, с...</td>\n",
              "    </tr>\n",
              "    <tr>\n",
              "      <th>127</th>\n",
              "      <td>116</td>\n",
              "      <td>Ежегодные дополнительные оплачиваемые отпуска....</td>\n",
              "      <td>ежегодные дополнительные оплачиваемые отпуска&lt;...</td>\n",
              "      <td>[ежегодные дополнительные оплачиваемые отпуска...</td>\n",
              "      <td>[[ежегодные, дополнительные, оплачиваемые, отп...</td>\n",
              "    </tr>\n",
              "    <tr>\n",
              "      <th>263</th>\n",
              "      <td>238</td>\n",
              "      <td>Материальная ответственность работника за ущер...</td>\n",
              "      <td>материальная ответственность работника ущерб п...</td>\n",
              "      <td>[материальная ответственность работника ущерб ...</td>\n",
              "      <td>[[материальная, ответственность, работника, ущ...</td>\n",
              "    </tr>\n",
              "    <tr>\n",
              "      <th>63</th>\n",
              "      <td>60</td>\n",
              "      <td>Запрещение требовать выполнения работы, не обу...</td>\n",
              "      <td>запрещение требовать выполнения работы обуслов...</td>\n",
              "      <td>[запрещение требовать выполнения работы обусло...</td>\n",
              "      <td>[[запрещение, требовать, выполнения, работы, о...</td>\n",
              "    </tr>\n",
              "    <tr>\n",
              "      <th>445</th>\n",
              "      <td>364</td>\n",
              "      <td>Ответственность государственных инспекторов тр...</td>\n",
              "      <td>ответственность государственных инспекторов тр...</td>\n",
              "      <td>[ответственность государственных инспекторов т...</td>\n",
              "      <td>[[ответственность, государственных, инспекторо...</td>\n",
              "    </tr>\n",
              "    <tr>\n",
              "      <th>304</th>\n",
              "      <td>276</td>\n",
              "      <td>Работа руководителя организации по совместител...</td>\n",
              "      <td>работа руководителя организации совместительст...</td>\n",
              "      <td>[работа руководителя организации совместительс...</td>\n",
              "      <td>[[работа, руководителя, организации, совместит...</td>\n",
              "    </tr>\n",
              "    <tr>\n",
              "      <th>481</th>\n",
              "      <td>400</td>\n",
              "      <td>Рассмотрение требований работников, профессион...</td>\n",
              "      <td>рассмотрение требований работников профессиона...</td>\n",
              "      <td>[рассмотрение требований работников профессион...</td>\n",
              "      <td>[[рассмотрение, требований, работников, профес...</td>\n",
              "    </tr>\n",
              "    <tr>\n",
              "      <th>80</th>\n",
              "      <td>72</td>\n",
              "      <td>Изменение определенных сторонами условий трудо...</td>\n",
              "      <td>изменение определенных сторонами условий трудо...</td>\n",
              "      <td>[изменение определенных сторонами условий труд...</td>\n",
              "      <td>[[изменение, определенных, сторонами, условий,...</td>\n",
              "    </tr>\n",
              "    <tr>\n",
              "      <th>120</th>\n",
              "      <td>109</td>\n",
              "      <td>Специальные перерывы для обогревания и отдыха....</td>\n",
              "      <td>специальные перерывы обогревания отдыха&lt;/s&gt; от...</td>\n",
              "      <td>[специальные перерывы обогревания отдыха, отде...</td>\n",
              "      <td>[[специальные, перерывы, обогревания, отдыха],...</td>\n",
              "    </tr>\n",
              "  </tbody>\n",
              "</table>\n",
              "</div>"
            ],
            "text/plain": [
              "    Article №  ...                                         TokensList\n",
              "247       227  ...  [[несчастные, случаи, подлежащие, расследовани...\n",
              "202       186  ...  [[гарантии, компенсации, работникам, случае, с...\n",
              "127       116  ...  [[ежегодные, дополнительные, оплачиваемые, отп...\n",
              "263       238  ...  [[материальная, ответственность, работника, ущ...\n",
              "63         60  ...  [[запрещение, требовать, выполнения, работы, о...\n",
              "445       364  ...  [[ответственность, государственных, инспекторо...\n",
              "304       276  ...  [[работа, руководителя, организации, совместит...\n",
              "481       400  ...  [[рассмотрение, требований, работников, профес...\n",
              "80         72  ...  [[изменение, определенных, сторонами, условий,...\n",
              "120       109  ...  [[специальные, перерывы, обогревания, отдыха],...\n",
              "\n",
              "[10 rows x 5 columns]"
            ]
          },
          "metadata": {
            "tags": []
          },
          "execution_count": 12
        }
      ]
    },
    {
      "cell_type": "markdown",
      "metadata": {
        "id": "pLIBXQicQPYq",
        "colab_type": "text"
      },
      "source": [
        "## Embeddings"
      ]
    },
    {
      "cell_type": "code",
      "metadata": {
        "id": "QUsZ8NQI6ryc",
        "colab_type": "code",
        "colab": {}
      },
      "source": [
        "#import tensorflow.compat.v1 as tf\n",
        "#tf.disable_v2_behavior()"
      ],
      "execution_count": 0,
      "outputs": []
    },
    {
      "cell_type": "code",
      "metadata": {
        "id": "I2LXc-zO6ryg",
        "colab_type": "code",
        "outputId": "efab02f8-9e34-4e58-f794-5a6ad61e4adf",
        "colab": {
          "base_uri": "https://localhost:8080/",
          "height": 339
        }
      },
      "source": [
        "elmo = ELMoEmbedder(\"http://files.deeppavlov.ai/deeppavlov_data/elmo_ru-wiki_600k_steps.tar.gz\")"
      ],
      "execution_count": 13,
      "outputs": [
        {
          "output_type": "stream",
          "text": [
            "WARNING:tensorflow:From /usr/local/lib/python3.6/dist-packages/deeppavlov/models/embedders/elmo_embedder.py:186: The name tf.ConfigProto is deprecated. Please use tf.compat.v1.ConfigProto instead.\n",
            "\n"
          ],
          "name": "stdout"
        },
        {
          "output_type": "stream",
          "text": [
            "WARNING:tensorflow:From /usr/local/lib/python3.6/dist-packages/deeppavlov/models/embedders/elmo_embedder.py:186: The name tf.ConfigProto is deprecated. Please use tf.compat.v1.ConfigProto instead.\n",
            "\n"
          ],
          "name": "stderr"
        },
        {
          "output_type": "stream",
          "text": [
            "WARNING:tensorflow:From /usr/local/lib/python3.6/dist-packages/deeppavlov/models/embedders/elmo_embedder.py:188: The name tf.Session is deprecated. Please use tf.compat.v1.Session instead.\n",
            "\n"
          ],
          "name": "stdout"
        },
        {
          "output_type": "stream",
          "text": [
            "WARNING:tensorflow:From /usr/local/lib/python3.6/dist-packages/deeppavlov/models/embedders/elmo_embedder.py:188: The name tf.Session is deprecated. Please use tf.compat.v1.Session instead.\n",
            "\n"
          ],
          "name": "stderr"
        },
        {
          "output_type": "stream",
          "text": [
            "WARNING:tensorflow:From /usr/local/lib/python3.6/dist-packages/deeppavlov/models/embedders/elmo_embedder.py:190: The name tf.placeholder is deprecated. Please use tf.compat.v1.placeholder instead.\n",
            "\n"
          ],
          "name": "stdout"
        },
        {
          "output_type": "stream",
          "text": [
            "WARNING:tensorflow:From /usr/local/lib/python3.6/dist-packages/deeppavlov/models/embedders/elmo_embedder.py:190: The name tf.placeholder is deprecated. Please use tf.compat.v1.placeholder instead.\n",
            "\n"
          ],
          "name": "stderr"
        },
        {
          "output_type": "stream",
          "text": [
            "INFO:tensorflow:Saver not created because there are no variables in the graph to restore\n"
          ],
          "name": "stdout"
        },
        {
          "output_type": "stream",
          "text": [
            "INFO:tensorflow:Saver not created because there are no variables in the graph to restore\n"
          ],
          "name": "stderr"
        },
        {
          "output_type": "stream",
          "text": [
            "WARNING:tensorflow:From /usr/local/lib/python3.6/dist-packages/deeppavlov/models/embedders/elmo_embedder.py:198: The name tf.global_variables_initializer is deprecated. Please use tf.compat.v1.global_variables_initializer instead.\n",
            "\n"
          ],
          "name": "stdout"
        },
        {
          "output_type": "stream",
          "text": [
            "WARNING:tensorflow:From /usr/local/lib/python3.6/dist-packages/deeppavlov/models/embedders/elmo_embedder.py:198: The name tf.global_variables_initializer is deprecated. Please use tf.compat.v1.global_variables_initializer instead.\n",
            "\n"
          ],
          "name": "stderr"
        }
      ]
    },
    {
      "cell_type": "markdown",
      "metadata": {
        "id": "Oml3ERrmSDy7",
        "colab_type": "text"
      },
      "source": [
        "### Simple example of sentence embedding"
      ]
    },
    {
      "cell_type": "code",
      "metadata": {
        "id": "5RjUwMce6ryq",
        "colab_type": "code",
        "outputId": "742f09be-4756-4d4d-dead-2bbec1947721",
        "colab": {
          "base_uri": "https://localhost:8080/",
          "height": 50
        }
      },
      "source": [
        "sent1 = elmo([['вопрос', 'жизни', 'Вселенной', 'и', 'вообще', 'всего']])\n",
        "sent1"
      ],
      "execution_count": 0,
      "outputs": [
        {
          "output_type": "execute_result",
          "data": {
            "text/plain": [
              "array([[-0.22791581,  0.07285882, -0.4693267 , ...,  0.32489085,\n",
              "         0.16321455, -0.15760408]], dtype=float32)"
            ]
          },
          "metadata": {
            "tags": []
          },
          "execution_count": 32
        }
      ]
    },
    {
      "cell_type": "code",
      "metadata": {
        "id": "YuueBIuq6ry5",
        "colab_type": "code",
        "outputId": "d4059681-7ad9-4b10-ec12-3681df98527a",
        "colab": {
          "base_uri": "https://localhost:8080/",
          "height": 34
        }
      },
      "source": [
        "sent1.shape"
      ],
      "execution_count": 0,
      "outputs": [
        {
          "output_type": "execute_result",
          "data": {
            "text/plain": [
              "(1, 1024)"
            ]
          },
          "metadata": {
            "tags": []
          },
          "execution_count": 33
        }
      ]
    },
    {
      "cell_type": "markdown",
      "metadata": {
        "id": "sr55sJtsSWwP",
        "colab_type": "text"
      },
      "source": [
        "### Embeddings of the Labour Code"
      ]
    },
    {
      "cell_type": "code",
      "metadata": {
        "id": "zzQhz3PEMLpb",
        "colab_type": "code",
        "outputId": "298038ff-2690-4ed2-bc4a-51510ebbe792",
        "colab": {
          "base_uri": "https://localhost:8080/",
          "height": 235
        }
      },
      "source": [
        "sent = elmo(df['TokensList'][0])\n",
        "sent, sent.shape, len(df['TokensList'][0])"
      ],
      "execution_count": 14,
      "outputs": [
        {
          "output_type": "execute_result",
          "data": {
            "text/plain": [
              "(array([[-0.22810686,  0.1956717 ,  0.05869008, ...,  0.1934332 ,\n",
              "          0.98120344, -0.54274714],\n",
              "        [-0.08671846, -0.43708658, -0.05983023, ...,  0.13102421,\n",
              "          0.65748656, -0.26309767],\n",
              "        [-0.24975255, -0.00115161, -0.22065973, ...,  0.21881309,\n",
              "          0.3562771 , -0.19120866],\n",
              "        ...,\n",
              "        [ 0.9814391 , -0.44105062, -0.00118074, ...,  0.65208226,\n",
              "          0.37582895, -0.6856761 ],\n",
              "        [-0.09110795, -0.48805   ,  0.06507654, ..., -0.49216366,\n",
              "          0.4514823 , -0.639512  ],\n",
              "        [-0.06037433, -0.163436  , -0.1235569 , ..., -0.4384199 ,\n",
              "          0.39786494, -0.5720996 ]], dtype=float32), (14, 1024), 14)"
            ]
          },
          "metadata": {
            "tags": []
          },
          "execution_count": 14
        }
      ]
    },
    {
      "cell_type": "code",
      "metadata": {
        "id": "RXDM-4JrM0iR",
        "colab_type": "code",
        "colab": {}
      },
      "source": [
        "embeddings = list()\n",
        "for i in range(len(df['TokensList'])):\n",
        "  embeddings.append(elmo(df['TokensList'][i]))\n",
        "\n",
        "df['Embeddings'] = embeddings"
      ],
      "execution_count": 0,
      "outputs": []
    },
    {
      "cell_type": "code",
      "metadata": {
        "id": "u_alGmBZQexu",
        "colab_type": "code",
        "outputId": "0058640a-a477-4fca-9238-ccb8b16fef2f",
        "colab": {
          "base_uri": "https://localhost:8080/",
          "height": 528
        }
      },
      "source": [
        "df.sample(10)"
      ],
      "execution_count": 16,
      "outputs": [
        {
          "output_type": "execute_result",
          "data": {
            "text/html": [
              "<div>\n",
              "<style scoped>\n",
              "    .dataframe tbody tr th:only-of-type {\n",
              "        vertical-align: middle;\n",
              "    }\n",
              "\n",
              "    .dataframe tbody tr th {\n",
              "        vertical-align: top;\n",
              "    }\n",
              "\n",
              "    .dataframe thead th {\n",
              "        text-align: right;\n",
              "    }\n",
              "</style>\n",
              "<table border=\"1\" class=\"dataframe\">\n",
              "  <thead>\n",
              "    <tr style=\"text-align: right;\">\n",
              "      <th></th>\n",
              "      <th>Article №</th>\n",
              "      <th>Text</th>\n",
              "      <th>CleanText</th>\n",
              "      <th>SentenceList</th>\n",
              "      <th>TokensList</th>\n",
              "      <th>Embeddings</th>\n",
              "    </tr>\n",
              "  </thead>\n",
              "  <tbody>\n",
              "    <tr>\n",
              "      <th>74</th>\n",
              "      <td>67</td>\n",
              "      <td>Форма трудового договора.Трудовой договор закл...</td>\n",
              "      <td>форма трудового договора&lt;/s&gt; трудовой договор ...</td>\n",
              "      <td>[форма трудового договора, трудовой договор за...</td>\n",
              "      <td>[[форма, трудового, договора], [трудовой, дого...</td>\n",
              "      <td>[[0.003593872, 0.40009034, 0.22068469, 0.63457...</td>\n",
              "    </tr>\n",
              "    <tr>\n",
              "      <th>494</th>\n",
              "      <td>413</td>\n",
              "      <td>Незаконные забастовки.В соответствии со статье...</td>\n",
              "      <td>незаконные забастовки&lt;/s&gt; соответствии статьей...</td>\n",
              "      <td>[незаконные забастовки, соответствии статьей к...</td>\n",
              "      <td>[[незаконные, забастовки], [соответствии, стат...</td>\n",
              "      <td>[[0.8745048, -0.1791228, -0.292001, -0.2202528...</td>\n",
              "    </tr>\n",
              "    <tr>\n",
              "      <th>187</th>\n",
              "      <td>173.1</td>\n",
              "      <td>Гарантии и компенсации работникам, совмещающим...</td>\n",
              "      <td>гарантии компенсации работникам совмещающим ра...</td>\n",
              "      <td>[гарантии компенсации работникам совмещающим р...</td>\n",
              "      <td>[[гарантии, компенсации, работникам, совмещающ...</td>\n",
              "      <td>[[-0.4850841, -0.33360055, -0.1329479, 0.11980...</td>\n",
              "    </tr>\n",
              "    <tr>\n",
              "      <th>280</th>\n",
              "      <td>255</td>\n",
              "      <td>Отпуска по беременности и родам.Женщинам по их...</td>\n",
              "      <td>отпуска беременности родам&lt;/s&gt; женщинам заявле...</td>\n",
              "      <td>[отпуска беременности родам, женщинам заявлени...</td>\n",
              "      <td>[[отпуска, беременности, родам], [женщинам, за...</td>\n",
              "      <td>[[0.09666926, 0.08237899, -0.15595129, 0.48533...</td>\n",
              "    </tr>\n",
              "    <tr>\n",
              "      <th>169</th>\n",
              "      <td>157</td>\n",
              "      <td>Оплата времени простоя.Время простоя  настояще...</td>\n",
              "      <td>оплата времени простоя&lt;/s&gt; время простоя насто...</td>\n",
              "      <td>[оплата времени простоя, время простоя настоящ...</td>\n",
              "      <td>[[оплата, времени, простоя], [время, простоя, ...</td>\n",
              "      <td>[[-0.19711828, -0.88072664, 0.3616477, -0.6077...</td>\n",
              "    </tr>\n",
              "    <tr>\n",
              "      <th>385</th>\n",
              "      <td>336.1</td>\n",
              "      <td>Особенности заключения и прекращения трудового...</td>\n",
              "      <td>особенности заключения прекращения трудового д...</td>\n",
              "      <td>[особенности заключения прекращения трудового ...</td>\n",
              "      <td>[[особенности, заключения, прекращения, трудов...</td>\n",
              "      <td>[[0.37192816, 0.4980471, -0.3349769, 0.0086988...</td>\n",
              "    </tr>\n",
              "    <tr>\n",
              "      <th>79</th>\n",
              "      <td>71</td>\n",
              "      <td>Результат испытания при приеме на работу.При н...</td>\n",
              "      <td>результат испытания приеме работу&lt;/s&gt; неудовле...</td>\n",
              "      <td>[результат испытания приеме работу, неудовлетв...</td>\n",
              "      <td>[[результат, испытания, приеме, работу], [неуд...</td>\n",
              "      <td>[[-0.82710886, 0.066825695, 0.20490655, -0.584...</td>\n",
              "    </tr>\n",
              "    <tr>\n",
              "      <th>303</th>\n",
              "      <td>275</td>\n",
              "      <td>Заключение трудового договора с руководителем ...</td>\n",
              "      <td>заключение трудового договора руководителем ор...</td>\n",
              "      <td>[заключение трудового договора руководителем о...</td>\n",
              "      <td>[[заключение, трудового, договора, руководител...</td>\n",
              "      <td>[[-0.15134463, 0.20871958, -0.1168334, 0.10195...</td>\n",
              "    </tr>\n",
              "    <tr>\n",
              "      <th>34</th>\n",
              "      <td>34</td>\n",
              "      <td>Иные представители работодателей.(в ред. Федер...</td>\n",
              "      <td>иные представители работодателей&lt;/s&gt; федеральн...</td>\n",
              "      <td>[иные представители работодателей, федеральног...</td>\n",
              "      <td>[[иные, представители, работодателей], [федера...</td>\n",
              "      <td>[[-0.50298375, 0.034138564, -0.043914616, 0.32...</td>\n",
              "    </tr>\n",
              "    <tr>\n",
              "      <th>134</th>\n",
              "      <td>123</td>\n",
              "      <td>Очередность предоставления ежегодных оплачивае...</td>\n",
              "      <td>очередность предоставления ежегодных оплачивае...</td>\n",
              "      <td>[очередность предоставления ежегодных оплачива...</td>\n",
              "      <td>[[очередность, предоставления, ежегодных, опла...</td>\n",
              "      <td>[[-0.56763494, -0.5146183, -0.7264492, -0.8225...</td>\n",
              "    </tr>\n",
              "  </tbody>\n",
              "</table>\n",
              "</div>"
            ],
            "text/plain": [
              "    Article №  ...                                         Embeddings\n",
              "74         67  ...  [[0.003593872, 0.40009034, 0.22068469, 0.63457...\n",
              "494       413  ...  [[0.8745048, -0.1791228, -0.292001, -0.2202528...\n",
              "187     173.1  ...  [[-0.4850841, -0.33360055, -0.1329479, 0.11980...\n",
              "280       255  ...  [[0.09666926, 0.08237899, -0.15595129, 0.48533...\n",
              "169       157  ...  [[-0.19711828, -0.88072664, 0.3616477, -0.6077...\n",
              "385     336.1  ...  [[0.37192816, 0.4980471, -0.3349769, 0.0086988...\n",
              "79         71  ...  [[-0.82710886, 0.066825695, 0.20490655, -0.584...\n",
              "303       275  ...  [[-0.15134463, 0.20871958, -0.1168334, 0.10195...\n",
              "34         34  ...  [[-0.50298375, 0.034138564, -0.043914616, 0.32...\n",
              "134       123  ...  [[-0.56763494, -0.5146183, -0.7264492, -0.8225...\n",
              "\n",
              "[10 rows x 6 columns]"
            ]
          },
          "metadata": {
            "tags": []
          },
          "execution_count": 16
        }
      ]
    },
    {
      "cell_type": "markdown",
      "metadata": {
        "id": "nEn-YUyURcUP",
        "colab_type": "text"
      },
      "source": [
        "Как сохранить dataframe, чтобы можно было считать массив?"
      ]
    },
    {
      "cell_type": "code",
      "metadata": {
        "id": "D6YrxP4QvguI",
        "colab_type": "code",
        "colab": {}
      },
      "source": [
        "df.to_csv(r'drive/My Drive/Thesis/DataFrame/dataframe_LabourCode.csv', index = False)"
      ],
      "execution_count": 0,
      "outputs": []
    },
    {
      "cell_type": "code",
      "metadata": {
        "id": "bslKyE1gBuY4",
        "colab_type": "code",
        "outputId": "c17518ac-cebf-4963-d71d-24dc24e012da",
        "colab": {
          "base_uri": "https://localhost:8080/",
          "height": 296
        }
      },
      "source": [
        "df2 = pd.read_csv('drive/My Drive/Thesis/DataFrame/dataframe_LabourCode.csv', sep=',')\n",
        "df2.head()"
      ],
      "execution_count": 0,
      "outputs": [
        {
          "output_type": "execute_result",
          "data": {
            "text/html": [
              "<div>\n",
              "<style scoped>\n",
              "    .dataframe tbody tr th:only-of-type {\n",
              "        vertical-align: middle;\n",
              "    }\n",
              "\n",
              "    .dataframe tbody tr th {\n",
              "        vertical-align: top;\n",
              "    }\n",
              "\n",
              "    .dataframe thead th {\n",
              "        text-align: right;\n",
              "    }\n",
              "</style>\n",
              "<table border=\"1\" class=\"dataframe\">\n",
              "  <thead>\n",
              "    <tr style=\"text-align: right;\">\n",
              "      <th></th>\n",
              "      <th>Article №</th>\n",
              "      <th>Text</th>\n",
              "      <th>CleanText</th>\n",
              "      <th>SentenceList</th>\n",
              "      <th>TokensList</th>\n",
              "      <th>Embeddings</th>\n",
              "    </tr>\n",
              "  </thead>\n",
              "  <tbody>\n",
              "    <tr>\n",
              "      <th>0</th>\n",
              "      <td>1.0</td>\n",
              "      <td>Цели и задачи трудового законодательства.Целям...</td>\n",
              "      <td>цели задачи трудового законодательства&lt;/s&gt; цел...</td>\n",
              "      <td>['цели задачи трудового законодательства', 'це...</td>\n",
              "      <td>[['цели', 'задачи', 'трудового', 'законодатель...</td>\n",
              "      <td>[[-0.29232886  0.17375308 -0.08496491 ...  0.1...</td>\n",
              "    </tr>\n",
              "    <tr>\n",
              "      <th>1</th>\n",
              "      <td>2.0</td>\n",
              "      <td>Основные принципы правового регулирования труд...</td>\n",
              "      <td>основные принципы правового регулирования труд...</td>\n",
              "      <td>['основные принципы правового регулирования тр...</td>\n",
              "      <td>[['основные', 'принципы', 'правового', 'регули...</td>\n",
              "      <td>[[ 0.12884177  0.10830875  0.05851702 ...  0.0...</td>\n",
              "    </tr>\n",
              "    <tr>\n",
              "      <th>2</th>\n",
              "      <td>3.0</td>\n",
              "      <td>Запрещение дискриминации в сфере труда.Каждый ...</td>\n",
              "      <td>запрещение дискриминации сфере труда&lt;/s&gt; кажды...</td>\n",
              "      <td>['запрещение дискриминации сфере труда', 'кажд...</td>\n",
              "      <td>[['запрещение', 'дискриминации', 'сфере', 'тру...</td>\n",
              "      <td>[[-0.38215995 -1.0119139   0.25641403 ...  0.7...</td>\n",
              "    </tr>\n",
              "    <tr>\n",
              "      <th>3</th>\n",
              "      <td>4.0</td>\n",
              "      <td>Запрещение принудительного труда.Принудительны...</td>\n",
              "      <td>запрещение принудительного труда&lt;/s&gt; принудите...</td>\n",
              "      <td>['запрещение принудительного труда', 'принудит...</td>\n",
              "      <td>[['запрещение', 'принудительного', 'труда'], [...</td>\n",
              "      <td>[[-0.04473098 -0.84571433 -0.31726566 ...  0.9...</td>\n",
              "    </tr>\n",
              "    <tr>\n",
              "      <th>4</th>\n",
              "      <td>5.0</td>\n",
              "      <td>Трудовое законодательство и иные акты, содержа...</td>\n",
              "      <td>трудовое законодательство иные акты содержащие...</td>\n",
              "      <td>['трудовое законодательство иные акты содержащ...</td>\n",
              "      <td>[['трудовое', 'законодательство', 'иные', 'акт...</td>\n",
              "      <td>[[ 7.3362656e-02  3.6388353e-01 -5.6537825e-01...</td>\n",
              "    </tr>\n",
              "  </tbody>\n",
              "</table>\n",
              "</div>"
            ],
            "text/plain": [
              "   Article №  ...                                         Embeddings\n",
              "0        1.0  ...  [[-0.29232886  0.17375308 -0.08496491 ...  0.1...\n",
              "1        2.0  ...  [[ 0.12884177  0.10830875  0.05851702 ...  0.0...\n",
              "2        3.0  ...  [[-0.38215995 -1.0119139   0.25641403 ...  0.7...\n",
              "3        4.0  ...  [[-0.04473098 -0.84571433 -0.31726566 ...  0.9...\n",
              "4        5.0  ...  [[ 7.3362656e-02  3.6388353e-01 -5.6537825e-01...\n",
              "\n",
              "[5 rows x 6 columns]"
            ]
          },
          "metadata": {
            "tags": []
          },
          "execution_count": 17
        }
      ]
    },
    {
      "cell_type": "code",
      "metadata": {
        "id": "DeoAgYDRdCSY",
        "colab_type": "code",
        "outputId": "2da941e7-967c-456c-f4c5-e95ab2922a09",
        "colab": {
          "base_uri": "https://localhost:8080/",
          "height": 296
        }
      },
      "source": [
        "df.tail()"
      ],
      "execution_count": 0,
      "outputs": [
        {
          "output_type": "execute_result",
          "data": {
            "text/html": [
              "<div>\n",
              "<style scoped>\n",
              "    .dataframe tbody tr th:only-of-type {\n",
              "        vertical-align: middle;\n",
              "    }\n",
              "\n",
              "    .dataframe tbody tr th {\n",
              "        vertical-align: top;\n",
              "    }\n",
              "\n",
              "    .dataframe thead th {\n",
              "        text-align: right;\n",
              "    }\n",
              "</style>\n",
              "<table border=\"1\" class=\"dataframe\">\n",
              "  <thead>\n",
              "    <tr style=\"text-align: right;\">\n",
              "      <th></th>\n",
              "      <th>Article №</th>\n",
              "      <th>Text</th>\n",
              "      <th>CleanText</th>\n",
              "      <th>SentenceList</th>\n",
              "      <th>TokensList</th>\n",
              "      <th>Embeddings</th>\n",
              "    </tr>\n",
              "  </thead>\n",
              "  <tbody>\n",
              "    <tr>\n",
              "      <th>500</th>\n",
              "      <td>419</td>\n",
              "      <td>Виды ответственности за нарушение трудового за...</td>\n",
              "      <td>виды ответственности нарушение трудового закон...</td>\n",
              "      <td>[виды ответственности нарушение трудового зако...</td>\n",
              "      <td>[[виды, ответственности, нарушение, трудового,...</td>\n",
              "      <td>[[0.16471618, 0.26036975, -0.261154, 0.0027894...</td>\n",
              "    </tr>\n",
              "    <tr>\n",
              "      <th>501</th>\n",
              "      <td>420</td>\n",
              "      <td>Сроки введения в действие настоящего Кодекса.Н...</td>\n",
              "      <td>сроки введения действие настоящего кодекса&lt;/s&gt;...</td>\n",
              "      <td>[сроки введения действие настоящего кодекса, н...</td>\n",
              "      <td>[[сроки, введения, действие, настоящего, кодек...</td>\n",
              "      <td>[[0.19854894, 0.17068318, 0.44005036, -0.35006...</td>\n",
              "    </tr>\n",
              "    <tr>\n",
              "      <th>502</th>\n",
              "      <td>421</td>\n",
              "      <td>Порядок и сроки введения минимального размера ...</td>\n",
              "      <td>порядок сроки введения минимального размера оп...</td>\n",
              "      <td>[порядок сроки введения минимального размера о...</td>\n",
              "      <td>[[порядок, сроки, введения, минимального, разм...</td>\n",
              "      <td>[[-0.014863242, -0.119826496, -0.22384548, -0....</td>\n",
              "    </tr>\n",
              "    <tr>\n",
              "      <th>503</th>\n",
              "      <td>422</td>\n",
              "      <td>Признание утратившими силу отдельных законодат...</td>\n",
              "      <td>признание утратившими силу отдельных законодат...</td>\n",
              "      <td>[признание утратившими силу отдельных законода...</td>\n",
              "      <td>[[признание, утратившими, силу, отдельных, зак...</td>\n",
              "      <td>[[0.40602633, 0.20294352, -0.09668777, -0.5758...</td>\n",
              "    </tr>\n",
              "    <tr>\n",
              "      <th>504</th>\n",
              "      <td>423</td>\n",
              "      <td>Применение законов и иных нормативных правовых...</td>\n",
              "      <td>применение законов иных нормативных правовых а...</td>\n",
              "      <td>[применение законов иных нормативных правовых ...</td>\n",
              "      <td>[[применение, законов, иных, нормативных, прав...</td>\n",
              "      <td>[[-0.38936612, 0.6510145, 0.11729815, -0.62035...</td>\n",
              "    </tr>\n",
              "  </tbody>\n",
              "</table>\n",
              "</div>"
            ],
            "text/plain": [
              "    Article №  ...                                         Embeddings\n",
              "500       419  ...  [[0.16471618, 0.26036975, -0.261154, 0.0027894...\n",
              "501       420  ...  [[0.19854894, 0.17068318, 0.44005036, -0.35006...\n",
              "502       421  ...  [[-0.014863242, -0.119826496, -0.22384548, -0....\n",
              "503       422  ...  [[0.40602633, 0.20294352, -0.09668777, -0.5758...\n",
              "504       423  ...  [[-0.38936612, 0.6510145, 0.11729815, -0.62035...\n",
              "\n",
              "[5 rows x 6 columns]"
            ]
          },
          "metadata": {
            "tags": []
          },
          "execution_count": 18
        }
      ]
    },
    {
      "cell_type": "code",
      "metadata": {
        "id": "OnQ3LVVbCRDO",
        "colab_type": "code",
        "outputId": "07cf6d69-9a80-4ade-fbac-ced88101e76b",
        "colab": {
          "base_uri": "https://localhost:8080/",
          "height": 54
        }
      },
      "source": [
        "df2['Embeddings'][0]"
      ],
      "execution_count": 0,
      "outputs": [
        {
          "output_type": "execute_result",
          "data": {
            "text/plain": [
              "'[[-0.29232886  0.17375308 -0.08496491 ...  0.10873996  0.9771477\\n  -0.5333787 ]\\n [-0.13815095 -0.4208269  -0.08140378 ...  0.1327773   0.64991796\\n  -0.23480415]\\n [-0.28279787  0.0271132  -0.24926314 ...  0.2529559   0.3213948\\n  -0.17194878]\\n ...\\n [ 0.8820545  -0.44130087 -0.11332431 ...  0.69300765  0.2494682\\n  -0.69536704]\\n [-0.15280263 -0.6230334   0.09714627 ... -0.53483164  0.42518848\\n  -0.64611065]\\n [-0.08250816 -0.23525247 -0.04393259 ... -0.5345362   0.31859678\\n  -0.5771429 ]]'"
            ]
          },
          "metadata": {
            "tags": []
          },
          "execution_count": 19
        }
      ]
    },
    {
      "cell_type": "code",
      "metadata": {
        "id": "3nlg6yz4cspk",
        "colab_type": "code",
        "outputId": "bbd4cc8b-ca0e-4170-d691-9f61499eb0e9",
        "colab": {
          "base_uri": "https://localhost:8080/",
          "height": 34
        }
      },
      "source": [
        "df.shape"
      ],
      "execution_count": 16,
      "outputs": [
        {
          "output_type": "execute_result",
          "data": {
            "text/plain": [
              "(505, 6)"
            ]
          },
          "metadata": {
            "tags": []
          },
          "execution_count": 16
        }
      ]
    },
    {
      "cell_type": "markdown",
      "metadata": {
        "id": "CZBppVUHRqjw",
        "colab_type": "text"
      },
      "source": [
        "## Save necessary data as TSV file"
      ]
    },
    {
      "cell_type": "code",
      "metadata": {
        "id": "pITHaiIbR7Ht",
        "colab_type": "code",
        "colab": {}
      },
      "source": [
        "'''Части: 23, 35, 218, 155, 69, 5'''\n",
        "parts = [23, 35, 218, 155, 69, 5]\n",
        "'''Разделы: 23 статьи, 35, 44, 15, 23, 36, 29, 7, 16, 29, 19, 155, 69, 5\n",
        "Всего: 505 статей'''\n",
        "chapters = [23,35,44,15,23,36,29,7,16,29,19,155,69,5]\n",
        "\n",
        "with open(\"drive/My Drive/Thesis/EmbeddingProjector/embeddings.tsv\", \"w\", newline='\\n') as f:\n",
        "    writer = csv.writer(f, delimiter='\\t')\n",
        "    for emb in df['Embeddings']:\n",
        "      for e in emb:\n",
        "        writer.writerow(e)"
      ],
      "execution_count": 0,
      "outputs": []
    },
    {
      "cell_type": "code",
      "metadata": {
        "id": "JOSiBL2Q5S-u",
        "colab_type": "code",
        "colab": {}
      },
      "source": [
        "c = 1\n",
        "parts_words = []\n",
        "for p in parts:\n",
        "  for i in range(p):\n",
        "    parts_words.append('Часть '+ str(c))\n",
        "  c+=1"
      ],
      "execution_count": 0,
      "outputs": []
    },
    {
      "cell_type": "code",
      "metadata": {
        "id": "P5bGWsJVF8Ss",
        "colab_type": "code",
        "colab": {}
      },
      "source": [
        "c_ = 1\n",
        "chapters_words = []\n",
        "for ch in chapters:\n",
        "  for i in range(ch):\n",
        "    chapters_words.append('Раздел '+ str(c_))\n",
        "  c_+=1"
      ],
      "execution_count": 0,
      "outputs": []
    },
    {
      "cell_type": "code",
      "metadata": {
        "id": "X2sS_0ro7_Zh",
        "colab_type": "code",
        "colab": {}
      },
      "source": [
        "with open(\"drive/My Drive/Thesis/EmbeddingProjector/parts_labels_emb.tsv\", \"w\", newline='\\n') as f:\n",
        "    writer = csv.writer(f, delimiter='\\t')\n",
        "    for num, sent, label in zip(df['Article №'], df['SentenceList'], parts_words):\n",
        "      article = 'Статья ' + str(num) + '. '\n",
        "      for s in sent:\n",
        "        sentence = article + s\n",
        "        writer.writerow([sentence, label])"
      ],
      "execution_count": 0,
      "outputs": []
    },
    {
      "cell_type": "code",
      "metadata": {
        "id": "kqJjRgZRG1XW",
        "colab_type": "code",
        "colab": {}
      },
      "source": [
        "with open(\"drive/My Drive/Thesis/EmbeddingProjector/chapters_labels_emb.tsv\", \"w\", newline='\\n') as f:\n",
        "    writer = csv.writer(f, delimiter='\\t')\n",
        "    for num, sent, label in zip(df['Article №'], df['SentenceList'], chapters_words):\n",
        "      article = 'Статья ' + str(num) + '. '\n",
        "      for s in sent:\n",
        "        sentence = article + s\n",
        "        writer.writerow([sentence, label])"
      ],
      "execution_count": 0,
      "outputs": []
    },
    {
      "cell_type": "markdown",
      "metadata": {
        "id": "mPQRC9GIRuO0",
        "colab_type": "text"
      },
      "source": [
        "## Visualization"
      ]
    },
    {
      "cell_type": "markdown",
      "metadata": {
        "id": "FatfIygsGCmB",
        "colab_type": "text"
      },
      "source": [
        "## *Kepler Mapper*"
      ]
    },
    {
      "cell_type": "code",
      "metadata": {
        "id": "ZK51xRwOOi7e",
        "colab_type": "code",
        "colab": {}
      },
      "source": [
        "def KeplerMapperVisualise(ind, ind2 = 0, filename='', title='', show=False):\n",
        "    '''Returns the simplicial_complex - a dictionary with “nodes”, “links” and “meta” information'''\n",
        "    if title=='':\n",
        "      title = \"Article №\" + str(df['Article №'][ind])\n",
        "    # Initialize\n",
        "    mapper = km.KeplerMapper(verbose=0)\n",
        "    # Fit to and transform the data\n",
        "    if ind2 ==0:\n",
        "      data_array = df['Embeddings'][ind]\n",
        "      n = 3\n",
        "      o = 0.7\n",
        "    else:\n",
        "      data_array = []\n",
        "      for emb in df['Embeddings'][ind:ind2]:\n",
        "        for e in emb:\n",
        "          data_array.append(e)\n",
        "      n = 35\n",
        "      o = 0.7\n",
        "    projected_data = mapper.fit_transform(data_array, projection=umap.UMAP(n_components=2,\n",
        "                                                                     metric='cosine'))\n",
        "    print(\"Shape of projected data: \", projected_data.shape)\n",
        "    # Create dictionary called 'graph' with nodes, edges\n",
        "    graph = mapper.map(projected_data, clusterer=cluster.AgglomerativeClustering(n_clusters=3,\n",
        "                                                             linkage=\"complete\" , # complete, average\n",
        "                                                             affinity=\"cosine\"),\n",
        "                          cover=km.Cover(n_cubes=n, #35, 10, 25, 3\n",
        "                                         perc_overlap=o), #0.9, 0.7, 0.9, 0.7/0.9\n",
        "                                         remove_duplicate_nodes=True)\n",
        "    # Visualize it\n",
        "    if filename=='':\n",
        "      path = 'drive/My Drive/Thesis/KeplerMapperPictures/'+'Article_'+ str(df['Article №'][ind]) +'.html'\n",
        "    else:\n",
        "      path = 'drive/My Drive/Thesis/KeplerMapperPictures/'+ filename + '.html'\n",
        "    html = mapper.visualize(graph, path_html=path, title=title) #custom_tooltips = df['SentenceList'][ind])\n",
        "    if show:\n",
        "        km.drawing.draw_matplotlib(graph)"
      ],
      "execution_count": 0,
      "outputs": []
    },
    {
      "cell_type": "code",
      "metadata": {
        "id": "lyo7-KRymbqW",
        "colab_type": "code",
        "outputId": "9d7ce81d-3d05-41ea-8abd-2467b72dd321",
        "colab": {
          "base_uri": "https://localhost:8080/",
          "height": 50
        }
      },
      "source": [
        "max_len = 0\n",
        "max_ind = -1\n",
        "for i in range(len(df['Embeddings'])):\n",
        "  len_emb = len(df['Embeddings'][i])\n",
        "  if len_emb > max_len:\n",
        "    max_len = len_emb\n",
        "    max_ind = i\n",
        "print('Max sentence number: ', max_len)\n",
        "print('Index:', max_ind)"
      ],
      "execution_count": 229,
      "outputs": [
        {
          "output_type": "stream",
          "text": [
            "Max sentence number:  48\n",
            "Index: 503\n"
          ],
          "name": "stdout"
        }
      ]
    },
    {
      "cell_type": "code",
      "metadata": {
        "id": "L6PKoarncvIo",
        "colab_type": "code",
        "colab": {
          "base_uri": "https://localhost:8080/",
          "height": 265
        },
        "outputId": "9c0f75f9-76ed-4cf0-df0f-3232768d0c9c"
      },
      "source": [
        "KeplerMapperVisualise(0,23,'Раздел_1', 'Раздел №1', show=True)"
      ],
      "execution_count": 271,
      "outputs": [
        {
          "output_type": "stream",
          "text": [
            "Shape of projected data:  (294, 2)\n"
          ],
          "name": "stdout"
        },
        {
          "output_type": "display_data",
          "data": {
            "image/png": "[encoded data removed]",
            "text/plain": [
              "<Figure size 432x288 with 1 Axes>"
            ]
          },
          "metadata": {
            "tags": []
          }
        }
      ]
    },
    {
      "cell_type": "code",
      "metadata": {
        "id": "KvUWiZHidr-L",
        "colab_type": "code",
        "colab": {
          "base_uri": "https://localhost:8080/",
          "height": 265
        },
        "outputId": "9a8fb935-36ae-42fb-88dc-e0151774fadb"
      },
      "source": [
        "KeplerMapperVisualise(23,58,'Раздел_2', 'Раздел №2', show=True)"
      ],
      "execution_count": 273,
      "outputs": [
        {
          "output_type": "stream",
          "text": [
            "Shape of projected data:  (282, 2)\n"
          ],
          "name": "stdout"
        },
        {
          "output_type": "display_data",
          "data": {
            "image/png": "[encoded data removed]",
            "text/plain": [
              "<Figure size 432x288 with 1 Axes>"
            ]
          },
          "metadata": {
            "tags": []
          }
        }
      ]
    },
    {
      "cell_type": "code",
      "metadata": {
        "id": "UabzFAMkozuD",
        "colab_type": "code",
        "colab": {
          "base_uri": "https://localhost:8080/",
          "height": 265
        },
        "outputId": "bad359e7-d56a-45cc-d31f-df0f3cb9a01b"
      },
      "source": [
        "KeplerMapperVisualise(0,506,'ТК', 'TK', show=True)"
      ],
      "execution_count": 275,
      "outputs": [
        {
          "output_type": "stream",
          "text": [
            "Shape of projected data:  (4103, 2)\n"
          ],
          "name": "stdout"
        },
        {
          "output_type": "display_data",
          "data": {
            "image/png": "[encoded data removed]",
            "text/plain": [
              "<Figure size 432x288 with 1 Axes>"
            ]
          },
          "metadata": {
            "tags": []
          }
        }
      ]
    },
    {
      "cell_type": "code",
      "metadata": {
        "id": "WURuGeIEb6gR",
        "colab_type": "code",
        "colab": {
          "base_uri": "https://localhost:8080/",
          "height": 265
        },
        "outputId": "5426b8c3-d41f-4d15-b62d-e8c8eb4b0188"
      },
      "source": [
        "KeplerMapperVisualise(0, show=True)"
      ],
      "execution_count": 263,
      "outputs": [
        {
          "output_type": "stream",
          "text": [
            "Shape of projected data:  (14, 2)\n"
          ],
          "name": "stdout"
        },
        {
          "output_type": "display_data",
          "data": {
            "image/png": "[encoded data removed]",
            "text/plain": [
              "<Figure size 432x288 with 1 Axes>"
            ]
          },
          "metadata": {
            "tags": []
          }
        }
      ]
    },
    {
      "cell_type": "code",
      "metadata": {
        "id": "j6KNgXWcU_tc",
        "colab_type": "code",
        "colab": {
          "base_uri": "https://localhost:8080/",
          "height": 265
        },
        "outputId": "e8b642da-2651-4325-ede2-1e1e58d4bfe1"
      },
      "source": [
        "KeplerMapperVisualise(1, show=True)"
      ],
      "execution_count": 252,
      "outputs": [
        {
          "output_type": "stream",
          "text": [
            "Shape of projected data:  (24, 2)\n"
          ],
          "name": "stdout"
        },
        {
          "output_type": "display_data",
          "data": {
            "image/png": "[encoded data removed]",
            "text/plain": [
              "<Figure size 432x288 with 1 Axes>"
            ]
          },
          "metadata": {
            "tags": []
          }
        }
      ]
    },
    {
      "cell_type": "code",
      "metadata": {
        "id": "Vm4Vakx_H88s",
        "colab_type": "code",
        "colab": {
          "base_uri": "https://localhost:8080/",
          "height": 265
        },
        "outputId": "71e9ca6b-3ff5-4ba0-f7bb-42d023b0b6cd"
      },
      "source": [
        "KeplerMapperVisualise(248, show=True)"
      ],
      "execution_count": 222,
      "outputs": [
        {
          "output_type": "stream",
          "text": [
            "Shape of projected data:  (7, 2)\n"
          ],
          "name": "stdout"
        },
        {
          "output_type": "display_data",
          "data": {
            "image/png": "[encoded data removed]",
            "text/plain": [
              "<Figure size 432x288 with 1 Axes>"
            ]
          },
          "metadata": {
            "tags": []
          }
        }
      ]
    },
    {
      "cell_type": "code",
      "metadata": {
        "id": "Fu0fm13NUV81",
        "colab_type": "code",
        "colab": {
          "base_uri": "https://localhost:8080/",
          "height": 265
        },
        "outputId": "25c61181-9e2a-4396-801e-66fc3ed18264"
      },
      "source": [
        "KeplerMapperVisualise(155, show=True)"
      ],
      "execution_count": 243,
      "outputs": [
        {
          "output_type": "stream",
          "text": [
            "Shape of projected data:  (13, 2)\n"
          ],
          "name": "stdout"
        },
        {
          "output_type": "display_data",
          "data": {
            "image/png": "[encoded data removed]",
            "text/plain": [
              "<Figure size 432x288 with 1 Axes>"
            ]
          },
          "metadata": {
            "tags": []
          }
        }
      ]
    },
    {
      "cell_type": "code",
      "metadata": {
        "id": "aONGu0SzTnZo",
        "colab_type": "code",
        "colab": {
          "base_uri": "https://localhost:8080/",
          "height": 265
        },
        "outputId": "c6f8efff-686a-4da5-b2af-95c7370a3f2a"
      },
      "source": [
        "KeplerMapperVisualise(503, show=True)"
      ],
      "execution_count": 228,
      "outputs": [
        {
          "output_type": "stream",
          "text": [
            "Shape of projected data:  (48, 2)\n"
          ],
          "name": "stdout"
        },
        {
          "output_type": "display_data",
          "data": {
            "image/png": "[encoded data removed]",
            "text/plain": [
              "<Figure size 432x288 with 1 Axes>"
            ]
          },
          "metadata": {
            "tags": []
          }
        }
      ]
    },
    {
      "cell_type": "markdown",
      "metadata": {
        "id": "YmpplggSwm9G",
        "colab_type": "text"
      },
      "source": [
        "## *Persistence diagrams*"
      ]
    },
    {
      "cell_type": "code",
      "metadata": {
        "id": "AbmDh1twwmM2",
        "colab_type": "code",
        "colab": {}
      },
      "source": [
        "def PersDiagram(ind, title=''):\n",
        "  reducer = umap.UMAP(metric='cosine')\n",
        "  projected_data = reducer.fit_transform(df['Embeddings'][ind])\n",
        "  if title=='':\n",
        "    title = \"Article №\" + str(df['Article №'][ind])\n",
        "  diagram = ripser(projected_data)['dgms']\n",
        "  plot_diagrams(diagram, title= title, show=True)"
      ],
      "execution_count": 0,
      "outputs": []
    },
    {
      "cell_type": "code",
      "metadata": {
        "id": "UlV5EMhB4P3G",
        "colab_type": "code",
        "colab": {}
      },
      "source": [
        "def BottleneckMatching(ind1, ind2):\n",
        "  reducer = umap.UMAP(metric='cosine')\n",
        "  projected_data1 = reducer.fit_transform(df['Embeddings'][ind1])\n",
        "  title1 = \"Article №\" + str(df['Article №'][ind1])\n",
        "  diagram1 = ripser(projected_data1)['dgms'][1]\n",
        "\n",
        "  projected_data2 = reducer.fit_transform(df['Embeddings'][ind2])\n",
        "  title2 = \"Article №\" + str(df['Article №'][ind2])\n",
        "  diagram2 = ripser(projected_data2)['dgms'][1]\n",
        "\n",
        "  d, (matching, D) = bottleneck(diagram1, diagram2, matching=True)\n",
        "  bottleneck_matching(diagram1, diagram2, matching, D, labels=[title1, title2])\n",
        "  plt.title(\"Distance {:.3f}\".format(d))\n",
        "  plt.show()"
      ],
      "execution_count": 0,
      "outputs": []
    },
    {
      "cell_type": "code",
      "metadata": {
        "id": "dMfRVgUYz56W",
        "colab_type": "code",
        "colab": {
          "base_uri": "https://localhost:8080/",
          "height": 472
        },
        "outputId": "fb3f7a8a-0672-4b25-8eb6-28c058eb4a24"
      },
      "source": [
        "PersDiagram(0)"
      ],
      "execution_count": 295,
      "outputs": [
        {
          "output_type": "display_data",
          "data": {
            "image/png": "[encoded data removed]",
            "text/plain": [
              "<Figure size 640x480 with 1 Axes>"
            ]
          },
          "metadata": {
            "tags": []
          }
        }
      ]
    },
    {
      "cell_type": "code",
      "metadata": {
        "id": "nDtFWVzW2jO-",
        "colab_type": "code",
        "colab": {
          "base_uri": "https://localhost:8080/",
          "height": 472
        },
        "outputId": "da572ae5-21b3-4596-9522-7c8028324a97"
      },
      "source": [
        "PersDiagram(1)"
      ],
      "execution_count": 292,
      "outputs": [
        {
          "output_type": "display_data",
          "data": {
            "image/png": "[encoded data removed]",
            "text/plain": [
              "<Figure size 640x480 with 1 Axes>"
            ]
          },
          "metadata": {
            "tags": []
          }
        }
      ]
    },
    {
      "cell_type": "code",
      "metadata": {
        "id": "hJ42hP1A2yj2",
        "colab_type": "code",
        "colab": {
          "base_uri": "https://localhost:8080/",
          "height": 472
        },
        "outputId": "58aef5b7-583d-4b47-aa05-6a2402dd34af"
      },
      "source": [
        "PersDiagram(503)"
      ],
      "execution_count": 293,
      "outputs": [
        {
          "output_type": "display_data",
          "data": {
            "image/png": "[encoded data removed]",
            "text/plain": [
              "<Figure size 640x480 with 1 Axes>"
            ]
          },
          "metadata": {
            "tags": []
          }
        }
      ]
    },
    {
      "cell_type": "code",
      "metadata": {
        "id": "jkRNNBpX-sV3",
        "colab_type": "code",
        "colab": {
          "base_uri": "https://localhost:8080/",
          "height": 472
        },
        "outputId": "fd73d66e-af79-40a0-d137-f706ec5f06f9"
      },
      "source": [
        "BottleneckMatching(0,1)"
      ],
      "execution_count": 319,
      "outputs": [
        {
          "output_type": "display_data",
          "data": {
            "image/png": "[encoded data removed]",
            "text/plain": [
              "<Figure size 640x480 with 1 Axes>"
            ]
          },
          "metadata": {
            "tags": []
          }
        }
      ]
    },
    {
      "cell_type": "code",
      "metadata": {
        "id": "4D-rmp3MGnxQ",
        "colab_type": "code",
        "colab": {
          "base_uri": "https://localhost:8080/",
          "height": 472
        },
        "outputId": "36b3bff9-2a33-4c45-b575-364cb92d5c84"
      },
      "source": [
        "BottleneckMatching(325,89)"
      ],
      "execution_count": 320,
      "outputs": [
        {
          "output_type": "display_data",
          "data": {
            "image/png": "[encoded data removed]",
            "text/plain": [
              "<Figure size 640x480 with 1 Axes>"
            ]
          },
          "metadata": {
            "tags": []
          }
        }
      ]
    },
    {
      "cell_type": "code",
      "metadata": {
        "id": "y9AfhVS0GtqS",
        "colab_type": "code",
        "colab": {
          "base_uri": "https://localhost:8080/",
          "height": 472
        },
        "outputId": "f414c9bf-90b9-4295-9d90-3b09731e83da"
      },
      "source": [
        "BottleneckMatching(503,504)"
      ],
      "execution_count": 321,
      "outputs": [
        {
          "output_type": "display_data",
          "data": {
            "image/png": "[encoded data removed]",
            "text/plain": [
              "<Figure size 640x480 with 1 Axes>"
            ]
          },
          "metadata": {
            "tags": []
          }
        }
      ]
    }
  ]
}