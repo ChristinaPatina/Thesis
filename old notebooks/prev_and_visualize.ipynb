{
  "nbformat": 4,
  "nbformat_minor": 0,
  "metadata": {
    "colab": {
      "name": "prev_and_visualize.ipynb",
      "provenance": [],
      "collapsed_sections": []
    },
    "kernelspec": {
      "name": "python3",
      "display_name": "Python 3"
    },
    "language_info": {
      "codemirror_mode": {
        "name": "ipython",
        "version": 3
      },
      "file_extension": ".py",
      "mimetype": "text/x-python",
      "name": "python",
      "nbconvert_exporter": "python",
      "pygments_lexer": "ipython3",
      "version": "3.7.4"
    },
    "accelerator": "GPU"
  },
  "cells": [
    {
      "cell_type": "code",
      "metadata": {
        "id": "OArVywb16rw7",
        "colab_type": "code",
        "outputId": "aac0fde3-1c67-4908-99b9-f52c6ead5e29",
        "colab": {
          "base_uri": "https://localhost:8080/",
          "height": 1000
        }
      },
      "source": [
        "!pip install python-docx \n",
        "!pip install deeppavlov\n",
        "!pip install kmapper\n",
        "!pip install chart-studio"
      ],
      "execution_count": 1,
      "outputs": [
        {
          "output_type": "stream",
          "text": [
            "Collecting python-docx\n",
            "\u001b[?25l  Downloading https://files.pythonhosted.org/packages/e4/83/c66a1934ed5ed8ab1dbb9931f1779079f8bca0f6bbc5793c06c4b5e7d671/python-docx-0.8.10.tar.gz (5.5MB)\n",
            "\u001b[K     |████████████████████████████████| 5.5MB 20.1MB/s \n",
            "\u001b[?25hRequirement already satisfied: lxml>=2.3.2 in /usr/local/lib/python3.6/dist-packages (from python-docx) (4.2.6)\n",
            "Building wheels for collected packages: python-docx\n",
            "  Building wheel for python-docx (setup.py) ... \u001b[?25l\u001b[?25hdone\n",
            "  Created wheel for python-docx: filename=python_docx-0.8.10-cp36-none-any.whl size=184491 sha256=a4b5dff6d583983f49a98d712ee5258ee9b50423148e87f41fd76c837b7085c7\n",
            "  Stored in directory: /root/.cache/pip/wheels/18/0b/a0/1dd62ff812c857c9e487f27d80d53d2b40531bec1acecfa47b\n",
            "Successfully built python-docx\n",
            "Installing collected packages: python-docx\n",
            "Successfully installed python-docx-0.8.10\n",
            "Collecting deeppavlov\n",
            "\u001b[?25l  Downloading https://files.pythonhosted.org/packages/d7/9d/453d101981b293441be889ba91d6983abdeeb2b3abc070b47a4044f6a64b/deeppavlov-0.7.1-py3-none-any.whl (735kB)\n",
            "\u001b[K     |████████████████████████████████| 737kB 13.9MB/s \n",
            "\u001b[?25hCollecting fastapi==0.38.1\n",
            "\u001b[?25l  Downloading https://files.pythonhosted.org/packages/37/59/1a42dde38f1ae2a7a318947e54fabd1fc02ac423ecc91957c417065e7cc6/fastapi-0.38.1-py3-none-any.whl (160kB)\n",
            "\u001b[K     |████████████████████████████████| 163kB 21.6MB/s \n",
            "\u001b[?25hCollecting pymorphy2-dicts-ru\n",
            "\u001b[?25l  Downloading https://files.pythonhosted.org/packages/7c/9b/358faaff410f65a4ad159275e897b5956dcb20576c5b8e764b971c1634d7/pymorphy2_dicts_ru-2.4.404381.4453942-py2.py3-none-any.whl (8.0MB)\n",
            "\u001b[K     |████████████████████████████████| 8.0MB 38.7MB/s \n",
            "\u001b[?25hCollecting numpy==1.16.4\n",
            "\u001b[?25l  Downloading https://files.pythonhosted.org/packages/87/2d/e4656149cbadd3a8a0369fcd1a9c7d61cc7b87b3903b85389c70c989a696/numpy-1.16.4-cp36-cp36m-manylinux1_x86_64.whl (17.3MB)\n",
            "\u001b[K     |████████████████████████████████| 17.3MB 187kB/s \n",
            "\u001b[?25hRequirement already satisfied: nltk==3.2.5 in /usr/local/lib/python3.6/dist-packages (from deeppavlov) (3.2.5)\n",
            "Collecting pandas==0.24.2\n",
            "\u001b[?25l  Downloading https://files.pythonhosted.org/packages/19/74/e50234bc82c553fecdbd566d8650801e3fe2d6d8c8d940638e3d8a7c5522/pandas-0.24.2-cp36-cp36m-manylinux1_x86_64.whl (10.1MB)\n",
            "\u001b[K     |████████████████████████████████| 10.1MB 38.0MB/s \n",
            "\u001b[?25hCollecting fuzzywuzzy==0.17.0\n",
            "  Downloading https://files.pythonhosted.org/packages/d8/f1/5a267addb30ab7eaa1beab2b9323073815da4551076554ecc890a3595ec9/fuzzywuzzy-0.17.0-py2.py3-none-any.whl\n",
            "Collecting overrides==1.9\n",
            "  Downloading https://files.pythonhosted.org/packages/de/55/3100c6d14c1ed177492fcf8f07c4a7d2d6c996c0a7fc6a9a0a41308e7eec/overrides-1.9.tar.gz\n",
            "Collecting scipy==1.3.0\n",
            "\u001b[?25l  Downloading https://files.pythonhosted.org/packages/72/4c/5f81e7264b0a7a8bd570810f48cd346ba36faedbd2ba255c873ad556de76/scipy-1.3.0-cp36-cp36m-manylinux1_x86_64.whl (25.2MB)\n",
            "\u001b[K     |████████████████████████████████| 25.2MB 1.4MB/s \n",
            "\u001b[?25hCollecting pytelegrambotapi==3.6.6\n",
            "\u001b[?25l  Downloading https://files.pythonhosted.org/packages/25/5e/9711642455c4e17b1202d4f6403ede0fef37fc145038aee7193f3b24445e/pyTelegramBotAPI-3.6.6.tar.gz (49kB)\n",
            "\u001b[K     |████████████████████████████████| 51kB 7.1MB/s \n",
            "\u001b[?25hCollecting Cython==0.29.12\n",
            "\u001b[?25l  Downloading https://files.pythonhosted.org/packages/58/2f/b08ad77c639040baafc891621f0cfdb209e2266404ca13c3167970a6f6d6/Cython-0.29.12-cp36-cp36m-manylinux1_x86_64.whl (2.1MB)\n",
            "\u001b[K     |████████████████████████████████| 2.1MB 44.1MB/s \n",
            "\u001b[?25hCollecting tqdm==4.32.2\n",
            "\u001b[?25l  Downloading https://files.pythonhosted.org/packages/9f/3d/7a6b68b631d2ab54975f3a4863f3c4e9b26445353264ef01f465dc9b0208/tqdm-4.32.2-py2.py3-none-any.whl (50kB)\n",
            "\u001b[K     |████████████████████████████████| 51kB 6.3MB/s \n",
            "\u001b[?25hCollecting pymorphy2==0.8\n",
            "\u001b[?25l  Downloading https://files.pythonhosted.org/packages/a3/33/fff9675c68b5f6c63ec8c6e6ff57827dda28a1fa5b2c2d727dffff92dd47/pymorphy2-0.8-py2.py3-none-any.whl (46kB)\n",
            "\u001b[K     |████████████████████████████████| 51kB 5.0MB/s \n",
            "\u001b[?25hCollecting keras==2.2.4\n",
            "\u001b[?25l  Downloading https://files.pythonhosted.org/packages/5e/10/aa32dad071ce52b5502266b5c659451cfd6ffcbf14e6c8c4f16c0ff5aaab/Keras-2.2.4-py2.py3-none-any.whl (312kB)\n",
            "\u001b[K     |████████████████████████████████| 317kB 62.8MB/s \n",
            "\u001b[?25hCollecting scikit-learn==0.21.2\n",
            "\u001b[?25l  Downloading https://files.pythonhosted.org/packages/85/04/49633f490f726da6e454fddc8e938bbb5bfed2001681118d3814c219b723/scikit_learn-0.21.2-cp36-cp36m-manylinux1_x86_64.whl (6.7MB)\n",
            "\u001b[K     |████████████████████████████████| 6.7MB 47.4MB/s \n",
            "\u001b[?25hCollecting pyopenssl==19.0.0\n",
            "\u001b[?25l  Downloading https://files.pythonhosted.org/packages/01/c8/ceb170d81bd3941cbeb9940fc6cc2ef2ca4288d0ca8929ea4db5905d904d/pyOpenSSL-19.0.0-py2.py3-none-any.whl (53kB)\n",
            "\u001b[K     |████████████████████████████████| 61kB 8.6MB/s \n",
            "\u001b[?25hCollecting rusenttokenize==0.0.5\n",
            "  Downloading https://files.pythonhosted.org/packages/25/4c/a2f00be5def774a3df2e5387145f1cb54e324607ec4a7e23f573645946e7/rusenttokenize-0.0.5-py3-none-any.whl\n",
            "Collecting h5py==2.9.0\n",
            "\u001b[?25l  Downloading https://files.pythonhosted.org/packages/30/99/d7d4fbf2d02bb30fb76179911a250074b55b852d34e98dd452a9f394ac06/h5py-2.9.0-cp36-cp36m-manylinux1_x86_64.whl (2.8MB)\n",
            "\u001b[K     |████████████████████████████████| 2.8MB 43.7MB/s \n",
            "\u001b[?25hCollecting uvicorn==0.9.0\n",
            "  Downloading https://files.pythonhosted.org/packages/5a/a9/2ab492155d9b76cf109c2370e201822ba3c7f4aed85f5a1b4d22907e7206/uvicorn-0.9.0.tar.gz\n",
            "Collecting requests==2.22.0\n",
            "\u001b[?25l  Downloading https://files.pythonhosted.org/packages/51/bd/23c926cd341ea6b7dd0b2a00aba99ae0f828be89d72b2190f27c11d4b7fb/requests-2.22.0-py2.py3-none-any.whl (57kB)\n",
            "\u001b[K     |████████████████████████████████| 61kB 8.4MB/s \n",
            "\u001b[?25hCollecting starlette<=0.12.8,>=0.11.1\n",
            "\u001b[?25l  Downloading https://files.pythonhosted.org/packages/97/4a/90a6a8685fcbdcf544a2293d0d0211ecba3cd7f309b831499d5c895383cb/starlette-0.12.8.tar.gz (45kB)\n",
            "\u001b[K     |████████████████████████████████| 51kB 7.3MB/s \n",
            "\u001b[?25hCollecting pydantic<=0.32.2,>=0.32.2\n",
            "\u001b[?25l  Downloading https://files.pythonhosted.org/packages/86/78/2edcc6e65ec020403ac6ba6deb54c1cf227c49232ce9d98a1ae7ebdfa3a1/pydantic-0.32.2-cp36-cp36m-manylinux1_x86_64.whl (5.1MB)\n",
            "\u001b[K     |████████████████████████████████| 5.1MB 57.0MB/s \n",
            "\u001b[?25hRequirement already satisfied: six in /usr/local/lib/python3.6/dist-packages (from nltk==3.2.5->deeppavlov) (1.12.0)\n",
            "Requirement already satisfied: python-dateutil>=2.5.0 in /usr/local/lib/python3.6/dist-packages (from pandas==0.24.2->deeppavlov) (2.6.1)\n",
            "Requirement already satisfied: pytz>=2011k in /usr/local/lib/python3.6/dist-packages (from pandas==0.24.2->deeppavlov) (2018.9)\n",
            "Collecting dawg-python>=0.7\n",
            "  Downloading https://files.pythonhosted.org/packages/6a/84/ff1ce2071d4c650ec85745766c0047ccc3b5036f1d03559fd46bb38b5eeb/DAWG_Python-0.7.2-py2.py3-none-any.whl\n",
            "Requirement already satisfied: docopt>=0.6 in /usr/local/lib/python3.6/dist-packages (from pymorphy2==0.8->deeppavlov) (0.6.2)\n",
            "Collecting pymorphy2-dicts<3.0,>=2.4\n",
            "\u001b[?25l  Downloading https://files.pythonhosted.org/packages/02/51/2465fd4f72328ab50877b54777764d928da8cb15b74e2680fc1bd8cb3173/pymorphy2_dicts-2.4.393442.3710985-py2.py3-none-any.whl (7.1MB)\n",
            "\u001b[K     |████████████████████████████████| 7.1MB 31.7MB/s \n",
            "\u001b[?25hRequirement already satisfied: pyyaml in /usr/local/lib/python3.6/dist-packages (from keras==2.2.4->deeppavlov) (3.13)\n",
            "Requirement already satisfied: keras-preprocessing>=1.0.5 in /usr/local/lib/python3.6/dist-packages (from keras==2.2.4->deeppavlov) (1.1.0)\n",
            "Requirement already satisfied: keras-applications>=1.0.6 in /usr/local/lib/python3.6/dist-packages (from keras==2.2.4->deeppavlov) (1.0.8)\n",
            "Requirement already satisfied: joblib>=0.11 in /usr/local/lib/python3.6/dist-packages (from scikit-learn==0.21.2->deeppavlov) (0.14.1)\n",
            "Collecting cryptography>=2.3\n",
            "\u001b[?25l  Downloading https://files.pythonhosted.org/packages/ca/9a/7cece52c46546e214e10811b36b2da52ce1ea7fa203203a629b8dfadad53/cryptography-2.8-cp34-abi3-manylinux2010_x86_64.whl (2.3MB)\n",
            "\u001b[K     |████████████████████████████████| 2.3MB 54.0MB/s \n",
            "\u001b[?25hRequirement already satisfied: click==7.* in /usr/local/lib/python3.6/dist-packages (from uvicorn==0.9.0->deeppavlov) (7.0)\n",
            "Collecting h11==0.8.*\n",
            "\u001b[?25l  Downloading https://files.pythonhosted.org/packages/f9/f3/8e4cf5fa1a3d8bda942a0b1cf92f87815494216fd439f82eb99073141ba0/h11-0.8.1-py2.py3-none-any.whl (55kB)\n",
            "\u001b[K     |████████████████████████████████| 61kB 10.2MB/s \n",
            "\u001b[?25hCollecting websockets==8.*\n",
            "\u001b[?25l  Downloading https://files.pythonhosted.org/packages/bb/d9/856af84843912e2853b1b6e898ac8b802989fcf9ecf8e8445a1da263bf3b/websockets-8.1-cp36-cp36m-manylinux2010_x86_64.whl (78kB)\n",
            "\u001b[K     |████████████████████████████████| 81kB 12.5MB/s \n",
            "\u001b[?25hCollecting httptools==0.0.13\n",
            "\u001b[?25l  Downloading https://files.pythonhosted.org/packages/1b/03/215969db11abe8741e9c266a4cbe803a372bd86dd35fa0084c4df6d4bd00/httptools-0.0.13.tar.gz (104kB)\n",
            "\u001b[K     |████████████████████████████████| 112kB 54.6MB/s \n",
            "\u001b[?25hCollecting uvloop==0.*\n",
            "\u001b[?25l  Downloading https://files.pythonhosted.org/packages/41/48/586225bbb02d3bdca475b17e4be5ce5b3f09da2d6979f359916c1592a687/uvloop-0.14.0-cp36-cp36m-manylinux2010_x86_64.whl (3.9MB)\n",
            "\u001b[K     |████████████████████████████████| 3.9MB 42.1MB/s \n",
            "\u001b[?25hRequirement already satisfied: idna<2.9,>=2.5 in /usr/local/lib/python3.6/dist-packages (from requests==2.22.0->deeppavlov) (2.8)\n",
            "Requirement already satisfied: chardet<3.1.0,>=3.0.2 in /usr/local/lib/python3.6/dist-packages (from requests==2.22.0->deeppavlov) (3.0.4)\n",
            "Requirement already satisfied: certifi>=2017.4.17 in /usr/local/lib/python3.6/dist-packages (from requests==2.22.0->deeppavlov) (2019.11.28)\n",
            "Requirement already satisfied: urllib3!=1.25.0,!=1.25.1,<1.26,>=1.21.1 in /usr/local/lib/python3.6/dist-packages (from requests==2.22.0->deeppavlov) (1.24.3)\n",
            "Requirement already satisfied: dataclasses>=0.6; python_version < \"3.7\" in /usr/local/lib/python3.6/dist-packages (from pydantic<=0.32.2,>=0.32.2->fastapi==0.38.1->deeppavlov) (0.7)\n",
            "Requirement already satisfied: cffi!=1.11.3,>=1.8 in /usr/local/lib/python3.6/dist-packages (from cryptography>=2.3->pyopenssl==19.0.0->deeppavlov) (1.14.0)\n",
            "Requirement already satisfied: pycparser in /usr/local/lib/python3.6/dist-packages (from cffi!=1.11.3,>=1.8->cryptography>=2.3->pyopenssl==19.0.0->deeppavlov) (2.19)\n",
            "Building wheels for collected packages: overrides, pytelegrambotapi, uvicorn, starlette, httptools\n",
            "  Building wheel for overrides (setup.py) ... \u001b[?25l\u001b[?25hdone\n",
            "  Created wheel for overrides: filename=overrides-1.9-cp36-none-any.whl size=4212 sha256=a622a4d9f964d8b9587ed1b15edff87b4481c593fd0aceb424680f5e3be2087a\n",
            "  Stored in directory: /root/.cache/pip/wheels/8d/52/86/e5a83b1797e7d263b458d2334edd2704c78508b3eea9323718\n",
            "  Building wheel for pytelegrambotapi (setup.py) ... \u001b[?25l\u001b[?25hdone\n",
            "  Created wheel for pytelegrambotapi: filename=pyTelegramBotAPI-3.6.6-cp36-none-any.whl size=44856 sha256=0c1c2f3d9974d67e4c5f21d8f12443392d7924cbcde271998e8335117c6255bf\n",
            "  Stored in directory: /root/.cache/pip/wheels/ae/69/d7/26f1fb04ac4d4c95bff643cea765a8e91c4348da25b4744e08\n",
            "  Building wheel for uvicorn (setup.py) ... \u001b[?25l\u001b[?25hdone\n",
            "  Created wheel for uvicorn: filename=uvicorn-0.9.0-cp36-none-any.whl size=37119 sha256=ace0a53e1b6a3689078a0143d6661b354d246b386023f7af983d7f5496c14f7a\n",
            "  Stored in directory: /root/.cache/pip/wheels/19/e5/d1/a50d405d3bb18fac538ef9606ed9b6cd5efb6e06b6de834507\n",
            "  Building wheel for starlette (setup.py) ... \u001b[?25l\u001b[?25hdone\n",
            "  Created wheel for starlette: filename=starlette-0.12.8-cp36-none-any.whl size=56912 sha256=450fecc0c73e6e50bd8cb60cb06da3fac4804ee7d16e511fbe92f8456e38a925\n",
            "  Stored in directory: /root/.cache/pip/wheels/fd/a0/1d/17eb20c5742e3236799a7883e56325823d57fcd8ce2a0c9348\n",
            "  Building wheel for httptools (setup.py) ... \u001b[?25l\u001b[?25hdone\n",
            "  Created wheel for httptools: filename=httptools-0.0.13-cp36-cp36m-linux_x86_64.whl size=212540 sha256=8d68e7549ad70916ac725eee729a533b5415f0e20191fd14872d80fc24d6b14f\n",
            "  Stored in directory: /root/.cache/pip/wheels/e8/3e/2e/013f99b42efc25cf3589730cf380738e46b1e5edaf2f78d525\n",
            "Successfully built overrides pytelegrambotapi uvicorn starlette httptools\n",
            "\u001b[31mERROR: plotnine 0.6.0 has requirement pandas>=0.25.0, but you'll have pandas 0.24.2 which is incompatible.\u001b[0m\n",
            "\u001b[31mERROR: mizani 0.6.0 has requirement pandas>=0.25.0, but you'll have pandas 0.24.2 which is incompatible.\u001b[0m\n",
            "\u001b[31mERROR: google-colab 1.0.0 has requirement pandas~=0.25.0; python_version >= \"3.0\", but you'll have pandas 0.24.2 which is incompatible.\u001b[0m\n",
            "\u001b[31mERROR: google-colab 1.0.0 has requirement requests~=2.21.0, but you'll have requests 2.22.0 which is incompatible.\u001b[0m\n",
            "\u001b[31mERROR: datascience 0.10.6 has requirement folium==0.2.1, but you'll have folium 0.8.3 which is incompatible.\u001b[0m\n",
            "\u001b[31mERROR: albumentations 0.1.12 has requirement imgaug<0.2.7,>=0.2.5, but you'll have imgaug 0.2.9 which is incompatible.\u001b[0m\n",
            "Installing collected packages: starlette, pydantic, fastapi, pymorphy2-dicts-ru, numpy, pandas, fuzzywuzzy, overrides, scipy, requests, pytelegrambotapi, Cython, tqdm, dawg-python, pymorphy2-dicts, pymorphy2, h5py, keras, scikit-learn, cryptography, pyopenssl, rusenttokenize, h11, websockets, httptools, uvloop, uvicorn, deeppavlov\n",
            "  Found existing installation: numpy 1.17.5\n",
            "    Uninstalling numpy-1.17.5:\n",
            "      Successfully uninstalled numpy-1.17.5\n",
            "  Found existing installation: pandas 0.25.3\n",
            "    Uninstalling pandas-0.25.3:\n",
            "      Successfully uninstalled pandas-0.25.3\n",
            "  Found existing installation: scipy 1.4.1\n",
            "    Uninstalling scipy-1.4.1:\n",
            "      Successfully uninstalled scipy-1.4.1\n",
            "  Found existing installation: requests 2.21.0\n",
            "    Uninstalling requests-2.21.0:\n",
            "      Successfully uninstalled requests-2.21.0\n",
            "  Found existing installation: Cython 0.29.15\n",
            "    Uninstalling Cython-0.29.15:\n",
            "      Successfully uninstalled Cython-0.29.15\n",
            "  Found existing installation: tqdm 4.28.1\n",
            "    Uninstalling tqdm-4.28.1:\n",
            "      Successfully uninstalled tqdm-4.28.1\n",
            "  Found existing installation: h5py 2.8.0\n",
            "    Uninstalling h5py-2.8.0:\n",
            "      Successfully uninstalled h5py-2.8.0\n",
            "  Found existing installation: Keras 2.2.5\n",
            "    Uninstalling Keras-2.2.5:\n",
            "      Successfully uninstalled Keras-2.2.5\n",
            "  Found existing installation: scikit-learn 0.22.1\n",
            "    Uninstalling scikit-learn-0.22.1:\n",
            "      Successfully uninstalled scikit-learn-0.22.1\n",
            "Successfully installed Cython-0.29.12 cryptography-2.8 dawg-python-0.7.2 deeppavlov-0.7.1 fastapi-0.38.1 fuzzywuzzy-0.17.0 h11-0.8.1 h5py-2.9.0 httptools-0.0.13 keras-2.2.4 numpy-1.16.4 overrides-1.9 pandas-0.24.2 pydantic-0.32.2 pymorphy2-0.8 pymorphy2-dicts-2.4.393442.3710985 pymorphy2-dicts-ru-2.4.404381.4453942 pyopenssl-19.0.0 pytelegrambotapi-3.6.6 requests-2.22.0 rusenttokenize-0.0.5 scikit-learn-0.21.2 scipy-1.3.0 starlette-0.12.8 tqdm-4.32.2 uvicorn-0.9.0 uvloop-0.14.0 websockets-8.1\n"
          ],
          "name": "stdout"
        },
        {
          "output_type": "display_data",
          "data": {
            "application/vnd.colab-display-data+json": {
              "pip_warning": {
                "packages": [
                  "numpy",
                  "pandas",
                  "requests",
                  "tqdm"
                ]
              }
            }
          },
          "metadata": {
            "tags": []
          }
        }
      ]
    },
    {
      "cell_type": "code",
      "metadata": {
        "colab_type": "code",
        "id": "I4Sg07Wwh7I8",
        "outputId": "a948375f-ec82-4f11-869b-21e036cf21c8",
        "colab": {
          "base_uri": "https://localhost:8080/",
          "height": 247
        }
      },
      "source": [
        "import deeppavlov\n",
        "from deeppavlov.models.embedders.elmo_embedder import ELMoEmbedder\n",
        "from nltk.tokenize import sent_tokenize, word_tokenize \n",
        "import warnings \n",
        "warnings.filterwarnings(action = 'ignore') \n",
        "import gensim \n",
        "from gensim.models import Word2Vec\n",
        "import codecs\n",
        "import numpy as np\n",
        "import pandas as pd\n",
        "import docx\n",
        "import re\n",
        "import string\n",
        "import nltk\n",
        "nltk.download(\"stopwords\")\n",
        "from nltk.corpus import stopwords\n",
        "from pymystem3 import Mystem\n",
        "from sklearn.manifold import TSNE\n",
        "import kmapper as km\n",
        "from kmapper import jupyter\n",
        "import umap\n",
        "import sklearn\n",
        "import collections\n",
        "from chart_studio.plotly import plot, iplot\n",
        "import plotly\n",
        "import plotly.graph_objects as go\n",
        "import plotly.io as pio\n",
        "import matplotlib.cm as cm\n",
        "import plotly.offline\n",
        "import matplotlib.pyplot as plt\n",
        "%matplotlib inline"
      ],
      "execution_count": 1,
      "outputs": [
        {
          "output_type": "stream",
          "text": [
            "[nltk_data] Downloading package punkt to /root/nltk_data...\n",
            "[nltk_data]   Package punkt is already up-to-date!\n",
            "[nltk_data] Downloading package stopwords to /root/nltk_data...\n",
            "[nltk_data]   Package stopwords is already up-to-date!\n",
            "[nltk_data] Downloading package perluniprops to /root/nltk_data...\n",
            "[nltk_data]   Package perluniprops is already up-to-date!\n",
            "[nltk_data] Downloading package nonbreaking_prefixes to\n",
            "[nltk_data]     /root/nltk_data...\n",
            "[nltk_data]   Package nonbreaking_prefixes is already up-to-date!\n"
          ],
          "name": "stderr"
        },
        {
          "output_type": "display_data",
          "data": {
            "text/html": [
              "<p style=\"color: red;\">\n",
              "The default version of TensorFlow in Colab will soon switch to TensorFlow 2.x.<br>\n",
              "We recommend you <a href=\"https://www.tensorflow.org/guide/migrate\" target=\"_blank\">upgrade</a> now \n",
              "or ensure your notebook will continue to use TensorFlow 1.x via the <code>%tensorflow_version 1.x</code> magic:\n",
              "<a href=\"https://colab.research.google.com/notebooks/tensorflow_version.ipynb\" target=\"_blank\">more info</a>.</p>\n"
            ],
            "text/plain": [
              "<IPython.core.display.HTML object>"
            ]
          },
          "metadata": {
            "tags": []
          }
        },
        {
          "output_type": "stream",
          "text": [
            "[nltk_data] Downloading package stopwords to /root/nltk_data...\n",
            "[nltk_data]   Package stopwords is already up-to-date!\n"
          ],
          "name": "stdout"
        }
      ]
    },
    {
      "cell_type": "code",
      "metadata": {
        "id": "EsYfHnR96_wv",
        "colab_type": "code",
        "outputId": "57d800d4-5ae8-4ace-d9da-def9edd8009e",
        "colab": {
          "base_uri": "https://localhost:8080/",
          "height": 121
        }
      },
      "source": [
        "from google.colab import drive\n",
        "drive.mount('/content/drive/')"
      ],
      "execution_count": 3,
      "outputs": [
        {
          "output_type": "stream",
          "text": [
            "Go to this URL in a browser: https://accounts.google.com/o/oauth2/auth?client_id=947318989803-6bn6qk8qdgf4n4g3pfee6491hc0brc4i.apps.googleusercontent.com&redirect_uri=urn%3aietf%3awg%3aoauth%3a2.0%3aoob&response_type=code&scope=email%20https%3a%2f%2fwww.googleapis.com%2fauth%2fdocs.test%20https%3a%2f%2fwww.googleapis.com%2fauth%2fdrive%20https%3a%2f%2fwww.googleapis.com%2fauth%2fdrive.photos.readonly%20https%3a%2f%2fwww.googleapis.com%2fauth%2fpeopleapi.readonly\n",
            "\n",
            "Enter your authorization code:\n",
            "··········\n",
            "Mounted at /content/drive/\n"
          ],
          "name": "stdout"
        }
      ]
    },
    {
      "cell_type": "markdown",
      "metadata": {
        "id": "D9rnFclr6rxL",
        "colab_type": "text"
      },
      "source": [
        "## Содержание.\n",
        "\n",
        "**ТК состоит из 6 частей, 12 разделов, 62 глав и 424 статей(не считая подпункты, например Статья 330.3).** \n",
        "\n",
        "ЧАСТЬ 1.\n",
        "\n",
        "* Раздел I.\n",
        "\n",
        "Глава 1.(ст.1-14) Глава 2.(ст.15-22)\n",
        "\n",
        "ЧАСТЬ 2.\n",
        "\n",
        "* Раздел II.\n",
        "\n",
        "Глава 3.(ст.23-28) Глава 4.(ст.29-34) Глава 5.(ст.35) \n",
        "Глава 6.(ст.36-39)Глава 7.(ст.40-51) Глава 8.(ст.52-53)\n",
        "Глава 9.(ст.54-55)\n",
        "\n",
        "ЧАСТЬ 3.\n",
        "\n",
        "* Раздел III.\n",
        "\n",
        "Глава 10.(ст.56-62) Глава 11.(ст.63-71) Глава 12.(ст.72-76)\n",
        "Глава 13.(ст.77-84) Глава 14.(ст.85-90)\n",
        "\n",
        "* Раздел IV. \n",
        "\n",
        "Глава 15.(ст.91-99) Глава 16.(ст.100-105)\n",
        "\n",
        "* Раздел V. \n",
        "\n",
        "Глава 17.(ст.106-107) Глава 18.(ст.108-113) Глава 19.(ст.114-128)\n",
        "\n",
        "* Раздел VI.\n",
        "\n",
        "Глава 20.(ст.129-132) Глава 21.(ст.133-158) Глава 22.(ст.159-163)\n",
        "\n",
        "* Раздел VII.\n",
        "\n",
        "Глава 23.(ст.164-166) Глава 24.(ст.167-169) Глава 25.(ст.170-172) \n",
        "Глава 26.(ст.173-177) Глава 27.(ст.178-181) Глава 28.(ст.182-188)\n",
        "\n",
        "* Раздел VIII.\n",
        "\n",
        "Глава 29.(ст.189-190) Глава 30.(ст.191-195)\n",
        "\n",
        "* Раздел VIX.\n",
        "\n",
        "Глава 31.(ст.195.1-197) Глава 32.(ст.198-208)\n",
        "\n",
        "* Раздел X.\n",
        "\n",
        "Глава 33.(ст.209-210) Глава 34.(ст.211-215)\n",
        "Глава 35.(ст.216-218) Глава 36.(ст.219-231)\n",
        "\n",
        "* Раздел XI.\n",
        "\n",
        "Глава 37.(ст.232-233) Глава 38.(ст.234-237)\n",
        "Глава 39.(ст.238-250)\n",
        "\n",
        "ЧАСТЬ 4.\n",
        "\n",
        "* Раздел XII.\n",
        "\n",
        "Глава 40.(ст.251-252) Глава 41.(ст.253-264) Глава 42.(ст.265-272)\n",
        "Глава 43.(ст.273-281) Глава 44.(ст.282-288) Глава 45.(ст.289-292)\n",
        "Глава 46.(ст.293-296) Глава 47.(ст.297-302) Глава 48.(ст.303-309) \n",
        "Глава 49.(ст.310-312) Глава 49.1.(ст.312.1-312.5) \n",
        "Глава 50.(ст.313-327) Глава 51.(ст.328-330) \n",
        "Глава 51.1.(ст.330.1-330.5) Глава 52.(ст.331-336) \n",
        "Глава 53.(ст.337-341) Глава 54.(ст.342-348) \n",
        "Глава 54-1.(ст.348.1-348.12) Глава 55.(ст.349-351.2)\n",
        "\n",
        "ЧАСТЬ 5.\n",
        "\n",
        "* Раздел XIII.\n",
        "\n",
        "Глава 56.(ст.352) Глава 57.(ст.353-369) Глава 58.(ст.370-378)\n",
        "Глава 59.(ст.379-380) Глава 60.(ст.381-398) Глава 61.(ст.399-418) \n",
        "Глава 62.(ст.419)\n",
        "\n",
        "ЧАСТЬ 6.\n",
        "\n",
        "* Раздел XIV.\n",
        "(ст.420-424)"
      ]
    },
    {
      "cell_type": "markdown",
      "metadata": {
        "id": "VH8mSGrC6rxN",
        "colab_type": "text"
      },
      "source": [
        "## Чтение ТК"
      ]
    },
    {
      "cell_type": "code",
      "metadata": {
        "colab_type": "code",
        "id": "zwunIvF_p2Uu",
        "colab": {}
      },
      "source": [
        "document = docx.Document(\"drive/My Drive/LabourCode.docx\")\n",
        "text_, text = list(),list()\n",
        "chapter_, chapter = '', ''\n",
        "for paragraph in document.paragraphs:\n",
        "    if paragraph.text!='':\n",
        "        if paragraph.text.startswith('Статья') and chapter!='' and chapter_!='':\n",
        "            text.append(chapter)\n",
        "            text_.append(chapter_)\n",
        "            chapter = ''\n",
        "            chapter_ = ''\n",
        "        if paragraph.text.endswith(('.',';',':')):\n",
        "            chapter = chapter + paragraph.text\n",
        "            chapter_ = chapter_ + paragraph.text\n",
        "            if paragraph.text.endswith(('.',';')): #??????\n",
        "                chapter = chapter[:-1] + '</s>'\n",
        "        else:\n",
        "            chapter = chapter + paragraph.text + '</s>'\n",
        "            chapter_ = chapter_ + paragraph.text + '.'"
      ],
      "execution_count": 0,
      "outputs": []
    },
    {
      "cell_type": "code",
      "metadata": {
        "colab_type": "code",
        "id": "qpndJrxhsUQp",
        "jupyter": {
          "outputs_hidden": true
        },
        "outputId": "06074d06-9bda-427a-867c-1ff78af27ddf",
        "colab": {
          "base_uri": "https://localhost:8080/",
          "height": 121
        }
      },
      "source": [
        "labourcode_ = text_[1:] #usual text\n",
        "labourcode = text[1:] # text with separator </s>\n",
        "labourcode_[0:5]"
      ],
      "execution_count": 266,
      "outputs": [
        {
          "output_type": "execute_result",
          "data": {
            "text/plain": [
              "['Статья 1. Цели и задачи трудового законодательства.Целями трудового законодательства являются установление государственных гарантий трудовых прав и свобод граждан, создание благоприятных условий труда, защита прав и интересов работников и работодателей.Основными задачами трудового законодательства являются создание необходимых правовых условий для достижения оптимального согласования интересов сторон трудовых отношений, интересов государства, а также правовое регулирование трудовых отношений и иных непосредственно связанных с ними отношений по:организации труда и управлению трудом;трудоустройству у данного работодателя;подготовке и дополнительному профессиональному образованию работников непосредственно у данного работодателя;(в ред. Федерального закона от 02.07.2013 N 185-ФЗ).социальному партнерству, ведению коллективных переговоров, заключению коллективных договоров и соглашений;участию работников и профессиональных союзов в установлении условий труда и применении трудового законодательства в предусмотренных законом случаях;материальной ответственности работодателей и работников в сфере труда;государственному контролю (надзору), профсоюзному контролю за соблюдением трудового законодательства (включая законодательство об охране труда) и иных нормативных правовых актов, содержащих нормы трудового права;(в ред. Федеральных законов от 30.06.2006 N 90-ФЗ, от 18.07.2011 N 242-ФЗ).разрешению трудовых споров;обязательному социальному страхованию в случаях, предусмотренных федеральными законами.(абзац введен Федеральным законом от 30.06.2006 N 90-ФЗ).',\n",
              " 'Статья 2. Основные принципы правового регулирования трудовых отношений и иных непосредственно связанных с ними отношений.Исходя из общепризнанных принципов и норм международного права и в соответствии с Конституцией Российской Федерации основными принципами правового регулирования трудовых отношений и иных непосредственно связанных с ними отношений признаются:свобода труда, включая право на труд, который каждый свободно выбирает или на который свободно соглашается, право распоряжаться своими способностями к труду, выбирать профессию и род деятельности;запрещение принудительного труда и дискриминации в сфере труда;защита от безработицы и содействие в трудоустройстве;обеспечение права каждого работника на справедливые условия труда, в том числе на условия труда, отвечающие требованиям безопасности и гигиены, права на отдых, включая ограничение рабочего времени, предоставление ежедневного отдыха, выходных и нерабочих праздничных дней, оплачиваемого ежегодного отпуска;равенство прав и возможностей работников;обеспечение права каждого работника на своевременную и в полном размере выплату справедливой заработной платы, обеспечивающей достойное человека существование для него самого и его семьи, и не ниже установленного федеральным законом минимального размера оплаты труда;обеспечение равенства возможностей работников без всякой дискриминации на продвижение по работе с учетом производительности труда, квалификации и стажа работы по специальности, а также на подготовку и дополнительное профессиональное образование;(в ред. Федерального закона от 02.07.2013 N 185-ФЗ).обеспечение права работников и работодателей на объединение для защиты своих прав и интересов, включая право работников создавать профессиональные союзы и вступать в них, право работодателей создавать объединения работодателей и вступать в них;(в ред. Федерального закона от 24.11.2014 N 358-ФЗ).обеспечение права работников на участие в управлении организацией в предусмотренных законом формах;сочетание государственного и договорного регулирования трудовых отношений и иных непосредственно связанных с ними отношений;социальное партнерство, включающее право на участие работников, работодателей, их объединений в договорном регулировании трудовых отношений и иных непосредственно связанных с ними отношений;обязательность возмещения вреда, причиненного работнику в связи с исполнением им трудовых обязанностей;установление государственных гарантий по обеспечению прав работников и работодателей, осуществление государственного контроля (надзора) за их соблюдением;(в ред. Федерального закона от 18.07.2011 N 242-ФЗ).обеспечение права каждого на защиту государством его трудовых прав и свобод, включая судебную защиту;(в ред. Федерального закона от 30.06.2006 N 90-ФЗ).обеспечение права на разрешение индивидуальных и коллективных трудовых споров, а также права на забастовку в порядке, установленном настоящим Кодексом и иными федеральными законами;обязанность сторон трудового договора соблюдать условия заключенного договора, включая право работодателя требовать от работников исполнения ими трудовых обязанностей и бережного отношения к имуществу работодателя и право работников требовать от работодателя соблюдения его обязанностей по отношению к работникам, трудового законодательства и иных актов, содержащих нормы трудового права;обеспечение права представителей профессиональных союзов осуществлять профсоюзный контроль за соблюдением трудового законодательства и иных актов, содержащих нормы трудового права;обеспечение права работников на защиту своего достоинства в период трудовой деятельности;обеспечение права на обязательное социальное страхование работников.',\n",
              " 'Статья 3. Запрещение дискриминации в сфере труда.Каждый имеет равные возможности для реализации своих трудовых прав.Никто не может быть ограничен в трудовых правах и свободах или получать какие-либо преимущества в зависимости от пола, расы, цвета кожи, национальности, языка, происхождения, имущественного, семейного, социального и должностного положения, возраста, места жительства, отношения к религии, убеждений, принадлежности или непринадлежности к общественным объединениям или каким-либо социальным группам, а также от других обстоятельств, не связанных с деловыми качествами работника.(в ред. Федеральных законов от 30.06.2006 N 90-ФЗ, от 02.07.2013 N 162-ФЗ).Не являются дискриминацией установление различий, исключений, предпочтений, а также ограничение прав работников, которые определяются свойственными данному виду труда требованиями, установленными федеральным законом, либо обусловлены особой заботой государства о лицах, нуждающихся в повышенной социальной и правовой защите, либо установлены настоящим Кодексом или в случаях и в порядке, которые им предусмотрены, в целях обеспечения национальной безопасности, поддержания оптимального баланса трудовых ресурсов, содействия в приоритетном порядке трудоустройству граждан Российской Федерации и в целях решения иных задач внутренней и внешней политики государства.(в ред. Федеральных законов от 23.07.2013 N 204-ФЗ, от 01.12.2014 N 409-ФЗ).Лица, считающие, что они подверглись дискриминации в сфере труда, вправе обратиться в суд с заявлением о восстановлении нарушенных прав, возмещении материального вреда и компенсации морального вреда.(в ред. Федерального закона от 30.06.2006 N 90-ФЗ).',\n",
              " 'Статья 4. Запрещение принудительного труда.Принудительный труд запрещен.Принудительный труд - выполнение работы под угрозой применения какого-либо наказания (насильственного воздействия), в том числе:в целях поддержания трудовой дисциплины;в качестве меры ответственности за участие в забастовке;в качестве средства мобилизации и использования рабочей силы для нужд экономического развития;в качестве меры наказания за наличие или выражение политических взглядов или идеологических убеждений, противоположных установленной политической, социальной или экономической системе;в качестве меры дискриминации по признакам расовой, социальной, национальной или религиозной принадлежности.К принудительному труду также относится работа, которую работник вынужден выполнять под угрозой применения какого-либо наказания (насильственного воздействия), в то время как в соответствии с настоящим Кодексом или иными федеральными законами он имеет право отказаться от ее выполнения, в том числе в связи с:нарушением установленных сроков выплаты заработной платы или выплатой ее не в полном размере;возникновением непосредственной угрозы для жизни и здоровья работника вследствие нарушения требований охраны труда, в частности необеспечения его средствами коллективной или индивидуальной защиты в соответствии с установленными нормами.(часть третья в ред. Федерального закона от 30.06.2006 N 90-ФЗ).Для целей настоящего Кодекса принудительный труд не включает в себя:работу, выполнение которой обусловлено законодательством о воинской обязанности и военной службе или заменяющей ее альтернативной гражданской службе;работу, выполнение которой обусловлено введением чрезвычайного или военного положения в порядке, установленном федеральными конституционными законами;работу, выполняемую в условиях чрезвычайных обстоятельств, то есть в случае бедствия или угрозы бедствия (пожары, наводнения, голод, землетрясения, эпидемии или эпизоотии) и в иных случаях, ставящих под угрозу жизнь или нормальные жизненные условия всего населения или его части;работу, выполняемую вследствие вступившего в законную силу приговора суда под надзором государственных органов, ответственных за соблюдение законодательства при исполнении судебных приговоров.(часть четвертая в ред. Федерального закона от 30.06.2006 N 90-ФЗ).',\n",
              " 'Статья 5. Трудовое законодательство и иные акты, содержащие нормы трудового права.(в ред. Федерального закона от 30.06.2006 N 90-ФЗ).Регулирование трудовых отношений и иных непосредственно связанных с ними отношений в соответствии с Конституцией Российской Федерации, федеральными конституционными законами осуществляется:трудовым законодательством (включая законодательство об охране труда), состоящим из настоящего Кодекса, иных федеральных законов и законов субъектов Российской Федерации, содержащих нормы трудового права;иными нормативными правовыми актами, содержащими нормы трудового права:указами Президента Российской Федерации;постановлениями Правительства Российской Федерации и нормативными правовыми актами федеральных органов исполнительной власти;нормативными правовыми актами органов исполнительной власти субъектов Российской Федерации;нормативными правовыми актами органов местного самоуправления.Трудовые отношения и иные непосредственно связанные с ними отношения регулируются также коллективными договорами, соглашениями и локальными нормативными актами, содержащими нормы трудового права.Нормы трудового права, содержащиеся в иных федеральных законах, должны соответствовать настоящему Кодексу.В случае противоречий между настоящим Кодексом и иным федеральным законом, содержащим нормы трудового права, применяется настоящий Кодекс.Если вновь принятый федеральный закон, содержащий нормы трудового права, противоречит настоящему Кодексу, то этот федеральный закон применяется при условии внесения соответствующих изменений в настоящий Кодекс.Внесение изменений в настоящий Кодекс, а также приостановление действия его положений или признание таких положений утратившими силу осуществляется отдельными федеральными законами. Положения, предусматривающие внесение изменений в настоящий Кодекс, приостановление действия его положений или признание таких положений утратившими силу, не могут быть включены в тексты федеральных законов, изменяющих другие законодательные акты Российской Федерации, приостанавливающих их действие или признающих их утратившими силу либо содержащих самостоятельный предмет правового регулирования.(часть шестая введена Федеральным законом от 29.07.2017 N 255-ФЗ).Указы Президента Российской Федерации, содержащие нормы трудового права, не должны противоречить настоящему Кодексу и иным федеральным законам.Постановления Правительства Российской Федерации, содержащие нормы трудового права, не должны противоречить настоящему Кодексу, иным федеральным законам и указам Президента Российской Федерации.Нормативные правовые акты федеральных органов исполнительной власти, содержащие нормы трудового права, не должны противоречить настоящему Кодексу, иным федеральным законам, указам Президента Российской Федерации и постановлениям Правительства Российской Федерации.Законы субъектов Российской Федерации, содержащие нормы трудового права, не должны противоречить настоящему Кодексу и иным федеральным законам. Нормативные правовые акты органов исполнительной власти субъектов Российской Федерации не должны противоречить настоящему Кодексу, иным федеральным законам, указам Президента Российской Федерации, постановлениям Правительства Российской Федерации и нормативным правовым актам федеральных органов исполнительной власти.Органы местного самоуправления имеют право принимать нормативные правовые акты, содержащие нормы трудового права, в пределах своей компетенции в соответствии с настоящим Кодексом, другими федеральными законами и иными нормативными правовыми актами Российской Федерации, законами и иными нормативными правовыми актами субъектов Российской Федерации.']"
            ]
          },
          "metadata": {
            "tags": []
          },
          "execution_count": 266
        }
      ]
    },
    {
      "cell_type": "code",
      "metadata": {
        "id": "aPQgX5Gj95zD",
        "colab_type": "code",
        "outputId": "5acadc57-a0b7-4fc7-f52e-2cacaf8a5753",
        "colab": {
          "base_uri": "https://localhost:8080/",
          "height": 54
        }
      },
      "source": [
        "print(labourcode[0])"
      ],
      "execution_count": 0,
      "outputs": [
        {
          "output_type": "stream",
          "text": [
            "Статья 1. Цели и задачи трудового законодательства</s>Целями трудового законодательства являются установление государственных гарантий трудовых прав и свобод граждан, создание благоприятных условий труда, защита прав и интересов работников и работодателей</s>Основными задачами трудового законодательства являются создание необходимых правовых условий для достижения оптимального согласования интересов сторон трудовых отношений, интересов государства, а также правовое регулирование трудовых отношений и иных непосредственно связанных с ними отношений по:организации труда и управлению трудом</s>трудоустройству у данного работодателя</s>подготовке и дополнительному профессиональному образованию работников непосредственно у данного работодателя</s>(в ред. Федерального закона от 02.07.2013 N 185-ФЗ)</s>социальному партнерству, ведению коллективных переговоров, заключению коллективных договоров и соглашений</s>участию работников и профессиональных союзов в установлении условий труда и применении трудового законодательства в предусмотренных законом случаях</s>материальной ответственности работодателей и работников в сфере труда</s>государственному контролю (надзору), профсоюзному контролю за соблюдением трудового законодательства (включая законодательство об охране труда) и иных нормативных правовых актов, содержащих нормы трудового права</s>(в ред. Федеральных законов от 30.06.2006 N 90-ФЗ, от 18.07.2011 N 242-ФЗ)</s>разрешению трудовых споров</s>обязательному социальному страхованию в случаях, предусмотренных федеральными законами</s>(абзац введен Федеральным законом от 30.06.2006 N 90-ФЗ)</s>\n"
          ],
          "name": "stdout"
        }
      ]
    },
    {
      "cell_type": "code",
      "metadata": {
        "colab_type": "code",
        "id": "pFQwJw4PwFx0",
        "colab": {}
      },
      "source": [
        "pattern = re.compile(r\"^Статья ([\\d|\\.]+)\\. (.*)$\")\n",
        "data_, data = {}, {}\n",
        "for article in labourcode_:\n",
        "    d = re.findall(pattern, article)\n",
        "    if len(d)!=0:\n",
        "        data_[d[0][0]] = d[0][1]\n",
        "for article in labourcode:\n",
        "    d = re.findall(pattern, article)\n",
        "    if len(d)!=0:\n",
        "        data[d[0][0]] = d[0][1]"
      ],
      "execution_count": 0,
      "outputs": []
    },
    {
      "cell_type": "code",
      "metadata": {
        "colab_type": "code",
        "id": "d0qCo70O1rXO",
        "colab": {}
      },
      "source": [
        "lc = {'article №': list(data_.keys()), 'text': list(data_.values()), 'clean text': list(data.values()), 'list tokens': list(data.values())}"
      ],
      "execution_count": 0,
      "outputs": []
    },
    {
      "cell_type": "code",
      "metadata": {
        "colab_type": "code",
        "id": "DxWZhlobv34L",
        "colab": {}
      },
      "source": [
        "df = pd.DataFrame(lc)"
      ],
      "execution_count": 0,
      "outputs": []
    },
    {
      "cell_type": "markdown",
      "metadata": {
        "id": "uwwUt_WX6ryD",
        "colab_type": "text"
      },
      "source": [
        "## Preprocessing"
      ]
    },
    {
      "cell_type": "code",
      "metadata": {
        "colab_type": "code",
        "id": "RDMcAlUE7i9h",
        "colab": {}
      },
      "source": [
        "def preprocess_text(text):\n",
        "    text = text.lower()\n",
        "    sentences = text.split('</s>')\n",
        "    sentences_, tokens = list(), list()\n",
        "    punctuation = '!\"#$%&():*+-/<=>?@[\\]^_`{|}~,'\n",
        "    for sent in sentences:\n",
        "      for p in punctuation:\n",
        "          sent = sent.replace(p, ' ')\n",
        "      sentences_.append(sent + '</s>')\n",
        "    text = \" \".join(sentences_)\n",
        "    return text\n",
        "\n",
        "def get_tokens(text):\n",
        "  tokens= list()\n",
        "  sentences = text.split('</s>')\n",
        "  sentences = [s for s in sentences if s!='']\n",
        "  for sent in sentences:\n",
        "    s_tokens = nltk.word_tokenize(sent, language='russian')\n",
        "    s_tokens = [token for token in s_tokens if token != \" \"]\n",
        "    if len(s_tokens)!=0:\n",
        "      tokens.append(s_tokens)\n",
        "  return tokens"
      ],
      "execution_count": 0,
      "outputs": []
    },
    {
      "cell_type": "code",
      "metadata": {
        "id": "OzOc7A0Z6ryJ",
        "colab_type": "code",
        "colab": {}
      },
      "source": [
        "for i in range(len(df['clean text'])):\n",
        "    df['clean text'][i] = preprocess_text(df['clean text'][i])\n",
        "    df['list tokens'][i] = get_tokens(df['clean text'][i])"
      ],
      "execution_count": 0,
      "outputs": []
    },
    {
      "cell_type": "code",
      "metadata": {
        "id": "Wxk2I1Kf6ryT",
        "colab_type": "code",
        "outputId": "c3009cfb-3e1e-4edc-de21-87d6da6b3c53",
        "colab": {
          "base_uri": "https://localhost:8080/",
          "height": 343
        }
      },
      "source": [
        "df.sample(10)"
      ],
      "execution_count": 10,
      "outputs": [
        {
          "output_type": "execute_result",
          "data": {
            "text/html": [
              "<div>\n",
              "<style scoped>\n",
              "    .dataframe tbody tr th:only-of-type {\n",
              "        vertical-align: middle;\n",
              "    }\n",
              "\n",
              "    .dataframe tbody tr th {\n",
              "        vertical-align: top;\n",
              "    }\n",
              "\n",
              "    .dataframe thead th {\n",
              "        text-align: right;\n",
              "    }\n",
              "</style>\n",
              "<table border=\"1\" class=\"dataframe\">\n",
              "  <thead>\n",
              "    <tr style=\"text-align: right;\">\n",
              "      <th></th>\n",
              "      <th>article №</th>\n",
              "      <th>text</th>\n",
              "      <th>clean text</th>\n",
              "      <th>list tokens</th>\n",
              "    </tr>\n",
              "  </thead>\n",
              "  <tbody>\n",
              "    <tr>\n",
              "      <th>136</th>\n",
              "      <td>125</td>\n",
              "      <td>Разделение ежегодного оплачиваемого отпуска на...</td>\n",
              "      <td>разделение ежегодного оплачиваемого отпуска на...</td>\n",
              "      <td>[[разделение, ежегодного, оплачиваемого, отпус...</td>\n",
              "    </tr>\n",
              "    <tr>\n",
              "      <th>368</th>\n",
              "      <td>327.6</td>\n",
              "      <td>Особенности прекращения трудового договора с р...</td>\n",
              "      <td>особенности прекращения трудового договора с р...</td>\n",
              "      <td>[[особенности, прекращения, трудового, договор...</td>\n",
              "    </tr>\n",
              "    <tr>\n",
              "      <th>285</th>\n",
              "      <td>260</td>\n",
              "      <td>Гарантии женщинам в связи с беременностью и ро...</td>\n",
              "      <td>гарантии женщинам в связи с беременностью и ро...</td>\n",
              "      <td>[[гарантии, женщинам, в, связи, с, беременност...</td>\n",
              "    </tr>\n",
              "    <tr>\n",
              "      <th>215</th>\n",
              "      <td>196</td>\n",
              "      <td>Права и обязанности работодателя по подготовке...</td>\n",
              "      <td>права и обязанности работодателя по подготовке...</td>\n",
              "      <td>[[права, и, обязанности, работодателя, по, под...</td>\n",
              "    </tr>\n",
              "    <tr>\n",
              "      <th>216</th>\n",
              "      <td>197</td>\n",
              "      <td>Право работников на подготовку и дополнительно...</td>\n",
              "      <td>право работников на подготовку и дополнительно...</td>\n",
              "      <td>[[право, работников, на, подготовку, и, дополн...</td>\n",
              "    </tr>\n",
              "    <tr>\n",
              "      <th>11</th>\n",
              "      <td>12</td>\n",
              "      <td>Действие трудового законодательства и иных акт...</td>\n",
              "      <td>действие трудового законодательства и иных акт...</td>\n",
              "      <td>[[действие, трудового, законодательства, и, ин...</td>\n",
              "    </tr>\n",
              "    <tr>\n",
              "      <th>19</th>\n",
              "      <td>19.1</td>\n",
              "      <td>Трудовые отношения, возникающие на основании т...</td>\n",
              "      <td>трудовые отношения  возникающие на основании т...</td>\n",
              "      <td>[[трудовые, отношения, возникающие, на, основа...</td>\n",
              "    </tr>\n",
              "    <tr>\n",
              "      <th>129</th>\n",
              "      <td>118</td>\n",
              "      <td>Ежегодный дополнительный оплачиваемый отпуск з...</td>\n",
              "      <td>ежегодный дополнительный оплачиваемый отпуск з...</td>\n",
              "      <td>[[ежегодный, дополнительный, оплачиваемый, отп...</td>\n",
              "    </tr>\n",
              "    <tr>\n",
              "      <th>442</th>\n",
              "      <td>361</td>\n",
              "      <td>Обжалование решений государственных инспекторо...</td>\n",
              "      <td>обжалование решений государственных инспекторо...</td>\n",
              "      <td>[[обжалование, решений, государственных, инспе...</td>\n",
              "    </tr>\n",
              "    <tr>\n",
              "      <th>286</th>\n",
              "      <td>261</td>\n",
              "      <td>Гарантии беременной женщине и лицам с семейным...</td>\n",
              "      <td>гарантии беременной женщине и лицам с семейным...</td>\n",
              "      <td>[[гарантии, беременной, женщине, и, лицам, с, ...</td>\n",
              "    </tr>\n",
              "  </tbody>\n",
              "</table>\n",
              "</div>"
            ],
            "text/plain": [
              "    article №  ...                                        list tokens\n",
              "136       125  ...  [[разделение, ежегодного, оплачиваемого, отпус...\n",
              "368     327.6  ...  [[особенности, прекращения, трудового, договор...\n",
              "285       260  ...  [[гарантии, женщинам, в, связи, с, беременност...\n",
              "215       196  ...  [[права, и, обязанности, работодателя, по, под...\n",
              "216       197  ...  [[право, работников, на, подготовку, и, дополн...\n",
              "11         12  ...  [[действие, трудового, законодательства, и, ин...\n",
              "19       19.1  ...  [[трудовые, отношения, возникающие, на, основа...\n",
              "129       118  ...  [[ежегодный, дополнительный, оплачиваемый, отп...\n",
              "442       361  ...  [[обжалование, решений, государственных, инспе...\n",
              "286       261  ...  [[гарантии, беременной, женщине, и, лицам, с, ...\n",
              "\n",
              "[10 rows x 4 columns]"
            ]
          },
          "metadata": {
            "tags": []
          },
          "execution_count": 10
        }
      ]
    },
    {
      "cell_type": "markdown",
      "metadata": {
        "id": "pLIBXQicQPYq",
        "colab_type": "text"
      },
      "source": [
        "## Embeddings"
      ]
    },
    {
      "cell_type": "code",
      "metadata": {
        "id": "QUsZ8NQI6ryc",
        "colab_type": "code",
        "colab": {}
      },
      "source": [
        "#import tensorflow.compat.v1 as tf\n",
        "#tf.disable_v2_behavior()"
      ],
      "execution_count": 0,
      "outputs": []
    },
    {
      "cell_type": "code",
      "metadata": {
        "id": "I2LXc-zO6ryg",
        "colab_type": "code",
        "outputId": "38f85ec6-41d7-4eef-fa07-c4573941edd4",
        "colab": {
          "base_uri": "https://localhost:8080/",
          "height": 356
        }
      },
      "source": [
        "elmo = ELMoEmbedder(\"http://files.deeppavlov.ai/deeppavlov_data/elmo_ru-wiki_600k_steps.tar.gz\")"
      ],
      "execution_count": 11,
      "outputs": [
        {
          "output_type": "stream",
          "text": [
            "Using TensorFlow backend.\n"
          ],
          "name": "stderr"
        },
        {
          "output_type": "stream",
          "text": [
            "WARNING:tensorflow:From /usr/local/lib/python3.6/dist-packages/deeppavlov/models/embedders/elmo_embedder.py:186: The name tf.ConfigProto is deprecated. Please use tf.compat.v1.ConfigProto instead.\n",
            "\n"
          ],
          "name": "stdout"
        },
        {
          "output_type": "stream",
          "text": [
            "WARNING:tensorflow:From /usr/local/lib/python3.6/dist-packages/deeppavlov/models/embedders/elmo_embedder.py:186: The name tf.ConfigProto is deprecated. Please use tf.compat.v1.ConfigProto instead.\n",
            "\n"
          ],
          "name": "stderr"
        },
        {
          "output_type": "stream",
          "text": [
            "WARNING:tensorflow:From /usr/local/lib/python3.6/dist-packages/deeppavlov/models/embedders/elmo_embedder.py:188: The name tf.Session is deprecated. Please use tf.compat.v1.Session instead.\n",
            "\n"
          ],
          "name": "stdout"
        },
        {
          "output_type": "stream",
          "text": [
            "WARNING:tensorflow:From /usr/local/lib/python3.6/dist-packages/deeppavlov/models/embedders/elmo_embedder.py:188: The name tf.Session is deprecated. Please use tf.compat.v1.Session instead.\n",
            "\n"
          ],
          "name": "stderr"
        },
        {
          "output_type": "stream",
          "text": [
            "WARNING:tensorflow:From /usr/local/lib/python3.6/dist-packages/deeppavlov/models/embedders/elmo_embedder.py:190: The name tf.placeholder is deprecated. Please use tf.compat.v1.placeholder instead.\n",
            "\n"
          ],
          "name": "stdout"
        },
        {
          "output_type": "stream",
          "text": [
            "WARNING:tensorflow:From /usr/local/lib/python3.6/dist-packages/deeppavlov/models/embedders/elmo_embedder.py:190: The name tf.placeholder is deprecated. Please use tf.compat.v1.placeholder instead.\n",
            "\n"
          ],
          "name": "stderr"
        },
        {
          "output_type": "stream",
          "text": [
            "INFO:tensorflow:Saver not created because there are no variables in the graph to restore\n"
          ],
          "name": "stdout"
        },
        {
          "output_type": "stream",
          "text": [
            "INFO:tensorflow:Saver not created because there are no variables in the graph to restore\n"
          ],
          "name": "stderr"
        },
        {
          "output_type": "stream",
          "text": [
            "WARNING:tensorflow:From /usr/local/lib/python3.6/dist-packages/deeppavlov/models/embedders/elmo_embedder.py:198: The name tf.global_variables_initializer is deprecated. Please use tf.compat.v1.global_variables_initializer instead.\n",
            "\n"
          ],
          "name": "stdout"
        },
        {
          "output_type": "stream",
          "text": [
            "WARNING:tensorflow:From /usr/local/lib/python3.6/dist-packages/deeppavlov/models/embedders/elmo_embedder.py:198: The name tf.global_variables_initializer is deprecated. Please use tf.compat.v1.global_variables_initializer instead.\n",
            "\n"
          ],
          "name": "stderr"
        }
      ]
    },
    {
      "cell_type": "markdown",
      "metadata": {
        "id": "Oml3ERrmSDy7",
        "colab_type": "text"
      },
      "source": [
        "### Simple example of sentence embedding"
      ]
    },
    {
      "cell_type": "code",
      "metadata": {
        "id": "5RjUwMce6ryq",
        "colab_type": "code",
        "outputId": "742f09be-4756-4d4d-dead-2bbec1947721",
        "colab": {
          "base_uri": "https://localhost:8080/",
          "height": 50
        }
      },
      "source": [
        "sent1 = elmo([['вопрос', 'жизни', 'Вселенной', 'и', 'вообще', 'всего']])\n",
        "sent1"
      ],
      "execution_count": 0,
      "outputs": [
        {
          "output_type": "execute_result",
          "data": {
            "text/plain": [
              "array([[-0.22791581,  0.07285882, -0.4693267 , ...,  0.32489085,\n",
              "         0.16321455, -0.15760408]], dtype=float32)"
            ]
          },
          "metadata": {
            "tags": []
          },
          "execution_count": 32
        }
      ]
    },
    {
      "cell_type": "code",
      "metadata": {
        "id": "YuueBIuq6ry5",
        "colab_type": "code",
        "outputId": "d4059681-7ad9-4b10-ec12-3681df98527a",
        "colab": {
          "base_uri": "https://localhost:8080/",
          "height": 34
        }
      },
      "source": [
        "sent1.shape"
      ],
      "execution_count": 0,
      "outputs": [
        {
          "output_type": "execute_result",
          "data": {
            "text/plain": [
              "(1, 1024)"
            ]
          },
          "metadata": {
            "tags": []
          },
          "execution_count": 33
        }
      ]
    },
    {
      "cell_type": "markdown",
      "metadata": {
        "id": "sr55sJtsSWwP",
        "colab_type": "text"
      },
      "source": [
        "### Embeddings of the Labour Code"
      ]
    },
    {
      "cell_type": "code",
      "metadata": {
        "id": "zzQhz3PEMLpb",
        "colab_type": "code",
        "outputId": "6e634a49-bdb1-4ddf-c4b0-879b83175773",
        "colab": {
          "base_uri": "https://localhost:8080/",
          "height": 235
        }
      },
      "source": [
        "sent = elmo(df['list tokens'][0])\n",
        "sent, sent.shape, len(df['list tokens'][0])"
      ],
      "execution_count": 12,
      "outputs": [
        {
          "output_type": "execute_result",
          "data": {
            "text/plain": [
              "(array([[-0.15408754,  0.12447143,  0.12541609, ...,  0.43871307,\n",
              "          0.8080331 , -0.61087495],\n",
              "        [-0.16363786, -0.5031319 , -0.01882292, ...,  0.08774548,\n",
              "          0.77206606, -0.4888939 ],\n",
              "        [-0.30584   , -0.06840444, -0.22929925, ...,  0.218365  ,\n",
              "          0.40028194, -0.2930496 ],\n",
              "        ...,\n",
              "        [ 0.9814391 , -0.44105062, -0.00118074, ...,  0.65208226,\n",
              "          0.37582895, -0.6856761 ],\n",
              "        [-0.01316513, -0.42242444,  0.12800948, ..., -0.6165901 ,\n",
              "          0.29703546, -0.6499797 ],\n",
              "        [-0.4453516 , -0.2231226 ,  0.1295613 , ..., -0.72629577,\n",
              "          0.622035  , -0.09071245]], dtype=float32), (14, 1024), 14)"
            ]
          },
          "metadata": {
            "tags": []
          },
          "execution_count": 12
        }
      ]
    },
    {
      "cell_type": "code",
      "metadata": {
        "id": "RXDM-4JrM0iR",
        "colab_type": "code",
        "colab": {}
      },
      "source": [
        "embeddings = list()\n",
        "for i in range(len(df['list tokens'])):\n",
        "  embeddings.append(elmo(df['list tokens'][i]))\n",
        "\n",
        "df['embedding'] = embeddings"
      ],
      "execution_count": 0,
      "outputs": []
    },
    {
      "cell_type": "code",
      "metadata": {
        "id": "u_alGmBZQexu",
        "colab_type": "code",
        "outputId": "30364ade-794e-499e-954f-81771a710600",
        "colab": {
          "base_uri": "https://localhost:8080/",
          "height": 528
        }
      },
      "source": [
        "df.sample(10)"
      ],
      "execution_count": 14,
      "outputs": [
        {
          "output_type": "execute_result",
          "data": {
            "text/html": [
              "<div>\n",
              "<style scoped>\n",
              "    .dataframe tbody tr th:only-of-type {\n",
              "        vertical-align: middle;\n",
              "    }\n",
              "\n",
              "    .dataframe tbody tr th {\n",
              "        vertical-align: top;\n",
              "    }\n",
              "\n",
              "    .dataframe thead th {\n",
              "        text-align: right;\n",
              "    }\n",
              "</style>\n",
              "<table border=\"1\" class=\"dataframe\">\n",
              "  <thead>\n",
              "    <tr style=\"text-align: right;\">\n",
              "      <th></th>\n",
              "      <th>article №</th>\n",
              "      <th>text</th>\n",
              "      <th>clean text</th>\n",
              "      <th>list tokens</th>\n",
              "      <th>embedding</th>\n",
              "    </tr>\n",
              "  </thead>\n",
              "  <tbody>\n",
              "    <tr>\n",
              "      <th>458</th>\n",
              "      <td>377</td>\n",
              "      <td>Обязанности работодателя по созданию условий д...</td>\n",
              "      <td>обязанности работодателя по созданию условий д...</td>\n",
              "      <td>[[обязанности, работодателя, по, созданию, усл...</td>\n",
              "      <td>[[-0.2757097, 0.17693666, -0.6215924, -0.40906...</td>\n",
              "    </tr>\n",
              "    <tr>\n",
              "      <th>131</th>\n",
              "      <td>120</td>\n",
              "      <td>Исчисление продолжительности ежегодных оплачив...</td>\n",
              "      <td>исчисление продолжительности ежегодных оплачив...</td>\n",
              "      <td>[[исчисление, продолжительности, ежегодных, оп...</td>\n",
              "      <td>[[0.07931159, -0.38407332, -0.15020771, -0.570...</td>\n",
              "    </tr>\n",
              "    <tr>\n",
              "      <th>77</th>\n",
              "      <td>69</td>\n",
              "      <td>Медицинский осмотр при заключении трудового до...</td>\n",
              "      <td>медицинский осмотр при заключении трудового до...</td>\n",
              "      <td>[[медицинский, осмотр, при, заключении, трудов...</td>\n",
              "      <td>[[-0.69470596, -0.44146565, -0.61218, 0.407515...</td>\n",
              "    </tr>\n",
              "    <tr>\n",
              "      <th>177</th>\n",
              "      <td>165</td>\n",
              "      <td>Случаи предоставления гарантий и компенсаций.П...</td>\n",
              "      <td>случаи предоставления гарантий и компенсаций&lt;/...</td>\n",
              "      <td>[[случаи, предоставления, гарантий, и, компенс...</td>\n",
              "      <td>[[0.4060019, -0.66008246, -0.33620188, 0.01592...</td>\n",
              "    </tr>\n",
              "    <tr>\n",
              "      <th>150</th>\n",
              "      <td>138</td>\n",
              "      <td>Ограничение размера удержаний из заработной пл...</td>\n",
              "      <td>ограничение размера удержаний из заработной пл...</td>\n",
              "      <td>[[ограничение, размера, удержаний, из, заработ...</td>\n",
              "      <td>[[-0.028587699, -0.05651939, 0.17876214, -0.06...</td>\n",
              "    </tr>\n",
              "    <tr>\n",
              "      <th>69</th>\n",
              "      <td>64</td>\n",
              "      <td>Гарантии при заключении трудового договора.Зап...</td>\n",
              "      <td>гарантии при заключении трудового договора&lt;/s&gt;...</td>\n",
              "      <td>[[гарантии, при, заключении, трудового, догово...</td>\n",
              "      <td>[[0.21103437, -0.119797565, -0.67994356, 0.044...</td>\n",
              "    </tr>\n",
              "    <tr>\n",
              "      <th>345</th>\n",
              "      <td>312.3</td>\n",
              "      <td>Особенности организации и охраны труда дистанц...</td>\n",
              "      <td>особенности организации и охраны труда дистанц...</td>\n",
              "      <td>[[особенности, организации, и, охраны, труда, ...</td>\n",
              "      <td>[[-0.057669125, -0.29806238, 0.24103837, -0.28...</td>\n",
              "    </tr>\n",
              "    <tr>\n",
              "      <th>126</th>\n",
              "      <td>115</td>\n",
              "      <td>Продолжительность ежегодного основного оплачив...</td>\n",
              "      <td>продолжительность ежегодного основного оплачив...</td>\n",
              "      <td>[[продолжительность, ежегодного, основного, оп...</td>\n",
              "      <td>[[-0.23504484, -1.0676835, -0.33688748, -0.196...</td>\n",
              "    </tr>\n",
              "    <tr>\n",
              "      <th>403</th>\n",
              "      <td>346</td>\n",
              "      <td>Материальная ответственность работников религи...</td>\n",
              "      <td>материальная ответственность работников религи...</td>\n",
              "      <td>[[материальная, ответственность, работников, р...</td>\n",
              "      <td>[[-0.07692032, -0.0090608895, -0.31423467, -0....</td>\n",
              "    </tr>\n",
              "    <tr>\n",
              "      <th>393</th>\n",
              "      <td>341.1</td>\n",
              "      <td>Общие положения.Частное агентство занятости ил...</td>\n",
              "      <td>общие положения&lt;/s&gt; частное агентство занятост...</td>\n",
              "      <td>[[общие, положения], [частное, агентство, заня...</td>\n",
              "      <td>[[-0.41168863, -0.478253, -0.086065084, -0.214...</td>\n",
              "    </tr>\n",
              "  </tbody>\n",
              "</table>\n",
              "</div>"
            ],
            "text/plain": [
              "    article №  ...                                          embedding\n",
              "458       377  ...  [[-0.2757097, 0.17693666, -0.6215924, -0.40906...\n",
              "131       120  ...  [[0.07931159, -0.38407332, -0.15020771, -0.570...\n",
              "77         69  ...  [[-0.69470596, -0.44146565, -0.61218, 0.407515...\n",
              "177       165  ...  [[0.4060019, -0.66008246, -0.33620188, 0.01592...\n",
              "150       138  ...  [[-0.028587699, -0.05651939, 0.17876214, -0.06...\n",
              "69         64  ...  [[0.21103437, -0.119797565, -0.67994356, 0.044...\n",
              "345     312.3  ...  [[-0.057669125, -0.29806238, 0.24103837, -0.28...\n",
              "126       115  ...  [[-0.23504484, -1.0676835, -0.33688748, -0.196...\n",
              "403       346  ...  [[-0.07692032, -0.0090608895, -0.31423467, -0....\n",
              "393     341.1  ...  [[-0.41168863, -0.478253, -0.086065084, -0.214...\n",
              "\n",
              "[10 rows x 5 columns]"
            ]
          },
          "metadata": {
            "tags": []
          },
          "execution_count": 14
        }
      ]
    },
    {
      "cell_type": "code",
      "metadata": {
        "id": "D6YrxP4QvguI",
        "colab_type": "code",
        "colab": {}
      },
      "source": [
        "df.to_csv(r'drive/My Drive/dataframe_LabourCode.csv', index = False)"
      ],
      "execution_count": 0,
      "outputs": []
    },
    {
      "cell_type": "markdown",
      "metadata": {
        "id": "mPQRC9GIRuO0",
        "colab_type": "text"
      },
      "source": [
        "## Visualization"
      ]
    },
    {
      "cell_type": "code",
      "metadata": {
        "id": "CKYIiOotQl5I",
        "colab_type": "code",
        "colab": {}
      },
      "source": [
        "def tsne_plot(case, ind, n_perplex, arr=list()):\n",
        "\n",
        "    #labels = df['clean text'][ind].split('</s>')\n",
        "    #labels = [l for l in labels if l!='']\n",
        "    if case==0:\n",
        "      labels = ['sentence ' + str(i) for i in range(1,len(df['list tokens'][ind])+1)]\n",
        "      tokens = list(df['embedding'][ind])\n",
        "      tokens = [list(t) for t in tokens]\n",
        "    if case==1:\n",
        "      labels, tokens = list(), list()\n",
        "      for j in arr:\n",
        "        for i in range(1,len(df['list tokens'][j])+1):\n",
        "          labels.append(str(j+1) +'.'+str(i))\n",
        "        for t in list(df['embedding'][j]):\n",
        "          tokens.append(list(t))\n",
        "\n",
        "\n",
        "    #tsne_model = TSNE(perplexity=40, n_components=2, init='pca', n_iter=2500, random_state=23)\n",
        "    tsne_model = TSNE(perplexity=n_perplex, n_components=2, init='pca', n_iter=5000, random_state=32)\n",
        "    new_values = tsne_model.fit_transform(tokens)\n",
        "\n",
        "    x = []\n",
        "    y = []\n",
        "    for value in new_values:\n",
        "        x.append(value[0])\n",
        "        y.append(value[1])\n",
        "        \n",
        "    plt.figure(figsize=(16, 16)) \n",
        "    for i in range(len(x)):\n",
        "        plt.scatter(x[i],y[i])\n",
        "        plt.annotate(labels[i],\n",
        "                     xy=(x[i], y[i]),\n",
        "                     xytext=(5, 2),\n",
        "                     textcoords='offset points',\n",
        "                     ha='right',\n",
        "                     va='bottom')\n",
        "    if case==0: plt.title(\"Embeddings of article №\"+df['article №'][ind])\n",
        "    if case==1: plt.title(\"Embeddings of chapter №\"+ str(ind))\n",
        "    plt.show()"
      ],
      "execution_count": 0,
      "outputs": []
    },
    {
      "cell_type": "code",
      "metadata": {
        "id": "-T4_sHjTUXEU",
        "colab_type": "code",
        "outputId": "0d2a2345-2816-4619-c994-892d37d8ccb4",
        "colab": {
          "base_uri": "https://localhost:8080/",
          "height": 934
        }
      },
      "source": [
        "tsne_plot(1, 1, 20, [i for i in range(0,14)])"
      ],
      "execution_count": 54,
      "outputs": [
        {
          "output_type": "display_data",
          "data": {
            "image/png": "[encoded data removed]",
            "text/plain": [
              "<Figure size 1152x1152 with 1 Axes>"
            ]
          },
          "metadata": {
            "tags": []
          }
        }
      ]
    },
    {
      "cell_type": "code",
      "metadata": {
        "id": "22gWhPkzB4TT",
        "colab_type": "code",
        "colab": {}
      },
      "source": [
        "def tsne_plot_(case, ind, n_perplex, filename = '', arr=list()):\n",
        "\n",
        "    #labels = df['clean text'][ind].split('</s>')\n",
        "    #labels = [l for l in labels if l!='']\n",
        "    if case==0:\n",
        "      labels = ['sentence ' + str(i) for i in range(1,len(df['list tokens'][ind])+1)]\n",
        "      tokens = list(df['embedding'][ind])\n",
        "      tokens = [list(t) for t in tokens]\n",
        "      colors = [ind+1 for i in range(len(labels))]\n",
        "    if case==1:\n",
        "      labels, tokens, colors = list(), list(), list()\n",
        "      for j in arr:\n",
        "        for i in range(1,len(df['list tokens'][j])+1):\n",
        "          colors.append(j+1)\n",
        "          labels.append(str(j+1) +'.'+str(i))\n",
        "        for t in list(df['embedding'][j]):\n",
        "          tokens.append(list(t))\n",
        "\n",
        "    #tsne_model = TSNE(perplexity=40, n_components=2, init='pca', n_iter=2500, random_state=23)\n",
        "    tsne_model = TSNE(perplexity=n_perplex, n_components=2, init='pca', n_iter=5000, random_state=32)\n",
        "    new_values = tsne_model.fit_transform(tokens)\n",
        "\n",
        "    x = []\n",
        "    y = []\n",
        "    for value in new_values:\n",
        "        x.append(value[0])\n",
        "        y.append(value[1])\n",
        "        \n",
        "    fig = go.Figure(go.Scatter(x=x, y=y, text=labels, mode='markers', marker_color=colors))\n",
        "    if case==0: fig.update_layout(title_text=\"Embeddings of article №\"+df['article №'][ind])\n",
        "    if case==1: fig.update_layout(title_text=\"Embeddings of chapter №\"+ str(ind))\n",
        "    fig.show()\n",
        "    plotly.offline.plot(fig, filename = 'drive/My Drive/'+filename +'.html', auto_open=False)"
      ],
      "execution_count": 0,
      "outputs": []
    },
    {
      "cell_type": "code",
      "metadata": {
        "id": "vyzcvDQ3Cs6d",
        "colab_type": "code",
        "colab": {
          "base_uri": "https://localhost:8080/",
          "height": 542
        },
        "outputId": "a280b902-7653-405a-d3bd-a279b3745cfa"
      },
      "source": [
        "tsne_plot_(0, 1, 50)"
      ],
      "execution_count": 110,
      "outputs": [
        {
          "output_type": "display_data",
          "data": {
            "text/html": [
              "<html>\n",
              "<head><meta charset=\"utf-8\" /></head>\n",
              "<body>\n",
              "    <div>\n",
              "            <script src=\"https://cdnjs.cloudflare.com/ajax/libs/mathjax/2.7.5/MathJax.js?config=TeX-AMS-MML_SVG\"></script><script type=\"text/javascript\">if (window.MathJax) {MathJax.Hub.Config({SVG: {font: \"STIX-Web\"}});}</script>\n",
              "                <script type=\"text/javascript\">window.PlotlyConfig = {MathJaxConfig: 'local'};</script>\n",
              "        <script src=\"https://cdn.plot.ly/plotly-latest.min.js\"></script>    \n",
              "            <div id=\"97edd30f-d388-4641-9300-95d14846b2a2\" class=\"plotly-graph-div\" style=\"height:525px; width:100%;\"></div>\n",
              "            <script type=\"text/javascript\">\n",
              "                \n",
              "                    window.PLOTLYENV=window.PLOTLYENV || {};\n",
              "                    \n",
              "                if (document.getElementById(\"97edd30f-d388-4641-9300-95d14846b2a2\")) {\n",
              "                    Plotly.newPlot(\n",
              "                        '97edd30f-d388-4641-9300-95d14846b2a2',\n",
              "                        [{\"marker\": {\"color\": [2, 2, 2, 2, 2, 2, 2, 2, 2, 2, 2, 2, 2, 2, 2, 2, 2, 2, 2, 2, 2, 2, 2, 2]}, \"mode\": \"markers\", \"text\": [\"sentence 1\", \"sentence 2\", \"sentence 3\", \"sentence 4\", \"sentence 5\", \"sentence 6\", \"sentence 7\", \"sentence 8\", \"sentence 9\", \"sentence 10\", \"sentence 11\", \"sentence 12\", \"sentence 13\", \"sentence 14\", \"sentence 15\", \"sentence 16\", \"sentence 17\", \"sentence 18\", \"sentence 19\", \"sentence 20\", \"sentence 21\", \"sentence 22\", \"sentence 23\", \"sentence 24\"], \"type\": \"scatter\", \"x\": [3.578517198562622, -31.673524856567383, -56.30073165893555, -56.38759994506836, -82.74331665039062, -25.010610580444336, -30.374094009399414, 2.0322659015655518, 13.558897972106934, 29.151784896850586, -54.685020446777344, -32.9141960144043, -10.004768371582031, 29.571277618408203, -7.746279239654541, -56.64949035644531, -58.48857879638672, -84.01495361328125, -10.066399574279785, -32.48149490356445, -82.3741455078125, -24.240318298339844, 12.584739685058594, 39.599185943603516], \"y\": [48.73295211791992, 10.646675109863281, -27.070585250854492, -57.810821533203125, 23.929595947265625, -67.59819030761719, 37.07470703125, -54.85359573364258, 9.107340812683105, -40.187713623046875, 24.29432487487793, -14.575765609741211, -29.824512481689453, 31.59459114074707, 23.77838134765625, -1.1813747882843018, 52.47025680541992, -6.667520046234131, -3.1509926319122314, -40.927825927734375, -37.57538604736328, 63.65568542480469, -18.12466812133789, -4.573380470275879]}],\n",
              "                        {\"template\": {\"data\": {\"bar\": [{\"error_x\": {\"color\": \"#2a3f5f\"}, \"error_y\": {\"color\": \"#2a3f5f\"}, \"marker\": {\"line\": {\"color\": \"#E5ECF6\", \"width\": 0.5}}, \"type\": \"bar\"}], \"barpolar\": [{\"marker\": {\"line\": {\"color\": \"#E5ECF6\", \"width\": 0.5}}, \"type\": \"barpolar\"}], \"carpet\": [{\"aaxis\": {\"endlinecolor\": \"#2a3f5f\", \"gridcolor\": \"white\", \"linecolor\": \"white\", \"minorgridcolor\": \"white\", \"startlinecolor\": \"#2a3f5f\"}, \"baxis\": {\"endlinecolor\": \"#2a3f5f\", \"gridcolor\": \"white\", \"linecolor\": \"white\", \"minorgridcolor\": \"white\", \"startlinecolor\": \"#2a3f5f\"}, \"type\": \"carpet\"}], \"choropleth\": [{\"colorbar\": {\"outlinewidth\": 0, \"ticks\": \"\"}, \"type\": \"choropleth\"}], \"contour\": [{\"colorbar\": {\"outlinewidth\": 0, \"ticks\": \"\"}, \"colorscale\": [[0.0, \"#0d0887\"], [0.1111111111111111, \"#46039f\"], [0.2222222222222222, \"#7201a8\"], [0.3333333333333333, \"#9c179e\"], [0.4444444444444444, \"#bd3786\"], [0.5555555555555556, \"#d8576b\"], [0.6666666666666666, \"#ed7953\"], [0.7777777777777778, \"#fb9f3a\"], [0.8888888888888888, \"#fdca26\"], [1.0, \"#f0f921\"]], \"type\": \"contour\"}], \"contourcarpet\": [{\"colorbar\": {\"outlinewidth\": 0, \"ticks\": \"\"}, \"type\": \"contourcarpet\"}], \"heatmap\": [{\"colorbar\": {\"outlinewidth\": 0, \"ticks\": \"\"}, \"colorscale\": [[0.0, \"#0d0887\"], [0.1111111111111111, \"#46039f\"], [0.2222222222222222, \"#7201a8\"], [0.3333333333333333, \"#9c179e\"], [0.4444444444444444, \"#bd3786\"], [0.5555555555555556, \"#d8576b\"], [0.6666666666666666, \"#ed7953\"], [0.7777777777777778, \"#fb9f3a\"], [0.8888888888888888, \"#fdca26\"], [1.0, \"#f0f921\"]], \"type\": \"heatmap\"}], \"heatmapgl\": [{\"colorbar\": {\"outlinewidth\": 0, \"ticks\": \"\"}, \"colorscale\": [[0.0, \"#0d0887\"], [0.1111111111111111, \"#46039f\"], [0.2222222222222222, \"#7201a8\"], [0.3333333333333333, \"#9c179e\"], [0.4444444444444444, \"#bd3786\"], [0.5555555555555556, \"#d8576b\"], [0.6666666666666666, \"#ed7953\"], [0.7777777777777778, \"#fb9f3a\"], [0.8888888888888888, \"#fdca26\"], [1.0, \"#f0f921\"]], \"type\": \"heatmapgl\"}], \"histogram\": [{\"marker\": {\"colorbar\": {\"outlinewidth\": 0, \"ticks\": \"\"}}, \"type\": \"histogram\"}], \"histogram2d\": [{\"colorbar\": {\"outlinewidth\": 0, \"ticks\": \"\"}, \"colorscale\": [[0.0, \"#0d0887\"], [0.1111111111111111, \"#46039f\"], [0.2222222222222222, \"#7201a8\"], [0.3333333333333333, \"#9c179e\"], [0.4444444444444444, \"#bd3786\"], [0.5555555555555556, \"#d8576b\"], [0.6666666666666666, \"#ed7953\"], [0.7777777777777778, \"#fb9f3a\"], [0.8888888888888888, \"#fdca26\"], [1.0, \"#f0f921\"]], \"type\": \"histogram2d\"}], \"histogram2dcontour\": [{\"colorbar\": {\"outlinewidth\": 0, \"ticks\": \"\"}, \"colorscale\": [[0.0, \"#0d0887\"], [0.1111111111111111, \"#46039f\"], [0.2222222222222222, \"#7201a8\"], [0.3333333333333333, \"#9c179e\"], [0.4444444444444444, \"#bd3786\"], [0.5555555555555556, \"#d8576b\"], [0.6666666666666666, \"#ed7953\"], [0.7777777777777778, \"#fb9f3a\"], [0.8888888888888888, \"#fdca26\"], [1.0, \"#f0f921\"]], \"type\": \"histogram2dcontour\"}], \"mesh3d\": [{\"colorbar\": {\"outlinewidth\": 0, \"ticks\": \"\"}, \"type\": \"mesh3d\"}], \"parcoords\": [{\"line\": {\"colorbar\": {\"outlinewidth\": 0, \"ticks\": \"\"}}, \"type\": \"parcoords\"}], \"pie\": [{\"automargin\": true, \"type\": \"pie\"}], \"scatter\": [{\"marker\": {\"colorbar\": {\"outlinewidth\": 0, \"ticks\": \"\"}}, \"type\": \"scatter\"}], \"scatter3d\": [{\"line\": {\"colorbar\": {\"outlinewidth\": 0, \"ticks\": \"\"}}, \"marker\": {\"colorbar\": {\"outlinewidth\": 0, \"ticks\": \"\"}}, \"type\": \"scatter3d\"}], \"scattercarpet\": [{\"marker\": {\"colorbar\": {\"outlinewidth\": 0, \"ticks\": \"\"}}, \"type\": \"scattercarpet\"}], \"scattergeo\": [{\"marker\": {\"colorbar\": {\"outlinewidth\": 0, \"ticks\": \"\"}}, \"type\": \"scattergeo\"}], \"scattergl\": [{\"marker\": {\"colorbar\": {\"outlinewidth\": 0, \"ticks\": \"\"}}, \"type\": \"scattergl\"}], \"scattermapbox\": [{\"marker\": {\"colorbar\": {\"outlinewidth\": 0, \"ticks\": \"\"}}, \"type\": \"scattermapbox\"}], \"scatterpolar\": [{\"marker\": {\"colorbar\": {\"outlinewidth\": 0, \"ticks\": \"\"}}, \"type\": \"scatterpolar\"}], \"scatterpolargl\": [{\"marker\": {\"colorbar\": {\"outlinewidth\": 0, \"ticks\": \"\"}}, \"type\": \"scatterpolargl\"}], \"scatterternary\": [{\"marker\": {\"colorbar\": {\"outlinewidth\": 0, \"ticks\": \"\"}}, \"type\": \"scatterternary\"}], \"surface\": [{\"colorbar\": {\"outlinewidth\": 0, \"ticks\": \"\"}, \"colorscale\": [[0.0, \"#0d0887\"], [0.1111111111111111, \"#46039f\"], [0.2222222222222222, \"#7201a8\"], [0.3333333333333333, \"#9c179e\"], [0.4444444444444444, \"#bd3786\"], [0.5555555555555556, \"#d8576b\"], [0.6666666666666666, \"#ed7953\"], [0.7777777777777778, \"#fb9f3a\"], [0.8888888888888888, \"#fdca26\"], [1.0, \"#f0f921\"]], \"type\": \"surface\"}], \"table\": [{\"cells\": {\"fill\": {\"color\": \"#EBF0F8\"}, \"line\": {\"color\": \"white\"}}, \"header\": {\"fill\": {\"color\": \"#C8D4E3\"}, \"line\": {\"color\": \"white\"}}, \"type\": \"table\"}]}, \"layout\": {\"annotationdefaults\": {\"arrowcolor\": \"#2a3f5f\", \"arrowhead\": 0, \"arrowwidth\": 1}, \"coloraxis\": {\"colorbar\": {\"outlinewidth\": 0, \"ticks\": \"\"}}, \"colorscale\": {\"diverging\": [[0, \"#8e0152\"], [0.1, \"#c51b7d\"], [0.2, \"#de77ae\"], [0.3, \"#f1b6da\"], [0.4, \"#fde0ef\"], [0.5, \"#f7f7f7\"], [0.6, \"#e6f5d0\"], [0.7, \"#b8e186\"], [0.8, \"#7fbc41\"], [0.9, \"#4d9221\"], [1, \"#276419\"]], \"sequential\": [[0.0, \"#0d0887\"], [0.1111111111111111, \"#46039f\"], [0.2222222222222222, \"#7201a8\"], [0.3333333333333333, \"#9c179e\"], [0.4444444444444444, \"#bd3786\"], [0.5555555555555556, \"#d8576b\"], [0.6666666666666666, \"#ed7953\"], [0.7777777777777778, \"#fb9f3a\"], [0.8888888888888888, \"#fdca26\"], [1.0, \"#f0f921\"]], \"sequentialminus\": [[0.0, \"#0d0887\"], [0.1111111111111111, \"#46039f\"], [0.2222222222222222, \"#7201a8\"], [0.3333333333333333, \"#9c179e\"], [0.4444444444444444, \"#bd3786\"], [0.5555555555555556, \"#d8576b\"], [0.6666666666666666, \"#ed7953\"], [0.7777777777777778, \"#fb9f3a\"], [0.8888888888888888, \"#fdca26\"], [1.0, \"#f0f921\"]]}, \"colorway\": [\"#636efa\", \"#EF553B\", \"#00cc96\", \"#ab63fa\", \"#FFA15A\", \"#19d3f3\", \"#FF6692\", \"#B6E880\", \"#FF97FF\", \"#FECB52\"], \"font\": {\"color\": \"#2a3f5f\"}, \"geo\": {\"bgcolor\": \"white\", \"lakecolor\": \"white\", \"landcolor\": \"#E5ECF6\", \"showlakes\": true, \"showland\": true, \"subunitcolor\": \"white\"}, \"hoverlabel\": {\"align\": \"left\"}, \"hovermode\": \"closest\", \"mapbox\": {\"style\": \"light\"}, \"paper_bgcolor\": \"white\", \"plot_bgcolor\": \"#E5ECF6\", \"polar\": {\"angularaxis\": {\"gridcolor\": \"white\", \"linecolor\": \"white\", \"ticks\": \"\"}, \"bgcolor\": \"#E5ECF6\", \"radialaxis\": {\"gridcolor\": \"white\", \"linecolor\": \"white\", \"ticks\": \"\"}}, \"scene\": {\"xaxis\": {\"backgroundcolor\": \"#E5ECF6\", \"gridcolor\": \"white\", \"gridwidth\": 2, \"linecolor\": \"white\", \"showbackground\": true, \"ticks\": \"\", \"zerolinecolor\": \"white\"}, \"yaxis\": {\"backgroundcolor\": \"#E5ECF6\", \"gridcolor\": \"white\", \"gridwidth\": 2, \"linecolor\": \"white\", \"showbackground\": true, \"ticks\": \"\", \"zerolinecolor\": \"white\"}, \"zaxis\": {\"backgroundcolor\": \"#E5ECF6\", \"gridcolor\": \"white\", \"gridwidth\": 2, \"linecolor\": \"white\", \"showbackground\": true, \"ticks\": \"\", \"zerolinecolor\": \"white\"}}, \"shapedefaults\": {\"line\": {\"color\": \"#2a3f5f\"}}, \"ternary\": {\"aaxis\": {\"gridcolor\": \"white\", \"linecolor\": \"white\", \"ticks\": \"\"}, \"baxis\": {\"gridcolor\": \"white\", \"linecolor\": \"white\", \"ticks\": \"\"}, \"bgcolor\": \"#E5ECF6\", \"caxis\": {\"gridcolor\": \"white\", \"linecolor\": \"white\", \"ticks\": \"\"}}, \"title\": {\"x\": 0.05}, \"xaxis\": {\"automargin\": true, \"gridcolor\": \"white\", \"linecolor\": \"white\", \"ticks\": \"\", \"title\": {\"standoff\": 15}, \"zerolinecolor\": \"white\", \"zerolinewidth\": 2}, \"yaxis\": {\"automargin\": true, \"gridcolor\": \"white\", \"linecolor\": \"white\", \"ticks\": \"\", \"title\": {\"standoff\": 15}, \"zerolinecolor\": \"white\", \"zerolinewidth\": 2}}}, \"title\": {\"text\": \"Embeddings of article \\u21162\"}},\n",
              "                        {\"responsive\": true}\n",
              "                    ).then(function(){\n",
              "                            \n",
              "var gd = document.getElementById('97edd30f-d388-4641-9300-95d14846b2a2');\n",
              "var x = new MutationObserver(function (mutations, observer) {{\n",
              "        var display = window.getComputedStyle(gd).display;\n",
              "        if (!display || display === 'none') {{\n",
              "            console.log([gd, 'removed!']);\n",
              "            Plotly.purge(gd);\n",
              "            observer.disconnect();\n",
              "        }}\n",
              "}});\n",
              "\n",
              "// Listen for the removal of the full notebook cells\n",
              "var notebookContainer = gd.closest('#notebook-container');\n",
              "if (notebookContainer) {{\n",
              "    x.observe(notebookContainer, {childList: true});\n",
              "}}\n",
              "\n",
              "// Listen for the clearing of the current output cell\n",
              "var outputEl = gd.closest('.output');\n",
              "if (outputEl) {{\n",
              "    x.observe(outputEl, {childList: true});\n",
              "}}\n",
              "\n",
              "                        })\n",
              "                };\n",
              "                \n",
              "            </script>\n",
              "        </div>\n",
              "</body>\n",
              "</html>"
            ]
          },
          "metadata": {
            "tags": []
          }
        }
      ]
    },
    {
      "cell_type": "code",
      "metadata": {
        "id": "omnXs63BEG3R",
        "colab_type": "code",
        "colab": {
          "base_uri": "https://localhost:8080/",
          "height": 542
        },
        "outputId": "472f5c67-edd0-487d-e631-cf3e7f825429"
      },
      "source": [
        "tsne_plot_(1, 1, 30, 'chapter1', [i for i in range(0,14)])"
      ],
      "execution_count": 118,
      "outputs": [
        {
          "output_type": "display_data",
          "data": {
            "text/html": [
              "<html>\n",
              "<head><meta charset=\"utf-8\" /></head>\n",
              "<body>\n",
              "    <div>\n",
              "            <script src=\"https://cdnjs.cloudflare.com/ajax/libs/mathjax/2.7.5/MathJax.js?config=TeX-AMS-MML_SVG\"></script><script type=\"text/javascript\">if (window.MathJax) {MathJax.Hub.Config({SVG: {font: \"STIX-Web\"}});}</script>\n",
              "                <script type=\"text/javascript\">window.PlotlyConfig = {MathJaxConfig: 'local'};</script>\n",
              "        <script src=\"https://cdn.plot.ly/plotly-latest.min.js\"></script>    \n",
              "            <div id=\"f562a479-95a5-4c71-b474-820921ab7bde\" class=\"plotly-graph-div\" style=\"height:525px; width:100%;\"></div>\n",
              "            <script type=\"text/javascript\">\n",
              "                \n",
              "                    window.PLOTLYENV=window.PLOTLYENV || {};\n",
              "                    \n",
              "                if (document.getElementById(\"f562a479-95a5-4c71-b474-820921ab7bde\")) {\n",
              "                    Plotly.newPlot(\n",
              "                        'f562a479-95a5-4c71-b474-820921ab7bde',\n",
              "                        [{\"marker\": {\"color\": [1, 1, 1, 1, 1, 1, 1, 1, 1, 1, 1, 1, 1, 1, 2, 2, 2, 2, 2, 2, 2, 2, 2, 2, 2, 2, 2, 2, 2, 2, 2, 2, 2, 2, 2, 2, 2, 2, 3, 3, 3, 3, 3, 3, 3, 3, 4, 4, 4, 4, 4, 4, 4, 4, 4, 4, 4, 4, 4, 4, 4, 5, 5, 5, 5, 5, 5, 5, 5, 5, 5, 5, 5, 5, 5, 5, 5, 5, 5, 6, 6, 6, 6, 6, 6, 6, 6, 6, 6, 6, 6, 6, 6, 6, 6, 6, 6, 6, 6, 6, 6, 6, 7, 8, 8, 8, 8, 8, 8, 9, 9, 9, 9, 10, 10, 10, 10, 10, 11, 11, 11, 11, 11, 11, 11, 11, 11, 11, 11, 11, 11, 11, 11, 11, 12, 12, 12, 12, 12, 12, 12, 12, 12, 12, 12, 12, 12, 12, 12, 12, 12, 12, 12, 12, 13, 13, 13, 13, 13, 13, 13, 13, 13, 14, 14, 14, 14, 14, 14, 14, 14]}, \"mode\": \"markers\", \"text\": [\"1.1\", \"1.2\", \"1.3\", \"1.4\", \"1.5\", \"1.6\", \"1.7\", \"1.8\", \"1.9\", \"1.10\", \"1.11\", \"1.12\", \"1.13\", \"1.14\", \"2.1\", \"2.2\", \"2.3\", \"2.4\", \"2.5\", \"2.6\", \"2.7\", \"2.8\", \"2.9\", \"2.10\", \"2.11\", \"2.12\", \"2.13\", \"2.14\", \"2.15\", \"2.16\", \"2.17\", \"2.18\", \"2.19\", \"2.20\", \"2.21\", \"2.22\", \"2.23\", \"2.24\", \"3.1\", \"3.2\", \"3.3\", \"3.4\", \"3.5\", \"3.6\", \"3.7\", \"3.8\", \"4.1\", \"4.2\", \"4.3\", \"4.4\", \"4.5\", \"4.6\", \"4.7\", \"4.8\", \"4.9\", \"4.10\", \"4.11\", \"4.12\", \"4.13\", \"4.14\", \"4.15\", \"5.1\", \"5.2\", \"5.3\", \"5.4\", \"5.5\", \"5.6\", \"5.7\", \"5.8\", \"5.9\", \"5.10\", \"5.11\", \"5.12\", \"5.13\", \"5.14\", \"5.15\", \"5.16\", \"5.17\", \"5.18\", \"6.1\", \"6.2\", \"6.3\", \"6.4\", \"6.5\", \"6.6\", \"6.7\", \"6.8\", \"6.9\", \"6.10\", \"6.11\", \"6.12\", \"6.13\", \"6.14\", \"6.15\", \"6.16\", \"6.17\", \"6.18\", \"6.19\", \"6.20\", \"6.21\", \"6.22\", \"6.23\", \"7.1\", \"8.1\", \"8.2\", \"8.3\", \"8.4\", \"8.5\", \"8.6\", \"9.1\", \"9.2\", \"9.3\", \"9.4\", \"10.1\", \"10.2\", \"10.3\", \"10.4\", \"10.5\", \"11.1\", \"11.2\", \"11.3\", \"11.4\", \"11.5\", \"11.6\", \"11.7\", \"11.8\", \"11.9\", \"11.10\", \"11.11\", \"11.12\", \"11.13\", \"11.14\", \"11.15\", \"11.16\", \"12.1\", \"12.2\", \"12.3\", \"12.4\", \"12.5\", \"12.6\", \"12.7\", \"12.8\", \"12.9\", \"12.10\", \"12.11\", \"12.12\", \"12.13\", \"12.14\", \"12.15\", \"12.16\", \"12.17\", \"12.18\", \"12.19\", \"12.20\", \"13.1\", \"13.2\", \"13.3\", \"13.4\", \"13.5\", \"13.6\", \"13.7\", \"13.8\", \"13.9\", \"14.1\", \"14.2\", \"14.3\", \"14.4\", \"14.5\", \"14.6\", \"14.7\", \"14.8\"], \"type\": \"scatter\", \"x\": [-13.477677345275879, -13.53695297241211, -11.42956256866455, -8.532608985900879, -8.567846298217773, 48.72983169555664, -15.93978214263916, -12.132637023925781, -10.331603050231934, -12.793571472167969, 49.28284454345703, -6.855536460876465, -17.10994529724121, 45.40248107910156, -10.730831146240234, -12.039265632629395, -11.333245277404785, -11.042702674865723, -11.297493934631348, -13.927679061889648, -11.209517478942871, -11.097146987915039, 48.549957275390625, -12.935754776000977, 49.19090270996094, -12.453877449035645, -10.926433563232422, -11.391034126281738, -9.943455696105957, -12.711432456970215, 49.5147705078125, -12.963496208190918, 47.496463775634766, -13.03737735748291, -11.923317909240723, -12.727474212646484, -11.786001205444336, -12.304695129394531, -11.254729270935059, -13.641667366027832, -11.146393775939941, 49.237857818603516, -11.758209228515625, 49.7638053894043, -9.694880485534668, 47.74030303955078, -11.432785034179688, -12.15479564666748, -9.794923782348633, -9.314104080200195, -9.924118041992188, -7.64364767074585, -7.595823287963867, -10.174985885620117, -9.175333023071289, 46.55175018310547, -10.680869102478027, -15.97153377532959, -8.638528823852539, -14.792479515075684, 46.39661407470703, -14.4503755569458, 47.91999435424805, -14.042383193969727, -17.0517578125, -18.301340103149414, -18.270631790161133, -18.277828216552734, -13.705777168273926, -18.506526947021484, -17.993366241455078, -18.03277015686035, -17.343307495117188, 44.99503707885742, -17.89345932006836, -17.664838790893555, -17.376726150512695, -17.323423385620117, -15.845337867736816, -12.262475967407227, -12.471925735473633, -10.981572151184082, 48.302433013916016, -12.473627090454102, -8.256353378295898, -9.221062660217285, -7.203919410705566, -12.880223274230957, 49.320735931396484, -8.070002555847168, -6.457533836364746, 49.54457473754883, -10.051179885864258, -8.143903732299805, -6.376510143280029, -9.849387168884277, -15.047450065612793, 47.929405212402344, -16.409818649291992, -17.633201599121094, -14.213356018066406, 45.69094467163086, 46.802032470703125, -14.861927032470703, 48.6148796081543, -14.665517807006836, -15.825404167175293, -15.840354919433594, -14.84544849395752, -11.119491577148438, -12.280864715576172, -14.637433052062988, 46.635467529296875, -14.554902076721191, 48.0311164855957, -16.730981826782227, -16.390146255493164, 47.49169921875, -13.448101043701172, 47.51889419555664, -13.540953636169434, -14.678878784179688, -13.510324478149414, -14.834619522094727, 46.056861877441406, -14.754378318786621, 49.76580810546875, -10.200712203979492, -15.130487442016602, 49.248600006103516, -13.790225982666016, -14.39268970489502, -14.537283897399902, -19.740400314331055, -13.34044075012207, 48.51940155029297, -18.05955696105957, -18.157455444335938, -19.11525535583496, 48.055442810058594, -10.355376243591309, -10.54132080078125, 48.124244689941406, -17.481782913208008, -17.053325653076172, -17.1885929107666, -16.0577392578125, 45.11351013183594, -17.3393497467041, 45.04527282714844, -18.624624252319336, -10.851268768310547, -15.949792861938477, 45.07417678833008, -13.376824378967285, 48.39904022216797, -16.648386001586914, 48.61255645751953, -16.33638572692871, -15.934870719909668, 47.6429443359375, -13.56078052520752, 46.39490509033203, -7.762358665466309, -8.478889465332031, -8.46052074432373, -8.135255813598633, -8.165489196777344, -10.60852336883545, -5.1347808837890625, -5.047048091888428], \"y\": [4.9480881690979, -6.284915924072266, -2.2062039375305176, -9.34127140045166, -9.30083179473877, -0.2330692857503891, -6.45837926864624, -4.8287248611450195, -8.521529197692871, 1.6721174716949463, 2.583789110183716, -1.4687882661819458, -5.029908657073975, 2.6395225524902344, -0.7878629565238953, -2.870363473892212, -10.038524627685547, -7.915366172790527, -6.449191570281982, -7.03926420211792, -6.249669551849365, -6.872921466827393, -0.46318259835243225, -5.451900005340576, 0.18734173476696014, -5.275598049163818, -0.6647146940231323, -1.3516613245010376, -4.396589756011963, -5.869631767272949, 0.8814772963523865, -7.167898178100586, 1.6431537866592407, -4.105687618255615, -4.122751712799072, -4.214080810546875, -7.188612937927246, -7.677621841430664, -9.958754539489746, -8.129827499389648, -3.5967531204223633, 2.595137357711792, -3.2004547119140625, 2.2766711711883545, -5.973709583282471, 0.40619850158691406, -10.361928939819336, -10.590944290161133, -5.500360488891602, -7.183507442474365, -7.454375743865967, -6.80290412902832, -6.84139347076416, -5.330968379974365, -4.929573059082031, -0.2996671199798584, -5.065204620361328, -4.124998092651367, -5.0085368156433105, -5.044898509979248, 0.15194247663021088, 4.211544036865234, -0.05862196162343025, 0.2568794786930084, 3.493131637573242, 3.830052614212036, 4.037230491638184, 4.3397955894470215, -0.9102973341941833, 1.3906383514404297, -0.28676506876945496, -0.7120513916015625, -1.219707727432251, 1.7834991216659546, 1.6871092319488525, 1.8755062818527222, 2.0090866088867188, 1.9428966045379639, 1.3811218738555908, 0.21685445308685303, 0.0991276204586029, -2.122617483139038, 0.41897520422935486, -6.6316609382629395, -1.377667784690857, -1.2232840061187744, -1.4676315784454346, 1.7392898797988892, 0.8107602000236511, -3.4955666065216064, -4.7165207862854, 0.2859054505825043, -4.355720043182373, -2.2553493976593018, -4.747749328613281, -2.691594123840332, 0.2414117008447647, -0.08981214463710785, 1.0961766242980957, -0.2563617527484894, 0.9649525880813599, 1.1252572536468506, 2.6281261444091797, 4.377869129180908, 1.3146858215332031, -0.7901289463043213, -0.5351435542106628, -0.8220941424369812, -1.1232056617736816, -0.6731777191162109, -1.2119591236114502, -1.556268334388733, -0.4680030643939972, 4.227234840393066, 1.0710052251815796, 2.596125364303589, 0.0374881736934185, 0.9884436726570129, 3.6154706478118896, 1.1651573181152344, -0.8409871459007263, -1.6979048252105713, -2.1842129230499268, -1.7923343181610107, -0.10400921106338501, 0.030958112329244614, 2.2698559761047363, -2.753662586212158, 0.9322607517242432, -0.21141061186790466, -2.3906266689300537, -3.799179792404175, -3.015631675720215, -0.5708122849464417, 3.5589752197265625, 0.8604356050491333, -1.9500261545181274, -1.4707567691802979, -3.792937994003296, 1.7109673023223877, 4.599010944366455, 4.495018482208252, 1.6869845390319824, -2.3078577518463135, -2.21590518951416, -2.3235673904418945, -2.7542717456817627, 2.005836009979248, -2.6048598289489746, 1.9852224588394165, -3.167444944381714, 4.338291645050049, -1.9269328117370605, 2.0062766075134277, 3.5420379638671875, 0.5905523300170898, 1.3291229009628296, 1.3203809261322021, 2.0600035190582275, 2.4236528873443604, 0.6164271831512451, -3.0626463890075684, 0.1639622151851654, 1.006084680557251, 1.021998643875122, 1.1321840286254883, 1.9931137561798096, 2.0871195793151855, 1.3601964712142944, 0.8612679243087769, 0.8868608474731445]}],\n",
              "                        {\"template\": {\"data\": {\"bar\": [{\"error_x\": {\"color\": \"#2a3f5f\"}, \"error_y\": {\"color\": \"#2a3f5f\"}, \"marker\": {\"line\": {\"color\": \"#E5ECF6\", \"width\": 0.5}}, \"type\": \"bar\"}], \"barpolar\": [{\"marker\": {\"line\": {\"color\": \"#E5ECF6\", \"width\": 0.5}}, \"type\": \"barpolar\"}], \"carpet\": [{\"aaxis\": {\"endlinecolor\": \"#2a3f5f\", \"gridcolor\": \"white\", \"linecolor\": \"white\", \"minorgridcolor\": \"white\", \"startlinecolor\": \"#2a3f5f\"}, \"baxis\": {\"endlinecolor\": \"#2a3f5f\", \"gridcolor\": \"white\", \"linecolor\": \"white\", \"minorgridcolor\": \"white\", \"startlinecolor\": \"#2a3f5f\"}, \"type\": \"carpet\"}], \"choropleth\": [{\"colorbar\": {\"outlinewidth\": 0, \"ticks\": \"\"}, \"type\": \"choropleth\"}], \"contour\": [{\"colorbar\": {\"outlinewidth\": 0, \"ticks\": \"\"}, \"colorscale\": [[0.0, \"#0d0887\"], [0.1111111111111111, \"#46039f\"], [0.2222222222222222, \"#7201a8\"], [0.3333333333333333, \"#9c179e\"], [0.4444444444444444, \"#bd3786\"], [0.5555555555555556, \"#d8576b\"], [0.6666666666666666, \"#ed7953\"], [0.7777777777777778, \"#fb9f3a\"], [0.8888888888888888, \"#fdca26\"], [1.0, \"#f0f921\"]], \"type\": \"contour\"}], \"contourcarpet\": [{\"colorbar\": {\"outlinewidth\": 0, \"ticks\": \"\"}, \"type\": \"contourcarpet\"}], \"heatmap\": [{\"colorbar\": {\"outlinewidth\": 0, \"ticks\": \"\"}, \"colorscale\": [[0.0, \"#0d0887\"], [0.1111111111111111, \"#46039f\"], [0.2222222222222222, \"#7201a8\"], [0.3333333333333333, \"#9c179e\"], [0.4444444444444444, \"#bd3786\"], [0.5555555555555556, \"#d8576b\"], [0.6666666666666666, \"#ed7953\"], [0.7777777777777778, \"#fb9f3a\"], [0.8888888888888888, \"#fdca26\"], [1.0, \"#f0f921\"]], \"type\": \"heatmap\"}], \"heatmapgl\": [{\"colorbar\": {\"outlinewidth\": 0, \"ticks\": \"\"}, \"colorscale\": [[0.0, \"#0d0887\"], [0.1111111111111111, \"#46039f\"], [0.2222222222222222, \"#7201a8\"], [0.3333333333333333, \"#9c179e\"], [0.4444444444444444, \"#bd3786\"], [0.5555555555555556, \"#d8576b\"], [0.6666666666666666, \"#ed7953\"], [0.7777777777777778, \"#fb9f3a\"], [0.8888888888888888, \"#fdca26\"], [1.0, \"#f0f921\"]], \"type\": \"heatmapgl\"}], \"histogram\": [{\"marker\": {\"colorbar\": {\"outlinewidth\": 0, \"ticks\": \"\"}}, \"type\": \"histogram\"}], \"histogram2d\": [{\"colorbar\": {\"outlinewidth\": 0, \"ticks\": \"\"}, \"colorscale\": [[0.0, \"#0d0887\"], [0.1111111111111111, \"#46039f\"], [0.2222222222222222, \"#7201a8\"], [0.3333333333333333, \"#9c179e\"], [0.4444444444444444, \"#bd3786\"], [0.5555555555555556, \"#d8576b\"], [0.6666666666666666, \"#ed7953\"], [0.7777777777777778, \"#fb9f3a\"], [0.8888888888888888, \"#fdca26\"], [1.0, \"#f0f921\"]], \"type\": \"histogram2d\"}], \"histogram2dcontour\": [{\"colorbar\": {\"outlinewidth\": 0, \"ticks\": \"\"}, \"colorscale\": [[0.0, \"#0d0887\"], [0.1111111111111111, \"#46039f\"], [0.2222222222222222, \"#7201a8\"], [0.3333333333333333, \"#9c179e\"], [0.4444444444444444, \"#bd3786\"], [0.5555555555555556, \"#d8576b\"], [0.6666666666666666, \"#ed7953\"], [0.7777777777777778, \"#fb9f3a\"], [0.8888888888888888, \"#fdca26\"], [1.0, \"#f0f921\"]], \"type\": \"histogram2dcontour\"}], \"mesh3d\": [{\"colorbar\": {\"outlinewidth\": 0, \"ticks\": \"\"}, \"type\": \"mesh3d\"}], \"parcoords\": [{\"line\": {\"colorbar\": {\"outlinewidth\": 0, \"ticks\": \"\"}}, \"type\": \"parcoords\"}], \"pie\": [{\"automargin\": true, \"type\": \"pie\"}], \"scatter\": [{\"marker\": {\"colorbar\": {\"outlinewidth\": 0, \"ticks\": \"\"}}, \"type\": \"scatter\"}], \"scatter3d\": [{\"line\": {\"colorbar\": {\"outlinewidth\": 0, \"ticks\": \"\"}}, \"marker\": {\"colorbar\": {\"outlinewidth\": 0, \"ticks\": \"\"}}, \"type\": \"scatter3d\"}], \"scattercarpet\": [{\"marker\": {\"colorbar\": {\"outlinewidth\": 0, \"ticks\": \"\"}}, \"type\": \"scattercarpet\"}], \"scattergeo\": [{\"marker\": {\"colorbar\": {\"outlinewidth\": 0, \"ticks\": \"\"}}, \"type\": \"scattergeo\"}], \"scattergl\": [{\"marker\": {\"colorbar\": {\"outlinewidth\": 0, \"ticks\": \"\"}}, \"type\": \"scattergl\"}], \"scattermapbox\": [{\"marker\": {\"colorbar\": {\"outlinewidth\": 0, \"ticks\": \"\"}}, \"type\": \"scattermapbox\"}], \"scatterpolar\": [{\"marker\": {\"colorbar\": {\"outlinewidth\": 0, \"ticks\": \"\"}}, \"type\": \"scatterpolar\"}], \"scatterpolargl\": [{\"marker\": {\"colorbar\": {\"outlinewidth\": 0, \"ticks\": \"\"}}, \"type\": \"scatterpolargl\"}], \"scatterternary\": [{\"marker\": {\"colorbar\": {\"outlinewidth\": 0, \"ticks\": \"\"}}, \"type\": \"scatterternary\"}], \"surface\": [{\"colorbar\": {\"outlinewidth\": 0, \"ticks\": \"\"}, \"colorscale\": [[0.0, \"#0d0887\"], [0.1111111111111111, \"#46039f\"], [0.2222222222222222, \"#7201a8\"], [0.3333333333333333, \"#9c179e\"], [0.4444444444444444, \"#bd3786\"], [0.5555555555555556, \"#d8576b\"], [0.6666666666666666, \"#ed7953\"], [0.7777777777777778, \"#fb9f3a\"], [0.8888888888888888, \"#fdca26\"], [1.0, \"#f0f921\"]], \"type\": \"surface\"}], \"table\": [{\"cells\": {\"fill\": {\"color\": \"#EBF0F8\"}, \"line\": {\"color\": \"white\"}}, \"header\": {\"fill\": {\"color\": \"#C8D4E3\"}, \"line\": {\"color\": \"white\"}}, \"type\": \"table\"}]}, \"layout\": {\"annotationdefaults\": {\"arrowcolor\": \"#2a3f5f\", \"arrowhead\": 0, \"arrowwidth\": 1}, \"coloraxis\": {\"colorbar\": {\"outlinewidth\": 0, \"ticks\": \"\"}}, \"colorscale\": {\"diverging\": [[0, \"#8e0152\"], [0.1, \"#c51b7d\"], [0.2, \"#de77ae\"], [0.3, \"#f1b6da\"], [0.4, \"#fde0ef\"], [0.5, \"#f7f7f7\"], [0.6, \"#e6f5d0\"], [0.7, \"#b8e186\"], [0.8, \"#7fbc41\"], [0.9, \"#4d9221\"], [1, \"#276419\"]], \"sequential\": [[0.0, \"#0d0887\"], [0.1111111111111111, \"#46039f\"], [0.2222222222222222, \"#7201a8\"], [0.3333333333333333, \"#9c179e\"], [0.4444444444444444, \"#bd3786\"], [0.5555555555555556, \"#d8576b\"], [0.6666666666666666, \"#ed7953\"], [0.7777777777777778, \"#fb9f3a\"], [0.8888888888888888, \"#fdca26\"], [1.0, \"#f0f921\"]], \"sequentialminus\": [[0.0, \"#0d0887\"], [0.1111111111111111, \"#46039f\"], [0.2222222222222222, \"#7201a8\"], [0.3333333333333333, \"#9c179e\"], [0.4444444444444444, \"#bd3786\"], [0.5555555555555556, \"#d8576b\"], [0.6666666666666666, \"#ed7953\"], [0.7777777777777778, \"#fb9f3a\"], [0.8888888888888888, \"#fdca26\"], [1.0, \"#f0f921\"]]}, \"colorway\": [\"#636efa\", \"#EF553B\", \"#00cc96\", \"#ab63fa\", \"#FFA15A\", \"#19d3f3\", \"#FF6692\", \"#B6E880\", \"#FF97FF\", \"#FECB52\"], \"font\": {\"color\": \"#2a3f5f\"}, \"geo\": {\"bgcolor\": \"white\", \"lakecolor\": \"white\", \"landcolor\": \"#E5ECF6\", \"showlakes\": true, \"showland\": true, \"subunitcolor\": \"white\"}, \"hoverlabel\": {\"align\": \"left\"}, \"hovermode\": \"closest\", \"mapbox\": {\"style\": \"light\"}, \"paper_bgcolor\": \"white\", \"plot_bgcolor\": \"#E5ECF6\", \"polar\": {\"angularaxis\": {\"gridcolor\": \"white\", \"linecolor\": \"white\", \"ticks\": \"\"}, \"bgcolor\": \"#E5ECF6\", \"radialaxis\": {\"gridcolor\": \"white\", \"linecolor\": \"white\", \"ticks\": \"\"}}, \"scene\": {\"xaxis\": {\"backgroundcolor\": \"#E5ECF6\", \"gridcolor\": \"white\", \"gridwidth\": 2, \"linecolor\": \"white\", \"showbackground\": true, \"ticks\": \"\", \"zerolinecolor\": \"white\"}, \"yaxis\": {\"backgroundcolor\": \"#E5ECF6\", \"gridcolor\": \"white\", \"gridwidth\": 2, \"linecolor\": \"white\", \"showbackground\": true, \"ticks\": \"\", \"zerolinecolor\": \"white\"}, \"zaxis\": {\"backgroundcolor\": \"#E5ECF6\", \"gridcolor\": \"white\", \"gridwidth\": 2, \"linecolor\": \"white\", \"showbackground\": true, \"ticks\": \"\", \"zerolinecolor\": \"white\"}}, \"shapedefaults\": {\"line\": {\"color\": \"#2a3f5f\"}}, \"ternary\": {\"aaxis\": {\"gridcolor\": \"white\", \"linecolor\": \"white\", \"ticks\": \"\"}, \"baxis\": {\"gridcolor\": \"white\", \"linecolor\": \"white\", \"ticks\": \"\"}, \"bgcolor\": \"#E5ECF6\", \"caxis\": {\"gridcolor\": \"white\", \"linecolor\": \"white\", \"ticks\": \"\"}}, \"title\": {\"x\": 0.05}, \"xaxis\": {\"automargin\": true, \"gridcolor\": \"white\", \"linecolor\": \"white\", \"ticks\": \"\", \"title\": {\"standoff\": 15}, \"zerolinecolor\": \"white\", \"zerolinewidth\": 2}, \"yaxis\": {\"automargin\": true, \"gridcolor\": \"white\", \"linecolor\": \"white\", \"ticks\": \"\", \"title\": {\"standoff\": 15}, \"zerolinecolor\": \"white\", \"zerolinewidth\": 2}}}, \"title\": {\"text\": \"Embeddings of chapter \\u21161\"}},\n",
              "                        {\"responsive\": true}\n",
              "                    ).then(function(){\n",
              "                            \n",
              "var gd = document.getElementById('f562a479-95a5-4c71-b474-820921ab7bde');\n",
              "var x = new MutationObserver(function (mutations, observer) {{\n",
              "        var display = window.getComputedStyle(gd).display;\n",
              "        if (!display || display === 'none') {{\n",
              "            console.log([gd, 'removed!']);\n",
              "            Plotly.purge(gd);\n",
              "            observer.disconnect();\n",
              "        }}\n",
              "}});\n",
              "\n",
              "// Listen for the removal of the full notebook cells\n",
              "var notebookContainer = gd.closest('#notebook-container');\n",
              "if (notebookContainer) {{\n",
              "    x.observe(notebookContainer, {childList: true});\n",
              "}}\n",
              "\n",
              "// Listen for the clearing of the current output cell\n",
              "var outputEl = gd.closest('.output');\n",
              "if (outputEl) {{\n",
              "    x.observe(outputEl, {childList: true});\n",
              "}}\n",
              "\n",
              "                        })\n",
              "                };\n",
              "                \n",
              "            </script>\n",
              "        </div>\n",
              "</body>\n",
              "</html>"
            ]
          },
          "metadata": {
            "tags": []
          }
        }
      ]
    },
    {
      "cell_type": "code",
      "metadata": {
        "id": "sMtyyBfBRuHv",
        "colab_type": "code",
        "colab": {}
      },
      "source": [
        "def visualize(ind, filename, title=\"Article №\", eps_=0.5, min_samples_=5,n_=35, m_=0.9, show=False):\n",
        "    title = title + str(ind+1)\n",
        "    # Initialize\n",
        "    mapper = km.KeplerMapper(verbose=1)\n",
        "    # Fit to and transform the data\n",
        "    projected_data = mapper.fit_transform(df['embedding'][ind], projection=umap.UMAP(n_components=2,\n",
        "                                                                     metric='cosine')) #euclidean, cosine\n",
        "    # Create dictionary called 'graph' with nodes, edges and meta-information\n",
        "    graph = mapper.map(projected_data, clusterer=sklearn.cluster.DBSCAN(eps=eps_, min_samples=min_samples_),\n",
        "                          cover=km.Cover(n_, m_), remove_duplicate_nodes=True)\n",
        "    # Visualize it\n",
        "    path = 'drive/My Drive/'+filename +'.html'\n",
        "    html = mapper.visualize(graph, path_html=path, title=title)\n",
        "    if show:\n",
        "        #jupyter.display(path_html=path)\n",
        "        km.drawing.draw_matplotlib(graph)"
      ],
      "execution_count": 0,
      "outputs": []
    },
    {
      "cell_type": "code",
      "metadata": {
        "id": "fjeMCr-lR1po",
        "colab_type": "code",
        "colab": {
          "base_uri": "https://localhost:8080/",
          "height": 1000
        },
        "outputId": "f7f7e920-9e4e-4860-9b68-9dbab1ded10e"
      },
      "source": [
        "visualize(1, 'Article_2', show=True)"
      ],
      "execution_count": 272,
      "outputs": [
        {
          "output_type": "stream",
          "text": [
            "KeplerMapper()\n",
            "..Composing projection pipeline of length 1:\n",
            "\tProjections: UMAP(a=None, angular_rp_forest=False, b=None, init='spectral',\n",
            "     learning_rate=1.0, local_connectivity=1.0, metric='cosine',\n",
            "     metric_kwds=None, min_dist=0.1, n_components=2, n_epochs=None,\n",
            "     n_neighbors=15, negative_sample_rate=5, random_state=None,\n",
            "     repulsion_strength=1.0, set_op_mix_ratio=1.0, spread=1.0,\n",
            "     target_metric='categorical', target_metric_kwds=None,\n",
            "     target_n_neighbors=-1, target_weight=0.5, transform_queue_size=4.0,\n",
            "     transform_seed=42, verbose=False)\n",
            "\tDistance matrices: False\n",
            "\tScalers: MinMaxScaler(copy=True, feature_range=(0, 1))\n",
            "..Projecting on data shaped (24, 1024)\n",
            "\n",
            "..Projecting data using: \n",
            "\tUMAP(a=None, angular_rp_forest=False, b=None, init='spectral',\n",
            "     learning_rate=1.0, local_connectivity=1.0, metric='cosine',\n",
            "     metric_kwds=None, min_dist=0.1, n_components=2, n_epochs=None,\n",
            "     n_neighbors=15, negative_sample_rate=5, random_state=None,\n",
            "     repulsion_strength=1.0, set_op_mix_ratio=1.0, spread=1.0,\n",
            "     target_metric='categorical', target_metric_kwds=None,\n",
            "     target_n_neighbors=-1, target_weight=0.5, transform_queue_size=4.0,\n",
            "     transform_seed=42, verbose=1)\n",
            "\n",
            "UMAP(a=None, angular_rp_forest=False, b=None, init='spectral',\n",
            "     learning_rate=1.0, local_connectivity=1.0, metric='cosine',\n",
            "     metric_kwds=None, min_dist=0.1, n_components=2, n_epochs=None,\n",
            "     n_neighbors=15, negative_sample_rate=5, random_state=None,\n",
            "     repulsion_strength=1.0, set_op_mix_ratio=1.0, spread=1.0,\n",
            "     target_metric='categorical', target_metric_kwds=None,\n",
            "     target_n_neighbors=-1, target_weight=0.5, transform_queue_size=4.0,\n",
            "     transform_seed=42, verbose=1)\n",
            "Construct fuzzy simplicial set\n",
            "Mon Feb 24 14:49:30 2020 Finding Nearest Neighbors\n",
            "Mon Feb 24 14:49:30 2020 Finished Nearest Neighbor Search\n",
            "Mon Feb 24 14:49:30 2020 Construct embedding\n",
            "\tcompleted  0  /  500 epochs\n",
            "\tcompleted  50  /  500 epochs\n",
            "\tcompleted  100  /  500 epochs\n",
            "\tcompleted  150  /  500 epochs\n",
            "\tcompleted  200  /  500 epochs\n",
            "\tcompleted  250  /  500 epochs\n",
            "\tcompleted  300  /  500 epochs\n",
            "\tcompleted  350  /  500 epochs\n",
            "\tcompleted  400  /  500 epochs\n",
            "\tcompleted  450  /  500 epochs\n",
            "Mon Feb 24 14:49:30 2020 Finished embedding\n",
            "\n",
            "..Scaling with: MinMaxScaler(copy=True, feature_range=(0, 1))\n",
            "\n",
            "Mapping on data shaped (24, 2) using lens shaped (24, 2)\n",
            "\n",
            "Creating 1225 hypercubes.\n",
            "Merged 8 duplicate nodes.\n",
            "\n",
            "Number of nodes before merger: 15; after merger: 7\n",
            "\n",
            "\n",
            "Created 20 edges and 7 nodes in 0:00:00.036034.\n",
            "Wrote visualization to: drive/My Drive/Article_2.html\n"
          ],
          "name": "stdout"
        },
        {
          "output_type": "display_data",
          "data": {
            "image/png": "[encoded data removed]",
            "text/plain": [
              "<Figure size 432x288 with 1 Axes>"
            ]
          },
          "metadata": {
            "tags": []
          }
        }
      ]
    },
    {
      "cell_type": "code",
      "metadata": {
        "id": "duXeLaq7kTuN",
        "colab_type": "code",
        "colab": {
          "base_uri": "https://localhost:8080/",
          "height": 1000
        },
        "outputId": "effa9a1d-68a7-4fcf-b6ba-99748bb2848b"
      },
      "source": [
        "print(len(df['embedding'][0]))\n",
        "visualize(0, 'Article_1',eps_=0.3, min_samples_= 3, n_=5, m_=0.9, show=True)"
      ],
      "execution_count": 269,
      "outputs": [
        {
          "output_type": "stream",
          "text": [
            "14\n",
            "KeplerMapper()\n",
            "..Composing projection pipeline of length 1:\n",
            "\tProjections: UMAP(a=None, angular_rp_forest=False, b=None, init='spectral',\n",
            "     learning_rate=1.0, local_connectivity=1.0, metric='cosine',\n",
            "     metric_kwds=None, min_dist=0.1, n_components=2, n_epochs=None,\n",
            "     n_neighbors=15, negative_sample_rate=5, random_state=None,\n",
            "     repulsion_strength=1.0, set_op_mix_ratio=1.0, spread=1.0,\n",
            "     target_metric='categorical', target_metric_kwds=None,\n",
            "     target_n_neighbors=-1, target_weight=0.5, transform_queue_size=4.0,\n",
            "     transform_seed=42, verbose=False)\n",
            "\tDistance matrices: False\n",
            "\tScalers: MinMaxScaler(copy=True, feature_range=(0, 1))\n",
            "..Projecting on data shaped (14, 1024)\n",
            "\n",
            "..Projecting data using: \n",
            "\tUMAP(a=None, angular_rp_forest=False, b=None, init='spectral',\n",
            "     learning_rate=1.0, local_connectivity=1.0, metric='cosine',\n",
            "     metric_kwds=None, min_dist=0.1, n_components=2, n_epochs=None,\n",
            "     n_neighbors=15, negative_sample_rate=5, random_state=None,\n",
            "     repulsion_strength=1.0, set_op_mix_ratio=1.0, spread=1.0,\n",
            "     target_metric='categorical', target_metric_kwds=None,\n",
            "     target_n_neighbors=-1, target_weight=0.5, transform_queue_size=4.0,\n",
            "     transform_seed=42, verbose=1)\n",
            "\n",
            "UMAP(a=None, angular_rp_forest=False, b=None, init='spectral',\n",
            "     learning_rate=1.0, local_connectivity=1.0, metric='cosine',\n",
            "     metric_kwds=None, min_dist=0.1, n_components=2, n_epochs=None,\n",
            "     n_neighbors=15, negative_sample_rate=5, random_state=None,\n",
            "     repulsion_strength=1.0, set_op_mix_ratio=1.0, spread=1.0,\n",
            "     target_metric='categorical', target_metric_kwds=None,\n",
            "     target_n_neighbors=-1, target_weight=0.5, transform_queue_size=4.0,\n",
            "     transform_seed=42, verbose=1)\n",
            "Construct fuzzy simplicial set\n",
            "Mon Feb 24 14:49:02 2020 Finding Nearest Neighbors\n",
            "Mon Feb 24 14:49:02 2020 Finished Nearest Neighbor Search\n",
            "Mon Feb 24 14:49:02 2020 Construct embedding\n",
            "\tcompleted  0  /  500 epochs\n",
            "\tcompleted  50  /  500 epochs\n",
            "\tcompleted  100  /  500 epochs\n",
            "\tcompleted  150  /  500 epochs\n",
            "\tcompleted  200  /  500 epochs\n",
            "\tcompleted  250  /  500 epochs\n",
            "\tcompleted  300  /  500 epochs\n",
            "\tcompleted  350  /  500 epochs\n",
            "\tcompleted  400  /  500 epochs\n",
            "\tcompleted  450  /  500 epochs\n",
            "Mon Feb 24 14:49:02 2020 Finished embedding\n",
            "\n",
            "..Scaling with: MinMaxScaler(copy=True, feature_range=(0, 1))\n",
            "\n",
            "Mapping on data shaped (14, 2) using lens shaped (14, 2)\n",
            "\n",
            "Creating 25 hypercubes.\n",
            "Merged 48 duplicate nodes.\n",
            "\n",
            "Number of nodes before merger: 50; after merger: 2\n",
            "\n",
            "\n",
            "Created 0 edges and 2 nodes in 0:00:00.021785.\n",
            "Wrote visualization to: drive/My Drive/Article_1.html\n"
          ],
          "name": "stdout"
        },
        {
          "output_type": "display_data",
          "data": {
            "image/png": "[encoded data removed]",
            "text/plain": [
              "<Figure size 432x288 with 1 Axes>"
            ]
          },
          "metadata": {
            "tags": []
          }
        }
      ]
    },
    {
      "cell_type": "code",
      "metadata": {
        "id": "lyo7-KRymbqW",
        "colab_type": "code",
        "colab": {
          "base_uri": "https://localhost:8080/",
          "height": 34
        },
        "outputId": "c52fe31e-7d00-42d6-a4f3-598ca0a9717a"
      },
      "source": [
        "max_len = 0\n",
        "max_ind = -1\n",
        "for i in range(len(df['embedding'])):\n",
        "  len_emb = len(df['embedding'][i])\n",
        "  if len_emb > max_len:\n",
        "    max_len = len_emb\n",
        "    max_ind = i\n",
        "max_len, max_ind"
      ],
      "execution_count": 247,
      "outputs": [
        {
          "output_type": "execute_result",
          "data": {
            "text/plain": [
              "(48, 503)"
            ]
          },
          "metadata": {
            "tags": []
          },
          "execution_count": 247
        }
      ]
    }
  ]
}
